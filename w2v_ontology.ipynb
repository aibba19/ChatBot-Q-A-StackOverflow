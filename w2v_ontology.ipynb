{
 "cells": [
  {
   "cell_type": "code",
   "execution_count": 1,
   "id": "18ea3f2b-fda7-4b8b-934b-8cc99948b483",
   "metadata": {},
   "outputs": [],
   "source": [
    "import pandas as pd\n",
    "import gensim\n",
    "from sklearn.metrics.pairwise import cosine_similarity\n",
    "import numpy as np\n",
    "import spacy\n",
    "%run calculateSentence.ipynb\n",
    "import preprocessing\n",
    "import tfidf\n",
    "pd.set_option('max_colwidth', 5000)"
   ]
  },
  {
   "cell_type": "code",
   "execution_count": 2,
   "id": "73b714b9-5717-4d19-a63c-6425acb93779",
   "metadata": {},
   "outputs": [],
   "source": [
    "#Importazione DB\n",
    "\n",
    "data = pd.read_csv('DB/Preprocessed_ontology.csv')"
   ]
  },
  {
   "cell_type": "code",
   "execution_count": 3,
   "id": "29d456a1-82c3-48b7-a37d-d79a701fb6b4",
   "metadata": {
    "tags": []
   },
   "outputs": [
    {
     "data": {
      "text/plain": [
       "<gensim.models.word2vec.Word2Vec at 0x20610d2e940>"
      ]
     },
     "execution_count": 3,
     "metadata": {},
     "output_type": "execute_result"
    }
   ],
   "source": [
    "#Importazione WordEmbeddings\n",
    "\n",
    "word_2_vec_model = gensim.models.word2vec.Word2Vec.load('DB/word2vec_trained.bin')\n",
    "word_2_vec_model"
   ]
  },
  {
   "cell_type": "code",
   "execution_count": 4,
   "id": "94f38640-5491-4739-b14f-5f855655bc5f",
   "metadata": {},
   "outputs": [],
   "source": [
    "def normalize(words):\n",
    "    words = preprocessing.clear_text(words,\"w2v\")\n",
    "    return words"
   ]
  },
  {
   "cell_type": "code",
   "execution_count": 5,
   "id": "8d75f224-8246-49b6-915a-a28d9e8b70ae",
   "metadata": {},
   "outputs": [],
   "source": [
    "def deleteRow(data):\n",
    "    \n",
    "    row = []\n",
    "                \n",
    "    for tmp in data:\n",
    "        if tmp[2] != []:\n",
    "            row.append(tmp)\n",
    "    \n",
    "    return row"
   ]
  },
  {
   "cell_type": "code",
   "execution_count": 23,
   "id": "edaf389b-94b3-4bdf-be6e-ef3f61d84b2a",
   "metadata": {},
   "outputs": [],
   "source": [
    "def w2v_result(txt, tag):\n",
    "    stringSearch = normalize(txt)\n",
    "\n",
    "    #print(stringSearch)\n",
    "\n",
    "    numberResult = 3\n",
    "\n",
    "    #Viene vettorizzata la query dell'utente\n",
    "\n",
    "    vectorSearch = np.array([questionToVec(stringSearch, word_2_vec_model)])\n",
    "    \n",
    "    #Carico il file con gli embeddings dei titoli sui quali effettuare la corrispondenza\n",
    "    allFuncEmb = pd.read_csv('DB/functionEmbeddings.csv').values\n",
    "\n",
    "    #Calcolo della similarità del coseno for le query e tutti i titoli\n",
    "\n",
    "    similarityCosine = pd.Series(cosine_similarity(vectorSearch, allFuncEmb)[0])\n",
    "    \n",
    "    #Lista che conterrà coppie i,j con i indice e j score di similarità\n",
    "    results = []\n",
    "    \n",
    "    #Se tag è null vuol dire che siamo alla prima iterazione e non dobbiamo filtrare su nessun tag\n",
    "    if tag == None :   \n",
    "        #Una volta calcolati gli score di similarità rendo i 10 più alti\n",
    "        for i,j in similarityCosine.nlargest(numberResult).iteritems():\n",
    "            #print(i, data.Body[i])\n",
    "            #Filtro i tag da rendere come risultato, eliminando quelli che sono già presenti nella string search per facilitare prossimi passaggi \n",
    "            description = data.iloc[[i]].description.item()\n",
    "            function = data.iloc[[i]].function.item()\n",
    "                    \n",
    "            results.append(tuple([function,description, j]))\n",
    "        #results = deleteRow(results)\n",
    "    return results"
   ]
  },
  {
   "cell_type": "code",
   "execution_count": 12,
   "id": "84cae8c8-78aa-49a8-bab5-0ded7c99645d",
   "metadata": {},
   "outputs": [
    {
     "data": {
      "text/html": [
       "<div>\n",
       "<style scoped>\n",
       "    .dataframe tbody tr th:only-of-type {\n",
       "        vertical-align: middle;\n",
       "    }\n",
       "\n",
       "    .dataframe tbody tr th {\n",
       "        vertical-align: top;\n",
       "    }\n",
       "\n",
       "    .dataframe thead th {\n",
       "        text-align: right;\n",
       "    }\n",
       "</style>\n",
       "<table border=\"1\" class=\"dataframe\">\n",
       "  <thead>\n",
       "    <tr style=\"text-align: right;\">\n",
       "      <th></th>\n",
       "      <th>function</th>\n",
       "      <th>description</th>\n",
       "      <th>return_value</th>\n",
       "      <th>description_processed</th>\n",
       "    </tr>\n",
       "  </thead>\n",
       "  <tbody>\n",
       "    <tr>\n",
       "      <th>5</th>\n",
       "      <td>java.awt.GridBagLayout-minimumLayoutSize(java.awt.Container)</td>\n",
       "      <td>Determines the minimum size of the parent container  using this grid bag layout.    Most applications do not call this method directly.</td>\n",
       "      <td>the minimum size of the parent container</td>\n",
       "      <td>determines minimum size parent container using grid bag layout applications call method directly</td>\n",
       "    </tr>\n",
       "  </tbody>\n",
       "</table>\n",
       "</div>"
      ],
      "text/plain": [
       "                                                       function  \\\n",
       "5  java.awt.GridBagLayout-minimumLayoutSize(java.awt.Container)   \n",
       "\n",
       "                                                                                                                                 description  \\\n",
       "5  Determines the minimum size of the parent container  using this grid bag layout.    Most applications do not call this method directly.     \n",
       "\n",
       "                               return_value  \\\n",
       "5  the minimum size of the parent container   \n",
       "\n",
       "                                                                               description_processed  \n",
       "5  determines minimum size parent container using grid bag layout applications call method directly   "
      ]
     },
     "execution_count": 12,
     "metadata": {},
     "output_type": "execute_result"
    }
   ],
   "source": [
    "data.iloc[[5]]"
   ]
  },
  {
   "cell_type": "code",
   "execution_count": 25,
   "id": "7fac197e-6bbc-4c3a-b61b-761ff4fd6c6d",
   "metadata": {},
   "outputs": [
    {
     "data": {
      "text/plain": [
       "[('java.util.List-iterator()',\n",
       "  'Returns an iterator over the elements in this list in proper sequence.   ',\n",
       "  0.31718905633834316),\n",
       " ('java.util.ArrayList-iterator()',\n",
       "  'Returns an iterator over the elements in this list in proper sequence.   The returned iterator is fail-fast.   ',\n",
       "  0.28686708738494976),\n",
       " ('javax.smartcardio.CardTerminals-list()',\n",
       "  'Returns an unmodifiable list of all available terminals.   ',\n",
       "  0.252603254153486)]"
      ]
     },
     "execution_count": 25,
     "metadata": {},
     "output_type": "execute_result"
    }
   ],
   "source": [
    "w2v_result('for loop in Python',None)"
   ]
  },
  {
   "cell_type": "code",
   "execution_count": null,
   "id": "1335a0e4-3764-412c-b755-970f22af67ea",
   "metadata": {},
   "outputs": [],
   "source": []
  }
 ],
 "metadata": {
  "kernelspec": {
   "display_name": "Python 3 (ipykernel)",
   "language": "python",
   "name": "python3"
  },
  "language_info": {
   "codemirror_mode": {
    "name": "ipython",
    "version": 3
   },
   "file_extension": ".py",
   "mimetype": "text/x-python",
   "name": "python",
   "nbconvert_exporter": "python",
   "pygments_lexer": "ipython3",
   "version": "3.9.10"
  }
 },
 "nbformat": 4,
 "nbformat_minor": 5
}
