{
 "cells": [
  {
   "cell_type": "code",
   "execution_count": 5,
   "id": "4ac5faa6-954b-4e58-abc1-79f3a18f6482",
   "metadata": {},
   "outputs": [],
   "source": [
    "import numpy as np\n",
    "import csv\n",
    "import sys\n",
    "from scipy.spatial.distance import cosine"
   ]
  },
  {
   "cell_type": "code",
   "execution_count": 4,
   "id": "14b76e7b-1f54-42cd-a68c-2ced2223a83c",
   "metadata": {},
   "outputs": [
    {
     "ename": "SyntaxError",
     "evalue": "'return' outside function (3320626788.py, line 10)",
     "output_type": "error",
     "traceback": [
      "\u001b[0;36m  File \u001b[0;32m\"/var/folders/7j/b9v_1c594f74fpz8g452mpfr0000gn/T/ipykernel_6231/3320626788.py\"\u001b[0;36m, line \u001b[0;32m10\u001b[0m\n\u001b[0;31m    return model\u001b[0m\n\u001b[0m    ^\u001b[0m\n\u001b[0;31mSyntaxError\u001b[0m\u001b[0;31m:\u001b[0m 'return' outside function\n"
     ]
    }
   ],
   "source": [
    "import fasttext\n",
    "\n",
    "#model = fasttext.train_unsupervised('data/fil9')\n",
    "#model.save_model(\"result\")\n",
    "\n",
    "model = fasttext.load_model(\"result.bin\")\n",
    "#model.get_word_vector(\"the\")\n",
    "#model.get_nearest_neighbors('pidgey')\n",
    "#model.get_analogies(\"psx\", \"sony\", \"nintendo\")"
   ]
  },
  {
   "cell_type": "code",
   "execution_count": 1,
   "id": "7b88502a-f8d1-4065-8088-b968eebf3f0e",
   "metadata": {},
   "outputs": [
    {
     "name": "stderr",
     "output_type": "stream",
     "text": [
      "Read 0M words\n",
      "Number of words:  37\n",
      "Number of labels: 0\n",
      "Progress: 100.0% words/sec/thread:   19192 lr:  0.000000 avg.loss:  4.117981 ETA:   0h 0m 0s\n"
     ]
    }
   ],
   "source": [
    "import fasttext\n",
    "\n",
    "model1 = fasttext.train_unsupervised('file.txt')\n",
    "model1.save_model(\"result_prova.bin\")\n",
    "\n",
    "model1 = fasttext.load_model(\"result_prova.bin\")\n",
    "#model1.get_word_vector(\"happy\")\n",
    "#model1.get_nearest_neighbors('jesus')\n",
    "#model1.get_analogies(\"psx\", \"sony\", \"nintendo\")"
   ]
  },
  {
   "cell_type": "code",
   "execution_count": null,
   "id": "c53abff4-3025-4c20-8aa6-ef7bd1496bf2",
   "metadata": {},
   "outputs": [],
   "source": []
  }
 ],
 "metadata": {
  "kernelspec": {
   "display_name": "Python 3 (ipykernel)",
   "language": "python",
   "name": "python3"
  },
  "language_info": {
   "codemirror_mode": {
    "name": "ipython",
    "version": 3
   },
   "file_extension": ".py",
   "mimetype": "text/x-python",
   "name": "python",
   "nbconvert_exporter": "python",
   "pygments_lexer": "ipython3",
   "version": "3.8.2"
  }
 },
 "nbformat": 4,
 "nbformat_minor": 5
}
