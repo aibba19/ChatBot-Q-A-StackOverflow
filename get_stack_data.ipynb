{
 "cells": [
  {
   "cell_type": "markdown",
   "id": "461f2299-6906-4809-acab-6e7c76ad35e3",
   "metadata": {},
   "source": [
    "<h1>Get Data</h1>\n",
    "\n",
    "<h2>Data Collection</h2>\n",
    "\n",
    "Updated on a quarterly basis, this BigQuery dataset includes an archive of Stack Overflow content, including posts, votes, tags, and badges. This dataset is updated to mirror the Stack Overflow content on the Internet Archive.\n",
    "More info about the dataset is given at: https://www.kaggle.com/stackoverflow/stackoverflow\n",
    "\n",
    "To collect the data we need to gather Questions and Answer that were posted on Stack Overflow. Thus what we need are the following:\n",
    "\n",
    "- Title\n",
    "- Question body\n",
    "- Answers for that question\n",
    "- Votes for each answers\n",
    "\n",
    "We decide to restrict the query only to questions that has 'python' has a tag, due to the abundance of Q&A in Stack Overflow, to perform better test and try to give more precise answers.\n",
    "However this process can be done over other argument just by changing the LIKE '%python%' word."
   ]
  },
  {
   "cell_type": "code",
   "execution_count": 1,
   "id": "8edf02c1-3aad-4235-b30e-c20bd39aaf10",
   "metadata": {},
   "outputs": [
    {
     "data": {
      "text/plain": [
       "'\\nimport bq_helper\\nimport pyarrow\\nfrom bq_helper import BigQueryHelper\\nimport os\\n\\n#Initialize credential for google query\\nos.environ[\"GOOGLE_APPLICATION_CREDENTIALS\"]=\"CREDENTIALS.json\"\\nbq_assistant = BigQueryHelper(\"bigquery-public-data\", \"stackoverflow\")\\n\\n#Query for retrieve data\\nQUERY = \"SELECT q.id, q.title, q.body, q.tags, a.body as answers, a.score FROM `bigquery-public-data.stackoverflow.posts_questions` AS q INNER JOIN `bigquery-public-data.stackoverflow.posts_answers` AS a ON q.id = a.parent_id WHERE q.tags LIKE \\'%python%\\' LIMIT 500000\"\\ndf = bq_assistant.query_to_pandas(QUERY)\\ndf.to_csv(\\'DB/Original_data.csv\\')\\n'"
      ]
     },
     "execution_count": 1,
     "metadata": {},
     "output_type": "execute_result"
    }
   ],
   "source": [
    "'''\n",
    "import bq_helper\n",
    "import pyarrow\n",
    "from bq_helper import BigQueryHelper\n",
    "import os\n",
    "\n",
    "#Initialize credential for google query\n",
    "os.environ[\"GOOGLE_APPLICATION_CREDENTIALS\"]=\"CREDENTIALS.json\"\n",
    "bq_assistant = BigQueryHelper(\"bigquery-public-data\", \"stackoverflow\")\n",
    "\n",
    "#Query for retrieve data\n",
    "QUERY = \"SELECT q.id, q.title, q.body, q.tags, a.body as answers, a.score FROM `bigquery-public-data.stackoverflow.posts_questions` AS q INNER JOIN `bigquery-public-data.stackoverflow.posts_answers` AS a ON q.id = a.parent_id WHERE q.tags LIKE '%python%' LIMIT 500000\"\n",
    "df = bq_assistant.query_to_pandas(QUERY)\n",
    "df.to_csv('DB/Original_data.csv')\n",
    "'''"
   ]
  },
  {
   "cell_type": "code",
   "execution_count": 2,
   "id": "0c5432f5-f3a5-45d5-a8ac-d93557a8da7c",
   "metadata": {},
   "outputs": [
    {
     "name": "stderr",
     "output_type": "stream",
     "text": [
      "ERROR:root:Internal Python error in the inspect module.\n",
      "Below is the traceback from this internal error.\n",
      "\n"
     ]
    },
    {
     "name": "stdout",
     "output_type": "stream",
     "text": [
      "Traceback (most recent call last):\n",
      "  File \"C:\\Users\\andri\\.virtualenvs\\Progetto_StackOverflow-UQruahqZ\\lib\\site-packages\\IPython\\core\\interactiveshell.py\", line 3444, in run_code\n",
      "    exec(code_obj, self.user_global_ns, self.user_ns)\n",
      "  File \"C:\\Users\\Public\\Documents\\Wondershare\\CreatorTemp/ipykernel_10624/836472124.py\", line 1, in <module>\n",
      "    import pandas as pd\n",
      "  File \"C:\\Users\\andri\\.virtualenvs\\Progetto_StackOverflow-UQruahqZ\\lib\\site-packages\\pandas\\__init__.py\", line 22, in <module>\n",
      "    from pandas.compat import (\n",
      "  File \"C:\\Users\\andri\\.virtualenvs\\Progetto_StackOverflow-UQruahqZ\\lib\\site-packages\\pandas\\compat\\__init__.py\", line 15, in <module>\n",
      "    from pandas.compat.numpy import (\n",
      "  File \"C:\\Users\\andri\\.virtualenvs\\Progetto_StackOverflow-UQruahqZ\\lib\\site-packages\\pandas\\compat\\numpy\\__init__.py\", line 7, in <module>\n",
      "    from pandas.util.version import Version\n",
      "  File \"C:\\Users\\andri\\.virtualenvs\\Progetto_StackOverflow-UQruahqZ\\lib\\site-packages\\pandas\\util\\__init__.py\", line 1, in <module>\n",
      "    from pandas.util._decorators import (  # noqa\n",
      "  File \"C:\\Users\\andri\\.virtualenvs\\Progetto_StackOverflow-UQruahqZ\\lib\\site-packages\\pandas\\util\\_decorators.py\", line 14, in <module>\n",
      "    from pandas._libs.properties import cache_readonly  # noqa\n",
      "  File \"C:\\Users\\andri\\.virtualenvs\\Progetto_StackOverflow-UQruahqZ\\lib\\site-packages\\pandas\\_libs\\__init__.py\", line 13, in <module>\n",
      "    from pandas._libs.interval import Interval\n",
      "  File \"pandas\\_libs\\interval.pyx\", line 1, in init pandas._libs.interval\n",
      "  File \"pandas\\_libs\\hashtable.pyx\", line 1, in init pandas._libs.hashtable\n",
      "  File \"pandas\\_libs\\missing.pyx\", line 1, in init pandas._libs.missing\n",
      "  File \"C:\\Users\\andri\\.virtualenvs\\Progetto_StackOverflow-UQruahqZ\\lib\\site-packages\\pandas\\_libs\\tslibs\\__init__.py\", line 31, in <module>\n",
      "    from pandas._libs.tslibs.conversion import (\n",
      "  File \"pandas\\_libs\\tslibs\\conversion.pyx\", line 63, in init pandas._libs.tslibs.conversion\n",
      "  File \"pandas\\_libs\\tslibs\\parsing.pyx\", line 1, in init pandas._libs.tslibs.parsing\n",
      "  File \"pandas\\_libs\\tslibs\\offsets.pyx\", line 1, in init pandas._libs.tslibs.offsets\n",
      "  File \"<frozen importlib._bootstrap>\", line 1007, in _find_and_load\n",
      "  File \"<frozen importlib._bootstrap>\", line 982, in _find_and_load_unlocked\n",
      "  File \"<frozen importlib._bootstrap>\", line 925, in _find_spec\n",
      "  File \"<frozen importlib._bootstrap_external>\", line 1414, in find_spec\n",
      "  File \"<frozen importlib._bootstrap_external>\", line 1386, in _get_spec\n",
      "  File \"<frozen importlib._bootstrap_external>\", line 1513, in find_spec\n",
      "  File \"<frozen importlib._bootstrap_external>\", line 142, in _path_stat\n",
      "KeyboardInterrupt\n",
      "\n",
      "During handling of the above exception, another exception occurred:\n",
      "\n",
      "Traceback (most recent call last):\n",
      "  File \"C:\\Users\\andri\\.virtualenvs\\Progetto_StackOverflow-UQruahqZ\\lib\\site-packages\\IPython\\core\\interactiveshell.py\", line 2064, in showtraceback\n",
      "    stb = value._render_traceback_()\n",
      "AttributeError: 'KeyboardInterrupt' object has no attribute '_render_traceback_'\n",
      "\n",
      "During handling of the above exception, another exception occurred:\n",
      "\n",
      "Traceback (most recent call last):\n",
      "  File \"C:\\Users\\andri\\.virtualenvs\\Progetto_StackOverflow-UQruahqZ\\lib\\site-packages\\IPython\\core\\ultratb.py\", line 1101, in get_records\n",
      "    return _fixed_getinnerframes(etb, number_of_lines_of_context, tb_offset)\n",
      "  File \"C:\\Users\\andri\\.virtualenvs\\Progetto_StackOverflow-UQruahqZ\\lib\\site-packages\\IPython\\core\\ultratb.py\", line 248, in wrapped\n",
      "    return f(*args, **kwargs)\n",
      "  File \"C:\\Users\\andri\\.virtualenvs\\Progetto_StackOverflow-UQruahqZ\\lib\\site-packages\\IPython\\core\\ultratb.py\", line 281, in _fixed_getinnerframes\n",
      "    records = fix_frame_records_filenames(inspect.getinnerframes(etb, context))\n",
      "  File \"C:\\Program Files\\WindowsApps\\PythonSoftwareFoundation.Python.3.9_3.9.2800.0_x64__qbz5n2kfra8p0\\lib\\inspect.py\", line 1543, in getinnerframes\n",
      "    frameinfo = (tb.tb_frame,) + getframeinfo(tb, context)\n",
      "  File \"C:\\Program Files\\WindowsApps\\PythonSoftwareFoundation.Python.3.9_3.9.2800.0_x64__qbz5n2kfra8p0\\lib\\inspect.py\", line 1505, in getframeinfo\n",
      "    lines, lnum = findsource(frame)\n",
      "  File \"C:\\Users\\andri\\.virtualenvs\\Progetto_StackOverflow-UQruahqZ\\lib\\site-packages\\IPython\\core\\ultratb.py\", line 182, in findsource\n",
      "    lines = linecache.getlines(file, globals_dict)\n",
      "  File \"C:\\Program Files\\WindowsApps\\PythonSoftwareFoundation.Python.3.9_3.9.2800.0_x64__qbz5n2kfra8p0\\lib\\linecache.py\", line 46, in getlines\n",
      "    return updatecache(filename, module_globals)\n",
      "  File \"C:\\Program Files\\WindowsApps\\PythonSoftwareFoundation.Python.3.9_3.9.2800.0_x64__qbz5n2kfra8p0\\lib\\linecache.py\", line 136, in updatecache\n",
      "    with tokenize.open(fullname) as fp:\n",
      "  File \"C:\\Program Files\\WindowsApps\\PythonSoftwareFoundation.Python.3.9_3.9.2800.0_x64__qbz5n2kfra8p0\\lib\\tokenize.py\", line 392, in open\n",
      "    buffer = _builtin_open(filename, 'rb')\n",
      "KeyboardInterrupt\n"
     ]
    },
    {
     "ename": "TypeError",
     "evalue": "object of type 'NoneType' has no len()",
     "output_type": "error",
     "traceback": [
      "\u001b[1;31m---------------------------------------------------------------------------\u001b[0m",
      "\u001b[1;31mKeyboardInterrupt\u001b[0m                         Traceback (most recent call last)",
      "    \u001b[1;31m[... skipping hidden 1 frame]\u001b[0m\n",
      "\u001b[1;32mC:\\Users\\Public\\Documents\\Wondershare\\CreatorTemp/ipykernel_10624/836472124.py\u001b[0m in \u001b[0;36m<module>\u001b[1;34m\u001b[0m\n\u001b[1;32m----> 1\u001b[1;33m \u001b[1;32mimport\u001b[0m \u001b[0mpandas\u001b[0m \u001b[1;32mas\u001b[0m \u001b[0mpd\u001b[0m\u001b[1;33m\u001b[0m\u001b[1;33m\u001b[0m\u001b[0m\n\u001b[0m\u001b[0;32m      2\u001b[0m \u001b[1;32mimport\u001b[0m \u001b[0mnumpy\u001b[0m \u001b[1;32mas\u001b[0m \u001b[0mnp\u001b[0m\u001b[1;33m\u001b[0m\u001b[1;33m\u001b[0m\u001b[0m\n\u001b[0;32m      3\u001b[0m \u001b[1;32mimport\u001b[0m \u001b[0mpreprocessing\u001b[0m\u001b[1;33m\u001b[0m\u001b[1;33m\u001b[0m\u001b[0m\n",
      "\u001b[1;32m~\\.virtualenvs\\Progetto_StackOverflow-UQruahqZ\\lib\\site-packages\\pandas\\__init__.py\u001b[0m in \u001b[0;36m<module>\u001b[1;34m\u001b[0m\n\u001b[0;32m     21\u001b[0m \u001b[1;31m# numpy compat\u001b[0m\u001b[1;33m\u001b[0m\u001b[1;33m\u001b[0m\u001b[0m\n\u001b[1;32m---> 22\u001b[1;33m from pandas.compat import (\n\u001b[0m\u001b[0;32m     23\u001b[0m     \u001b[0mnp_version_under1p18\u001b[0m \u001b[1;32mas\u001b[0m \u001b[0m_np_version_under1p18\u001b[0m\u001b[1;33m,\u001b[0m\u001b[1;33m\u001b[0m\u001b[1;33m\u001b[0m\u001b[0m\n",
      "\u001b[1;32m~\\.virtualenvs\\Progetto_StackOverflow-UQruahqZ\\lib\\site-packages\\pandas\\compat\\__init__.py\u001b[0m in \u001b[0;36m<module>\u001b[1;34m\u001b[0m\n\u001b[0;32m     14\u001b[0m \u001b[1;32mfrom\u001b[0m \u001b[0mpandas\u001b[0m\u001b[1;33m.\u001b[0m\u001b[0m_typing\u001b[0m \u001b[1;32mimport\u001b[0m \u001b[0mF\u001b[0m\u001b[1;33m\u001b[0m\u001b[1;33m\u001b[0m\u001b[0m\n\u001b[1;32m---> 15\u001b[1;33m from pandas.compat.numpy import (\n\u001b[0m\u001b[0;32m     16\u001b[0m     \u001b[0mis_numpy_dev\u001b[0m\u001b[1;33m,\u001b[0m\u001b[1;33m\u001b[0m\u001b[1;33m\u001b[0m\u001b[0m\n",
      "\u001b[1;32m~\\.virtualenvs\\Progetto_StackOverflow-UQruahqZ\\lib\\site-packages\\pandas\\compat\\numpy\\__init__.py\u001b[0m in \u001b[0;36m<module>\u001b[1;34m\u001b[0m\n\u001b[0;32m      6\u001b[0m \u001b[1;33m\u001b[0m\u001b[0m\n\u001b[1;32m----> 7\u001b[1;33m \u001b[1;32mfrom\u001b[0m \u001b[0mpandas\u001b[0m\u001b[1;33m.\u001b[0m\u001b[0mutil\u001b[0m\u001b[1;33m.\u001b[0m\u001b[0mversion\u001b[0m \u001b[1;32mimport\u001b[0m \u001b[0mVersion\u001b[0m\u001b[1;33m\u001b[0m\u001b[1;33m\u001b[0m\u001b[0m\n\u001b[0m\u001b[0;32m      8\u001b[0m \u001b[1;33m\u001b[0m\u001b[0m\n",
      "\u001b[1;32m~\\.virtualenvs\\Progetto_StackOverflow-UQruahqZ\\lib\\site-packages\\pandas\\util\\__init__.py\u001b[0m in \u001b[0;36m<module>\u001b[1;34m\u001b[0m\n\u001b[1;32m----> 1\u001b[1;33m from pandas.util._decorators import (  # noqa\n\u001b[0m\u001b[0;32m      2\u001b[0m     \u001b[0mAppender\u001b[0m\u001b[1;33m,\u001b[0m\u001b[1;33m\u001b[0m\u001b[1;33m\u001b[0m\u001b[0m\n\u001b[0;32m      3\u001b[0m     \u001b[0mSubstitution\u001b[0m\u001b[1;33m,\u001b[0m\u001b[1;33m\u001b[0m\u001b[1;33m\u001b[0m\u001b[0m\n",
      "\u001b[1;32m~\\.virtualenvs\\Progetto_StackOverflow-UQruahqZ\\lib\\site-packages\\pandas\\util\\_decorators.py\u001b[0m in \u001b[0;36m<module>\u001b[1;34m\u001b[0m\n\u001b[0;32m     13\u001b[0m \u001b[1;33m\u001b[0m\u001b[0m\n\u001b[1;32m---> 14\u001b[1;33m \u001b[1;32mfrom\u001b[0m \u001b[0mpandas\u001b[0m\u001b[1;33m.\u001b[0m\u001b[0m_libs\u001b[0m\u001b[1;33m.\u001b[0m\u001b[0mproperties\u001b[0m \u001b[1;32mimport\u001b[0m \u001b[0mcache_readonly\u001b[0m  \u001b[1;31m# noqa\u001b[0m\u001b[1;33m\u001b[0m\u001b[1;33m\u001b[0m\u001b[0m\n\u001b[0m\u001b[0;32m     15\u001b[0m \u001b[1;32mfrom\u001b[0m \u001b[0mpandas\u001b[0m\u001b[1;33m.\u001b[0m\u001b[0m_typing\u001b[0m \u001b[1;32mimport\u001b[0m \u001b[0mF\u001b[0m\u001b[1;33m\u001b[0m\u001b[1;33m\u001b[0m\u001b[0m\n",
      "\u001b[1;32m~\\.virtualenvs\\Progetto_StackOverflow-UQruahqZ\\lib\\site-packages\\pandas\\_libs\\__init__.py\u001b[0m in \u001b[0;36m<module>\u001b[1;34m\u001b[0m\n\u001b[0;32m     12\u001b[0m \u001b[1;33m\u001b[0m\u001b[0m\n\u001b[1;32m---> 13\u001b[1;33m \u001b[1;32mfrom\u001b[0m \u001b[0mpandas\u001b[0m\u001b[1;33m.\u001b[0m\u001b[0m_libs\u001b[0m\u001b[1;33m.\u001b[0m\u001b[0minterval\u001b[0m \u001b[1;32mimport\u001b[0m \u001b[0mInterval\u001b[0m\u001b[1;33m\u001b[0m\u001b[1;33m\u001b[0m\u001b[0m\n\u001b[0m\u001b[0;32m     14\u001b[0m from pandas._libs.tslibs import (\n",
      "\u001b[1;32m~\\.virtualenvs\\Progetto_StackOverflow-UQruahqZ\\lib\\site-packages\\pandas\\_libs\\interval.pyx\u001b[0m in \u001b[0;36minit pandas._libs.interval\u001b[1;34m()\u001b[0m\n",
      "\u001b[1;32m~\\.virtualenvs\\Progetto_StackOverflow-UQruahqZ\\lib\\site-packages\\pandas\\_libs\\hashtable.pyx\u001b[0m in \u001b[0;36minit pandas._libs.hashtable\u001b[1;34m()\u001b[0m\n",
      "\u001b[1;32m~\\.virtualenvs\\Progetto_StackOverflow-UQruahqZ\\lib\\site-packages\\pandas\\_libs\\missing.pyx\u001b[0m in \u001b[0;36minit pandas._libs.missing\u001b[1;34m()\u001b[0m\n",
      "\u001b[1;32m~\\.virtualenvs\\Progetto_StackOverflow-UQruahqZ\\lib\\site-packages\\pandas\\_libs\\tslibs\\__init__.py\u001b[0m in \u001b[0;36m<module>\u001b[1;34m\u001b[0m\n\u001b[0;32m     30\u001b[0m \u001b[1;32mfrom\u001b[0m \u001b[0mpandas\u001b[0m\u001b[1;33m.\u001b[0m\u001b[0m_libs\u001b[0m\u001b[1;33m.\u001b[0m\u001b[0mtslibs\u001b[0m \u001b[1;32mimport\u001b[0m \u001b[0mdtypes\u001b[0m\u001b[1;33m\u001b[0m\u001b[1;33m\u001b[0m\u001b[0m\n\u001b[1;32m---> 31\u001b[1;33m from pandas._libs.tslibs.conversion import (\n\u001b[0m\u001b[0;32m     32\u001b[0m     \u001b[0mOutOfBoundsTimedelta\u001b[0m\u001b[1;33m,\u001b[0m\u001b[1;33m\u001b[0m\u001b[1;33m\u001b[0m\u001b[0m\n",
      "\u001b[1;32m~\\.virtualenvs\\Progetto_StackOverflow-UQruahqZ\\lib\\site-packages\\pandas\\_libs\\tslibs\\conversion.pyx\u001b[0m in \u001b[0;36minit pandas._libs.tslibs.conversion\u001b[1;34m()\u001b[0m\n",
      "\u001b[1;32m~\\.virtualenvs\\Progetto_StackOverflow-UQruahqZ\\lib\\site-packages\\pandas\\_libs\\tslibs\\parsing.pyx\u001b[0m in \u001b[0;36minit pandas._libs.tslibs.parsing\u001b[1;34m()\u001b[0m\n",
      "\u001b[1;32m~\\.virtualenvs\\Progetto_StackOverflow-UQruahqZ\\lib\\site-packages\\pandas\\_libs\\tslibs\\offsets.pyx\u001b[0m in \u001b[0;36minit pandas._libs.tslibs.offsets\u001b[1;34m()\u001b[0m\n",
      "\u001b[1;32mC:\\Program Files\\WindowsApps\\PythonSoftwareFoundation.Python.3.9_3.9.2800.0_x64__qbz5n2kfra8p0\\lib\\importlib\\_bootstrap.py\u001b[0m in \u001b[0;36m_find_and_load\u001b[1;34m(name, import_)\u001b[0m\n",
      "\u001b[1;32mC:\\Program Files\\WindowsApps\\PythonSoftwareFoundation.Python.3.9_3.9.2800.0_x64__qbz5n2kfra8p0\\lib\\importlib\\_bootstrap.py\u001b[0m in \u001b[0;36m_find_and_load_unlocked\u001b[1;34m(name, import_)\u001b[0m\n",
      "\u001b[1;32mC:\\Program Files\\WindowsApps\\PythonSoftwareFoundation.Python.3.9_3.9.2800.0_x64__qbz5n2kfra8p0\\lib\\importlib\\_bootstrap.py\u001b[0m in \u001b[0;36m_find_spec\u001b[1;34m(name, path, target)\u001b[0m\n",
      "\u001b[1;32mC:\\Program Files\\WindowsApps\\PythonSoftwareFoundation.Python.3.9_3.9.2800.0_x64__qbz5n2kfra8p0\\lib\\importlib\\_bootstrap_external.py\u001b[0m in \u001b[0;36mfind_spec\u001b[1;34m(cls, fullname, path, target)\u001b[0m\n",
      "\u001b[1;32mC:\\Program Files\\WindowsApps\\PythonSoftwareFoundation.Python.3.9_3.9.2800.0_x64__qbz5n2kfra8p0\\lib\\importlib\\_bootstrap_external.py\u001b[0m in \u001b[0;36m_get_spec\u001b[1;34m(cls, fullname, path, target)\u001b[0m\n",
      "\u001b[1;32mC:\\Program Files\\WindowsApps\\PythonSoftwareFoundation.Python.3.9_3.9.2800.0_x64__qbz5n2kfra8p0\\lib\\importlib\\_bootstrap_external.py\u001b[0m in \u001b[0;36mfind_spec\u001b[1;34m(self, fullname, target)\u001b[0m\n",
      "\u001b[1;32mC:\\Program Files\\WindowsApps\\PythonSoftwareFoundation.Python.3.9_3.9.2800.0_x64__qbz5n2kfra8p0\\lib\\importlib\\_bootstrap_external.py\u001b[0m in \u001b[0;36m_path_stat\u001b[1;34m(path)\u001b[0m\n",
      "\u001b[1;31mKeyboardInterrupt\u001b[0m: ",
      "\nDuring handling of the above exception, another exception occurred:\n",
      "\u001b[1;31mAttributeError\u001b[0m                            Traceback (most recent call last)",
      "\u001b[1;32m~\\.virtualenvs\\Progetto_StackOverflow-UQruahqZ\\lib\\site-packages\\IPython\\core\\interactiveshell.py\u001b[0m in \u001b[0;36mshowtraceback\u001b[1;34m(self, exc_tuple, filename, tb_offset, exception_only, running_compiled_code)\u001b[0m\n\u001b[0;32m   2063\u001b[0m                         \u001b[1;31m# in the engines. This should return a list of strings.\u001b[0m\u001b[1;33m\u001b[0m\u001b[1;33m\u001b[0m\u001b[0m\n\u001b[1;32m-> 2064\u001b[1;33m                         \u001b[0mstb\u001b[0m \u001b[1;33m=\u001b[0m \u001b[0mvalue\u001b[0m\u001b[1;33m.\u001b[0m\u001b[0m_render_traceback_\u001b[0m\u001b[1;33m(\u001b[0m\u001b[1;33m)\u001b[0m\u001b[1;33m\u001b[0m\u001b[1;33m\u001b[0m\u001b[0m\n\u001b[0m\u001b[0;32m   2065\u001b[0m                     \u001b[1;32mexcept\u001b[0m \u001b[0mException\u001b[0m\u001b[1;33m:\u001b[0m\u001b[1;33m\u001b[0m\u001b[1;33m\u001b[0m\u001b[0m\n",
      "\u001b[1;31mAttributeError\u001b[0m: 'KeyboardInterrupt' object has no attribute '_render_traceback_'",
      "\nDuring handling of the above exception, another exception occurred:\n",
      "\u001b[1;31mTypeError\u001b[0m                                 Traceback (most recent call last)",
      "    \u001b[1;31m[... skipping hidden 1 frame]\u001b[0m\n",
      "\u001b[1;32m~\\.virtualenvs\\Progetto_StackOverflow-UQruahqZ\\lib\\site-packages\\IPython\\core\\interactiveshell.py\u001b[0m in \u001b[0;36mshowtraceback\u001b[1;34m(self, exc_tuple, filename, tb_offset, exception_only, running_compiled_code)\u001b[0m\n\u001b[0;32m   2064\u001b[0m                         \u001b[0mstb\u001b[0m \u001b[1;33m=\u001b[0m \u001b[0mvalue\u001b[0m\u001b[1;33m.\u001b[0m\u001b[0m_render_traceback_\u001b[0m\u001b[1;33m(\u001b[0m\u001b[1;33m)\u001b[0m\u001b[1;33m\u001b[0m\u001b[1;33m\u001b[0m\u001b[0m\n\u001b[0;32m   2065\u001b[0m                     \u001b[1;32mexcept\u001b[0m \u001b[0mException\u001b[0m\u001b[1;33m:\u001b[0m\u001b[1;33m\u001b[0m\u001b[1;33m\u001b[0m\u001b[0m\n\u001b[1;32m-> 2066\u001b[1;33m                         stb = self.InteractiveTB.structured_traceback(etype,\n\u001b[0m\u001b[0;32m   2067\u001b[0m                                             value, tb, tb_offset=tb_offset)\n\u001b[0;32m   2068\u001b[0m \u001b[1;33m\u001b[0m\u001b[0m\n",
      "\u001b[1;32m~\\.virtualenvs\\Progetto_StackOverflow-UQruahqZ\\lib\\site-packages\\IPython\\core\\ultratb.py\u001b[0m in \u001b[0;36mstructured_traceback\u001b[1;34m(self, etype, value, tb, tb_offset, number_of_lines_of_context)\u001b[0m\n\u001b[0;32m   1365\u001b[0m         \u001b[1;32melse\u001b[0m\u001b[1;33m:\u001b[0m\u001b[1;33m\u001b[0m\u001b[1;33m\u001b[0m\u001b[0m\n\u001b[0;32m   1366\u001b[0m             \u001b[0mself\u001b[0m\u001b[1;33m.\u001b[0m\u001b[0mtb\u001b[0m \u001b[1;33m=\u001b[0m \u001b[0mtb\u001b[0m\u001b[1;33m\u001b[0m\u001b[1;33m\u001b[0m\u001b[0m\n\u001b[1;32m-> 1367\u001b[1;33m         return FormattedTB.structured_traceback(\n\u001b[0m\u001b[0;32m   1368\u001b[0m             self, etype, value, tb, tb_offset, number_of_lines_of_context)\n\u001b[0;32m   1369\u001b[0m \u001b[1;33m\u001b[0m\u001b[0m\n",
      "\u001b[1;32m~\\.virtualenvs\\Progetto_StackOverflow-UQruahqZ\\lib\\site-packages\\IPython\\core\\ultratb.py\u001b[0m in \u001b[0;36mstructured_traceback\u001b[1;34m(self, etype, value, tb, tb_offset, number_of_lines_of_context)\u001b[0m\n\u001b[0;32m   1265\u001b[0m         \u001b[1;32mif\u001b[0m \u001b[0mmode\u001b[0m \u001b[1;32min\u001b[0m \u001b[0mself\u001b[0m\u001b[1;33m.\u001b[0m\u001b[0mverbose_modes\u001b[0m\u001b[1;33m:\u001b[0m\u001b[1;33m\u001b[0m\u001b[1;33m\u001b[0m\u001b[0m\n\u001b[0;32m   1266\u001b[0m             \u001b[1;31m# Verbose modes need a full traceback\u001b[0m\u001b[1;33m\u001b[0m\u001b[1;33m\u001b[0m\u001b[0m\n\u001b[1;32m-> 1267\u001b[1;33m             return VerboseTB.structured_traceback(\n\u001b[0m\u001b[0;32m   1268\u001b[0m                 \u001b[0mself\u001b[0m\u001b[1;33m,\u001b[0m \u001b[0metype\u001b[0m\u001b[1;33m,\u001b[0m \u001b[0mvalue\u001b[0m\u001b[1;33m,\u001b[0m \u001b[0mtb\u001b[0m\u001b[1;33m,\u001b[0m \u001b[0mtb_offset\u001b[0m\u001b[1;33m,\u001b[0m \u001b[0mnumber_of_lines_of_context\u001b[0m\u001b[1;33m\u001b[0m\u001b[1;33m\u001b[0m\u001b[0m\n\u001b[0;32m   1269\u001b[0m             )\n",
      "\u001b[1;32m~\\.virtualenvs\\Progetto_StackOverflow-UQruahqZ\\lib\\site-packages\\IPython\\core\\ultratb.py\u001b[0m in \u001b[0;36mstructured_traceback\u001b[1;34m(self, etype, evalue, etb, tb_offset, number_of_lines_of_context)\u001b[0m\n\u001b[0;32m   1122\u001b[0m         \u001b[1;34m\"\"\"Return a nice text document describing the traceback.\"\"\"\u001b[0m\u001b[1;33m\u001b[0m\u001b[1;33m\u001b[0m\u001b[0m\n\u001b[0;32m   1123\u001b[0m \u001b[1;33m\u001b[0m\u001b[0m\n\u001b[1;32m-> 1124\u001b[1;33m         formatted_exception = self.format_exception_as_a_whole(etype, evalue, etb, number_of_lines_of_context,\n\u001b[0m\u001b[0;32m   1125\u001b[0m                                                                tb_offset)\n\u001b[0;32m   1126\u001b[0m \u001b[1;33m\u001b[0m\u001b[0m\n",
      "\u001b[1;32m~\\.virtualenvs\\Progetto_StackOverflow-UQruahqZ\\lib\\site-packages\\IPython\\core\\ultratb.py\u001b[0m in \u001b[0;36mformat_exception_as_a_whole\u001b[1;34m(self, etype, evalue, etb, number_of_lines_of_context, tb_offset)\u001b[0m\n\u001b[0;32m   1080\u001b[0m \u001b[1;33m\u001b[0m\u001b[0m\n\u001b[0;32m   1081\u001b[0m \u001b[1;33m\u001b[0m\u001b[0m\n\u001b[1;32m-> 1082\u001b[1;33m         \u001b[0mlast_unique\u001b[0m\u001b[1;33m,\u001b[0m \u001b[0mrecursion_repeat\u001b[0m \u001b[1;33m=\u001b[0m \u001b[0mfind_recursion\u001b[0m\u001b[1;33m(\u001b[0m\u001b[0morig_etype\u001b[0m\u001b[1;33m,\u001b[0m \u001b[0mevalue\u001b[0m\u001b[1;33m,\u001b[0m \u001b[0mrecords\u001b[0m\u001b[1;33m)\u001b[0m\u001b[1;33m\u001b[0m\u001b[1;33m\u001b[0m\u001b[0m\n\u001b[0m\u001b[0;32m   1083\u001b[0m \u001b[1;33m\u001b[0m\u001b[0m\n\u001b[0;32m   1084\u001b[0m         \u001b[0mframes\u001b[0m \u001b[1;33m=\u001b[0m \u001b[0mself\u001b[0m\u001b[1;33m.\u001b[0m\u001b[0mformat_records\u001b[0m\u001b[1;33m(\u001b[0m\u001b[0mrecords\u001b[0m\u001b[1;33m,\u001b[0m \u001b[0mlast_unique\u001b[0m\u001b[1;33m,\u001b[0m \u001b[0mrecursion_repeat\u001b[0m\u001b[1;33m)\u001b[0m\u001b[1;33m\u001b[0m\u001b[1;33m\u001b[0m\u001b[0m\n",
      "\u001b[1;32m~\\.virtualenvs\\Progetto_StackOverflow-UQruahqZ\\lib\\site-packages\\IPython\\core\\ultratb.py\u001b[0m in \u001b[0;36mfind_recursion\u001b[1;34m(etype, value, records)\u001b[0m\n\u001b[0;32m    380\u001b[0m     \u001b[1;31m# first frame (from in to out) that looks different.\u001b[0m\u001b[1;33m\u001b[0m\u001b[1;33m\u001b[0m\u001b[0m\n\u001b[0;32m    381\u001b[0m     \u001b[1;32mif\u001b[0m \u001b[1;32mnot\u001b[0m \u001b[0mis_recursion_error\u001b[0m\u001b[1;33m(\u001b[0m\u001b[0metype\u001b[0m\u001b[1;33m,\u001b[0m \u001b[0mvalue\u001b[0m\u001b[1;33m,\u001b[0m \u001b[0mrecords\u001b[0m\u001b[1;33m)\u001b[0m\u001b[1;33m:\u001b[0m\u001b[1;33m\u001b[0m\u001b[1;33m\u001b[0m\u001b[0m\n\u001b[1;32m--> 382\u001b[1;33m         \u001b[1;32mreturn\u001b[0m \u001b[0mlen\u001b[0m\u001b[1;33m(\u001b[0m\u001b[0mrecords\u001b[0m\u001b[1;33m)\u001b[0m\u001b[1;33m,\u001b[0m \u001b[1;36m0\u001b[0m\u001b[1;33m\u001b[0m\u001b[1;33m\u001b[0m\u001b[0m\n\u001b[0m\u001b[0;32m    383\u001b[0m \u001b[1;33m\u001b[0m\u001b[0m\n\u001b[0;32m    384\u001b[0m     \u001b[1;31m# Select filename, lineno, func_name to track frames with\u001b[0m\u001b[1;33m\u001b[0m\u001b[1;33m\u001b[0m\u001b[0m\n",
      "\u001b[1;31mTypeError\u001b[0m: object of type 'NoneType' has no len()"
     ]
    }
   ],
   "source": [
    "import pandas as pd\n",
    "import numpy as np\n",
    "import preprocessing\n",
    "from csv import reader \n",
    "import tfidf\n",
    "import scipy\n",
    "\n",
    "pd.reset_option(\"^display\")"
   ]
  },
  {
   "cell_type": "markdown",
   "id": "2fb7480b-8eaa-4b94-9eb2-dd98da704010",
   "metadata": {},
   "source": [
    "<h2>Load Data</h2>"
   ]
  },
  {
   "cell_type": "code",
   "execution_count": null,
   "id": "29b5a649-a35b-4d94-bf7b-bc3f49eaf860",
   "metadata": {},
   "outputs": [],
   "source": [
    "df = pd.read_csv('DB/Original_data.csv', index_col=[0])\n",
    "\n",
    "#df = df.sample(frac = 0.2)\n",
    "\n",
    "print('Missing Values:')\n",
    "df.isna().sum()"
   ]
  },
  {
   "cell_type": "markdown",
   "id": "06e95913-a337-4d29-a124-9eb21054329d",
   "metadata": {},
   "source": [
    "<h2>Manipolate dataframe</h2>"
   ]
  },
  {
   "cell_type": "code",
   "execution_count": null,
   "id": "1a575b46-c20b-40f1-aed9-fd05d33e1306",
   "metadata": {},
   "outputs": [],
   "source": [
    "#create column with answers aggregate by title of the questions\n",
    "df2 = df \n",
    "func = lambda x: \"\\n\".join(x)\n",
    "df2 = df2.groupby('id')[\"answers\"].agg([(\"answers\",func)])\n",
    "\n"
   ]
  },
  {
   "cell_type": "code",
   "execution_count": null,
   "id": "b0145f5f-da1d-4cd3-b87e-ed165437f692",
   "metadata": {},
   "outputs": [],
   "source": [
    "# concat answers for each post beacause there are a record with question duplicated for each answer to that question \n",
    "\n",
    "\n",
    "grouped = df.groupby(['id','title', 'body','tags'],as_index=False).agg(\"sum\",\"score\")\n",
    "\n",
    "grouped_df = pd.DataFrame(grouped)\n",
    "grouped_df = pd.merge(grouped_df, df2, left_on='id', right_on='id', how='left')\n",
    "grouped_df\n",
    "\n"
   ]
  },
  {
   "cell_type": "markdown",
   "id": "978dd4c6-51be-41e1-bdcd-5621484785a7",
   "metadata": {},
   "source": [
    "<h2>Preprocessing Part</h2>\n",
    "\n",
    "In the preprocessing process here before we calling a function from the preprocessing file that remove the html tags and the part of text to not consider (for example the codes sections) and then we using other function to clean the text with NLP technics.\n",
    "\n",
    "<h3>Manipolating answers</h3>"
   ]
  },
  {
   "cell_type": "code",
   "execution_count": null,
   "id": "8c2b063f-bb08-4040-a605-b0dca9250903",
   "metadata": {},
   "outputs": [],
   "source": [
    "#Removing tags\n",
    "answers = grouped_df[\"answers\"]\n",
    "preprocessing.remove_tags(answers)\n",
    "\n",
    "#Clearing text \n",
    "answers_processed = answers.apply(lambda x: preprocessing.clear_text(x))\n"
   ]
  },
  {
   "cell_type": "code",
   "execution_count": null,
   "id": "7a591b05-c570-445d-855c-445ff70db9c7",
   "metadata": {},
   "outputs": [],
   "source": [
    "answers_processed.head()\n",
    "answers_processed.isna().sum() \n",
    "grouped_df['answers_processed'] = answers_processed"
   ]
  },
  {
   "cell_type": "markdown",
   "id": "a39c6d0a-2135-4dd7-8dd8-1af3dda4c467",
   "metadata": {},
   "source": [
    "<h3>Manipolating questions</h3>"
   ]
  },
  {
   "cell_type": "code",
   "execution_count": null,
   "id": "ed1911a1-21ee-442c-98ef-86f51fdaf672",
   "metadata": {},
   "outputs": [],
   "source": [
    "#Merge title with body \n",
    "questions = grouped_df[\"body\"]\n",
    "preprocessing.remove_tags(questions)\n",
    "questions"
   ]
  },
  {
   "cell_type": "code",
   "execution_count": null,
   "id": "627a098a-2524-4470-a8af-493bcfbd142b",
   "metadata": {},
   "outputs": [],
   "source": [
    "#Clearing text \n",
    "questions_processed = questions.apply(lambda x: preprocessing.clear_text(x))\n",
    "grouped_df['questions_processed'] = questions_processed\n",
    "questions_processed"
   ]
  },
  {
   "cell_type": "markdown",
   "id": "7f1c4692-77c0-4feb-ba08-3f5dcdf7b887",
   "metadata": {},
   "source": [
    "<h3>Manipolating titles</h3>\n",
    "Create a column only for the processed title of the questions "
   ]
  },
  {
   "cell_type": "code",
   "execution_count": null,
   "id": "f130879b-20c7-4ab0-8a6e-5aa872e64f70",
   "metadata": {},
   "outputs": [],
   "source": [
    "processed_title = grouped_df.title.apply(lambda x: preprocessing.clear_text(x))\n",
    "grouped_df['processed_title'] = processed_title\n",
    "processed_title "
   ]
  },
  {
   "cell_type": "markdown",
   "id": "936c50c7-f877-4b78-912f-2687ebde29b3",
   "metadata": {},
   "source": [
    "Drop columns that are not utils anymore"
   ]
  },
  {
   "cell_type": "code",
   "execution_count": null,
   "id": "e7ec97a2-8829-4a35-b4cb-5ad25d2e8936",
   "metadata": {},
   "outputs": [],
   "source": [
    "#post_corpus = processed_title + '\\n '+ questions_processed + '\\n ' + answers_processed\n",
    "grouped_df.drop(\"answers\", axis=1, inplace=True)\n",
    "grouped_df.drop(\"body\", axis=1, inplace=True)\n",
    "#grouped_df[\"post_corpus\"] = post_corpus\n",
    "grouped_df[\"questions\"] = questions\n",
    "grouped_df"
   ]
  },
  {
   "cell_type": "markdown",
   "id": "0bd44dbd-b2ad-4aee-8021-4ab0aab95e78",
   "metadata": {},
   "source": [
    "<h3>Filter Tags</h3>\n",
    "Filter out the tags, selecting only the 30 most common for better processing, so we can have less variability in the data."
   ]
  },
  {
   "cell_type": "code",
   "execution_count": null,
   "id": "8be49ceb-6a8a-4be1-8438-1b1590af42cf",
   "metadata": {},
   "outputs": [],
   "source": [
    "# Convert raw text data of tags into lists\n",
    "grouped_df[\"tags\"] = grouped_df[\"tags\"].apply(lambda x: x.split('|'))   \n",
    "\n",
    "# Make a dictionary to count the frequencies for all tags\n",
    "tag_freq_dict = {}\n",
    "\n",
    "for tags in grouped_df[\"tags\"]:\n",
    "    for tag in tags:\n",
    "        #Remove tags python, python2.7 e python3 for further processing \n",
    "        if \"python\" not in tag :\n",
    "            \n",
    "            if tag not in tag_freq_dict:\n",
    "                tag_freq_dict[tag] = 0\n",
    "            else:\n",
    "                tag_freq_dict[tag] += 1\n",
    "        else:\n",
    "            tags.remove(tag)\n",
    "            \n",
    "grouped_df[\"tags\"]\n"
   ]
  },
  {
   "cell_type": "code",
   "execution_count": null,
   "id": "925b5002-5a46-4ebd-9260-812575cdabe0",
   "metadata": {},
   "outputs": [],
   "source": [
    "#Selecting the most common number of tags in our database \n",
    "import heapq\n",
    "most_common_tags = heapq.nlargest(30, tag_freq_dict, key=tag_freq_dict.get)\n",
    "most_common_tags"
   ]
  },
  {
   "cell_type": "markdown",
   "id": "d6df4829-d4b0-46a8-a183-42d769a08f4e",
   "metadata": {},
   "source": [
    "Select only the data with at least one of the most common tags"
   ]
  },
  {
   "cell_type": "code",
   "execution_count": null,
   "id": "94a9c2d5-3fb2-4667-9149-759f698eeab2",
   "metadata": {},
   "outputs": [],
   "source": [
    "final_indices = []\n",
    "for i,tags in enumerate(grouped_df[\"tags\"].values.tolist()):\n",
    "    if len(set(tags).intersection(set(most_common_tags)))>0:   # The minimum length for common tags should be 1\n",
    "        final_indices.append(i)\n",
    "\n",
    "final_data = grouped_df.iloc[final_indices]\n",
    "\n",
    "final_data "
   ]
  },
  {
   "cell_type": "code",
   "execution_count": null,
   "id": "351d873c-f664-463f-8a7a-ab2f90ffa52e",
   "metadata": {},
   "outputs": [],
   "source": [
    "# Normalize numeric data for the scores\n",
    "final_data['score'] = (final_data['score'] - final_data['score'].mean()) / (final_data['score'].max() - final_data['score'].min())"
   ]
  },
  {
   "cell_type": "code",
   "execution_count": null,
   "id": "40d9442a-aa56-4b65-b439-cf3ac7d9ae1d",
   "metadata": {},
   "outputs": [],
   "source": [
    "# Combine the lists back into text data\n",
    "final_data['tags'] = final_data['tags'].apply(lambda x: '|'.join(x))\n",
    "\n",
    "final_data"
   ]
  },
  {
   "cell_type": "code",
   "execution_count": null,
   "id": "e994e639-cd3d-471b-bc45-c44c7f3ac4b1",
   "metadata": {},
   "outputs": [],
   "source": [
    "#Check if the final data has some null values \n",
    "final_data.isna().sum()\n",
    "\n",
    "final_data = final_data.dropna()\n",
    "\n",
    "final_data = final_data[final_data['processed_title'].notna()]\n",
    "final_data "
   ]
  },
  {
   "cell_type": "markdown",
   "id": "d4254426-0225-46d0-80d0-e211e1f9f9cc",
   "metadata": {},
   "source": [
    "Eliminate null values if presents"
   ]
  },
  {
   "cell_type": "code",
   "execution_count": null,
   "id": "0d3e1495-04a3-4ffd-88a6-cd6cc14aeb0b",
   "metadata": {},
   "outputs": [],
   "source": [
    "final_data = final_data[final_data['processed_title'].notna()]\n",
    "\n",
    "final_data = final_data[final_data['questions_processed'].notna()]\n",
    "\n",
    "final_data = final_data[final_data['answers_processed'].notna()]"
   ]
  },
  {
   "cell_type": "code",
   "execution_count": null,
   "id": "20b934c6-2f72-4375-a739-7b4fe514ca38",
   "metadata": {},
   "outputs": [],
   "source": [
    "final_data['post_corpus'] = final_data['processed_title'] + final_data['questions_processed'] + final_data['answers_processed']"
   ]
  },
  {
   "cell_type": "code",
   "execution_count": null,
   "id": "7d17b8eb-0676-4563-be4a-4fd9cc0b4282",
   "metadata": {},
   "outputs": [],
   "source": [
    "# Save the data\n",
    "final_data.to_csv('DB/Preprocessed_data.csv', index=False)"
   ]
  },
  {
   "cell_type": "code",
   "execution_count": null,
   "id": "4e27e19f-6dd2-4a14-b109-861f44a79722",
   "metadata": {},
   "outputs": [],
   "source": []
  }
 ],
 "metadata": {
  "kernelspec": {
   "display_name": "Python 3 (ipykernel)",
   "language": "python",
   "name": "python3"
  },
  "language_info": {
   "codemirror_mode": {
    "name": "ipython",
    "version": 3
   },
   "file_extension": ".py",
   "mimetype": "text/x-python",
   "name": "python",
   "nbconvert_exporter": "python",
   "pygments_lexer": "ipython3",
   "version": "3.9.10"
  }
 },
 "nbformat": 4,
 "nbformat_minor": 5
}
