{
 "cells": [
  {
   "cell_type": "raw",
   "id": "ede80517-518c-4eda-a21c-1f2ffefa3042",
   "metadata": {},
   "source": [
    "import bq_helper\n",
    "import pyarrow\n",
    "from bq_helper import BigQueryHelper\n",
    "import os\n",
    "\n",
    "#Initialize credential for google query\n",
    "os.environ[\"GOOGLE_APPLICATION_CREDENTIALS\"]=\"CREDENTIALS.json\"\n",
    "bq_assistant = BigQueryHelper(\"bigquery-public-data\", \"stackoverflow\")\n",
    "\n",
    "#Query for retrieve data\n",
    "QUERY = \"SELECT q.id, q.title, q.body, q.tags, a.body as answers, a.score FROM `bigquery-public-data.stackoverflow.posts_questions` AS q INNER JOIN `bigquery-public-data.stackoverflow.posts_answers` AS a ON q.id = a.parent_id WHERE q.tags LIKE '%python%' LIMIT 500000\"\n",
    "df = bq_assistant.query_to_pandas(QUERY)\n",
    "df.to_csv('DB/Original_data.csv')"
   ]
  },
  {
   "cell_type": "code",
   "execution_count": null,
   "id": "0c5432f5-f3a5-45d5-a8ac-d93557a8da7c",
   "metadata": {},
   "outputs": [],
   "source": [
    "import pandas as pd\n",
    "import numpy as np\n",
    "import spacy\n",
    "import preprocessing\n",
    "from csv import reader \n",
    "import tfidf\n",
    "import scipy\n",
    "\n",
    "\n",
    "pd.set_option('max_colwidth', 5000)\n",
    "\n"
   ]
  },
  {
   "cell_type": "code",
   "execution_count": null,
   "id": "29b5a649-a35b-4d94-bf7b-bc3f49eaf860",
   "metadata": {},
   "outputs": [],
   "source": [
    "df = pd.read_csv('DB/Original_data.csv', index_col=[0])\n",
    "#df = df.sample(frac=0.2)\n",
    "#Check if there are null values \n",
    "df.isna().sum()"
   ]
  },
  {
   "cell_type": "code",
   "execution_count": null,
   "id": "1a575b46-c20b-40f1-aed9-fd05d33e1306",
   "metadata": {},
   "outputs": [],
   "source": [
    "#create column with answers aggregate by title of the questions\n",
    "df2 = df \n",
    "func = lambda x: \"\\n\".join(x)\n",
    "df2 = df2.groupby('id')[\"answers\"].agg([(\"answers\",func)])\n",
    "\n"
   ]
  },
  {
   "cell_type": "code",
   "execution_count": null,
   "id": "b0145f5f-da1d-4cd3-b87e-ed165437f692",
   "metadata": {},
   "outputs": [],
   "source": [
    "# concat answers for each post beacause there are a record with question duplicated for each answer to that question \n",
    "\n",
    "\n",
    "grouped = df.groupby(['id','title', 'body','tags'],as_index=False).agg(\"sum\",\"score\")\n",
    "\n",
    "grouped_df = pd.DataFrame(grouped)\n",
    "grouped_df = pd.merge(grouped_df, df2, left_on='id', right_on='id', how='left')\n",
    "grouped_df\n",
    "\n"
   ]
  },
  {
   "cell_type": "code",
   "execution_count": null,
   "id": "8c2b063f-bb08-4040-a605-b0dca9250903",
   "metadata": {},
   "outputs": [],
   "source": [
    "#Preprocessing Part\n",
    "#Answers\n",
    "#Removing tags\n",
    "\n",
    "\n",
    "answers = grouped_df[\"answers\"]\n",
    "preprocessing.remove_tags(answers)\n",
    "\n",
    "\n",
    "\n",
    "#Clearing text \n",
    "answers_processed = answers.apply(lambda x: preprocessing.clear_text(x))\n"
   ]
  },
  {
   "cell_type": "code",
   "execution_count": null,
   "id": "7a591b05-c570-445d-855c-445ff70db9c7",
   "metadata": {},
   "outputs": [],
   "source": [
    "answers_processed.head()\n",
    "answers_processed.isna().sum() \n",
    "grouped_df['answers_processed'] = answers_processed"
   ]
  },
  {
   "cell_type": "code",
   "execution_count": null,
   "id": "ed1911a1-21ee-442c-98ef-86f51fdaf672",
   "metadata": {},
   "outputs": [],
   "source": [
    "#Questions\n",
    "#Merge title with body \n",
    "questions = grouped_df[\"body\"]\n",
    "preprocessing.remove_tags(questions)\n",
    "questions"
   ]
  },
  {
   "cell_type": "code",
   "execution_count": null,
   "id": "627a098a-2524-4470-a8af-493bcfbd142b",
   "metadata": {},
   "outputs": [],
   "source": [
    "#Clearing text \n",
    "questions_processed = questions.apply(lambda x: preprocessing.clear_text(x))\n",
    "grouped_df['questions_processed'] = questions_processed\n",
    "questions_processed"
   ]
  },
  {
   "cell_type": "code",
   "execution_count": null,
   "id": "f130879b-20c7-4ab0-8a6e-5aa872e64f70",
   "metadata": {},
   "outputs": [],
   "source": [
    "#Create a column only for the processed title of the questions \n",
    "processed_title = grouped_df.title.apply(lambda x: preprocessing.clear_text(x))\n",
    "grouped_df['processed_title'] = processed_title\n",
    "processed_title "
   ]
  },
  {
   "cell_type": "code",
   "execution_count": null,
   "id": "e7ec97a2-8829-4a35-b4cb-5ad25d2e8936",
   "metadata": {},
   "outputs": [],
   "source": [
    "#Create a column to add in db with question title, question body and all the answers processed, to train later the W2V embeddings\n",
    "#post_corpus = processed_title + '\\n '+ questions_processed + '\\n ' + answers_processed\n",
    "grouped_df.drop(\"answers\", axis=1, inplace=True)\n",
    "grouped_df.drop(\"body\", axis=1, inplace=True)\n",
    "#grouped_df[\"post_corpus\"] = post_corpus\n",
    "grouped_df[\"questions\"] = questions\n",
    "grouped_df"
   ]
  },
  {
   "cell_type": "code",
   "execution_count": null,
   "id": "8be49ceb-6a8a-4be1-8438-1b1590af42cf",
   "metadata": {},
   "outputs": [],
   "source": [
    "#Filter out the tags, selecting only the 20 most common for better processing \n",
    "# Convert raw text data of tags into lists\n",
    "grouped_df[\"tags\"] = grouped_df[\"tags\"].apply(lambda x: x.split('|'))   \n",
    "\n",
    "# Make a dictionary to count the frequencies for all tags\n",
    "tag_freq_dict = {}\n",
    "\n",
    "#i = 0 \n",
    "\n",
    "for tags in grouped_df[\"tags\"]:\n",
    "    for tag in tags:\n",
    "        #Remove tags python, python2.7 e python3 for further processing \n",
    "        if \"python\" not in tag :\n",
    "            \n",
    "            if tag not in tag_freq_dict:\n",
    "                tag_freq_dict[tag] = 0\n",
    "            else:\n",
    "                tag_freq_dict[tag] += 1\n",
    "        else:\n",
    "            tags.remove(tag)\n",
    "    '''\n",
    "    #If a record has less than 3 tags eliminate it for better further processing (training of fastText)\n",
    "    if len(tags) < 3:\n",
    "        grouped_df.drop(i)\n",
    "    i = i +1\n",
    "    '''\n",
    "grouped_df[\"tags\"]\n"
   ]
  },
  {
   "cell_type": "code",
   "execution_count": null,
   "id": "925b5002-5a46-4ebd-9260-812575cdabe0",
   "metadata": {},
   "outputs": [],
   "source": [
    "#Selecting the most common number of tags in our database \n",
    "import heapq\n",
    "most_common_tags = heapq.nlargest(30, tag_freq_dict, key=tag_freq_dict.get)\n",
    "most_common_tags"
   ]
  },
  {
   "cell_type": "code",
   "execution_count": null,
   "id": "94a9c2d5-3fb2-4667-9149-759f698eeab2",
   "metadata": {},
   "outputs": [],
   "source": [
    "#Select only the data with at least one of the most common tags \n",
    "final_indices = []\n",
    "for i,tags in enumerate(grouped_df[\"tags\"].values.tolist()):\n",
    "    if len(set(tags).intersection(set(most_common_tags)))>0:   # The minimum length for common tags should be 1\n",
    "        final_indices.append(i)\n",
    "\n",
    "final_data = grouped_df.iloc[final_indices]\n",
    "\n",
    "final_data "
   ]
  },
  {
   "cell_type": "code",
   "execution_count": null,
   "id": "351d873c-f664-463f-8a7a-ab2f90ffa52e",
   "metadata": {},
   "outputs": [],
   "source": [
    "# Normalize numeric data for the scores\n",
    "final_data['score'] = (final_data['score'] - final_data['score'].mean()) / (final_data['score'].max() - final_data['score'].min())"
   ]
  },
  {
   "cell_type": "code",
   "execution_count": null,
   "id": "40d9442a-aa56-4b65-b439-cf3ac7d9ae1d",
   "metadata": {},
   "outputs": [],
   "source": [
    "# Combine the lists back into text data\n",
    "final_data['tags'] = final_data['tags'].apply(lambda x: '|'.join(x))\n",
    "\n",
    "final_data"
   ]
  },
  {
   "cell_type": "code",
   "execution_count": null,
   "id": "e994e639-cd3d-471b-bc45-c44c7f3ac4b1",
   "metadata": {},
   "outputs": [],
   "source": [
    "#Check if the final data has some null values \n",
    "final_data.isna().sum()\n",
    "\n",
    "final_data = final_data.dropna()\n",
    "#final_data = final_data[final_data['post_corpus'].notna()]\n",
    "final_data = final_data[final_data['processed_title'].notna()]\n",
    "final_data "
   ]
  },
  {
   "cell_type": "code",
   "execution_count": null,
   "id": "ee86bad8-df85-4009-a5e4-bc6f35d52de8",
   "metadata": {},
   "outputs": [],
   "source": [
    "#Create matrix for tdfidf for further processing \n",
    "corpus = final_data['processed_title'] + final_data['questions_processed'] + final_data['answers_processed'] \n",
    "matrix = tfidf.create_matrix(corpus)\n",
    "scipy.sparse.save_npz('DB/tfidf_stack_matrix.npz', matrix)"
   ]
  },
  {
   "cell_type": "code",
   "execution_count": 24,
   "id": "0d3e1495-04a3-4ffd-88a6-cd6cc14aeb0b",
   "metadata": {},
   "outputs": [],
   "source": [
    "final_data = final_data[final_data['processed_title'].notna()]\n",
    "\n",
    "final_data = final_data[final_data['questions_processed'].notna()]\n",
    "\n",
    "final_data = final_data[final_data['answers_processed'].notna()]"
   ]
  },
  {
   "cell_type": "code",
   "execution_count": 25,
   "id": "7d17b8eb-0676-4563-be4a-4fd9cc0b4282",
   "metadata": {},
   "outputs": [],
   "source": [
    "# Save the data\n",
    "final_data.to_csv('DB/Preprocessed_data.csv', index=False)"
   ]
  },
  {
   "cell_type": "code",
   "execution_count": null,
   "id": "4e27e19f-6dd2-4a14-b109-861f44a79722",
   "metadata": {},
   "outputs": [],
   "source": []
  }
 ],
 "metadata": {
  "kernelspec": {
   "display_name": "Python 3 (ipykernel)",
   "language": "python",
   "name": "python3"
  },
  "language_info": {
   "codemirror_mode": {
    "name": "ipython",
    "version": 3
   },
   "file_extension": ".py",
   "mimetype": "text/x-python",
   "name": "python",
   "nbconvert_exporter": "python",
   "pygments_lexer": "ipython3",
   "version": "3.8.2"
  }
 },
 "nbformat": 4,
 "nbformat_minor": 5
}
