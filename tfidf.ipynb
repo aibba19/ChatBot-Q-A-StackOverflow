{
 "cells": [
  {
   "cell_type": "code",
   "execution_count": 16,
   "id": "4ac5faa6-954b-4e58-abc1-79f3a18f6482",
   "metadata": {},
   "outputs": [],
   "source": [
    "#import preprocessing\n",
    "import pandas as pd\n",
    "import numpy as np\n",
    "#import scipy.sparce\n",
    "import scipy\n",
    "from sklearn.feature_extraction.text import CountVectorizer, TfidfTransformer\n",
    "import joblib\n",
    "from nltk.corpus import stopwords"
   ]
  },
  {
   "cell_type": "code",
   "execution_count": 12,
   "id": "f4295b29-0d83-4f98-877c-b65251b36a00",
   "metadata": {},
   "outputs": [],
   "source": [
    "def function_tf_idf(count_world, cvec, phrase):\n",
    "    \n",
    "    #preprocessing the phrase\n",
    "    clear_phrase = preprocessing.function_clear_phrase(phrase);\n",
    "    \n",
    "    #creation of the TfidfTransformer Object,\n",
    "    #useful for transform a count matrix to a normalized tf or tf-idf representation\n",
    "    transformer_weights = TfidfTransformer(smooth_idf=True, use_idf=True)\n",
    "    \n",
    "    #fitting\n",
    "    transformer_weights.fit_transform(count_world)\n",
    "    tf_idf_vec = transformer_weights.transform(cvec.transform([clear_sentence]))\n",
    "    \n",
    "    #computing the final weights for the words\n",
    "    weights = np.asarray(tf_idf_vec.mean(axis=0)).ravel().tolist()\n",
    "    weights_df = pd.DataFrame({'term': cvec.get_feature_names(), 'weight': weights})\n",
    "    result = weights_df.sort_values(by='weight', ascending=False).head(5)"
   ]
  },
  {
   "cell_type": "code",
   "execution_count": null,
   "id": "5f429903-5b6c-40a5-90fc-0205829f470d",
   "metadata": {},
   "outputs": [],
   "source": [
    "def get_word_count_vec():\n",
    "    #open the csv where stored the .. to use for compute IDF\n",
    "    df = pd.read_csv(\"DB/..\", delimiter=\",\")\n",
    "    \n",
    "    #preprocessing of the ..\n",
    "    docs = df['Body'].apply(lambda x: preprocessing.clear_text(x))\n",
    "    \n",
    "    #storing the set of english stopwords\n",
    "    #stopwd = stopwords.words('english')\n",
    "    \n",
    "    docs = docs.tolist()\n",
    "    \n",
    "    #creating an instance of CountVectorizer\n",
    "    # (useful for converting a collection of text documents to a matrix of token counts)\n",
    "    count_vec = CountVectorizer(stop_words=stopwd, max_df=0.85)\n",
    "    \n",
    "    #wc_matrix are the final term-document matrix whit all the terms of the corpus\n",
    "    wc_matrix = count_vec.fit_transform(docs)\n",
    "    \n",
    "    #saving data for unigrams\n",
    "    scipy.sparse.save_npz('DB/..', wc_matrix)\n",
    "    joblib.dump(count_vec, \"DB/..\")"
   ]
  }
 ],
 "metadata": {
  "kernelspec": {
   "display_name": "Python 3 (ipykernel)",
   "language": "python",
   "name": "python3"
  },
  "language_info": {
   "codemirror_mode": {
    "name": "ipython",
    "version": 3
   },
   "file_extension": ".py",
   "mimetype": "text/x-python",
   "name": "python",
   "nbconvert_exporter": "python",
   "pygments_lexer": "ipython3",
   "version": "3.8.2"
  }
 },
 "nbformat": 4,
 "nbformat_minor": 5
}
