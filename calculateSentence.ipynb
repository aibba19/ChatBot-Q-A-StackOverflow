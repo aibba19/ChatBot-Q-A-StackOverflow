{
 "cells": [
  {
   "cell_type": "code",
   "execution_count": 1,
   "id": "4ac5faa6-954b-4e58-abc1-79f3a18f6482",
   "metadata": {},
   "outputs": [],
   "source": [
    "import pandas as pd\n",
    "import gensim\n",
    "import numpy as np"
   ]
  },
  {
   "cell_type": "code",
   "execution_count": 2,
   "id": "7026a9d6-2c7f-4dfc-873e-4409149f3f3b",
   "metadata": {},
   "outputs": [],
   "source": [
    "#Importazione DB\n",
    "\n",
    "data = pd.read_csv('DB/Preprocessed_data.csv')\n",
    "#data\n",
    "data = data[data['processed_title'].notna()]\n",
    "\n",
    "data2 = pd.read_csv('DB/Preprocessed_ontology.csv')"
   ]
  },
  {
   "cell_type": "code",
   "execution_count": 3,
   "id": "55a184d7-8cea-47c4-bbac-a681f0938b86",
   "metadata": {},
   "outputs": [
    {
     "data": {
      "text/plain": [
       "<gensim.models.word2vec.Word2Vec at 0x1ceeecfeb80>"
      ]
     },
     "execution_count": 3,
     "metadata": {},
     "output_type": "execute_result"
    }
   ],
   "source": [
    "#Importazione WordEmbeddings\n",
    "\n",
    "word_2_vec_model = gensim.models.word2vec.Word2Vec.load('DB/word2vec_trained.bin')\n",
    "word_2_vec_model"
   ]
  },
  {
   "cell_type": "code",
   "execution_count": 4,
   "id": "f0ef5514-2055-485c-b348-a9897f6e82cd",
   "metadata": {},
   "outputs": [],
   "source": [
    "'''\n",
    "Per calcolare gli embedding per un'intera frase, viene definita la seguente funzione\n",
    "che fa la media degli embedding per ogni token valido\n",
    "'''\n",
    "\n",
    "def questionToVec(question, embeddings, dim = 300):\n",
    "    questionEmb = np.zeros(dim)\n",
    "    validWord = 0\n",
    "    \n",
    "    for word in question.split(' '):\n",
    "        if word in embeddings.wv:\n",
    "            validWord += 1\n",
    "            questionEmb += embeddings.wv[word]\n",
    "            \n",
    "    if validWord > 0:\n",
    "        return questionEmb/validWord\n",
    "    else:\n",
    "        return questionEmb\n",
    "    "
   ]
  },
  {
   "cell_type": "code",
   "execution_count": 5,
   "id": "4acc7892-e72a-4991-a574-ae55e4255bce",
   "metadata": {},
   "outputs": [],
   "source": [
    "#Crea matrice relativa agli embeddings per ogni titolo del db di stack \n",
    "'''\n",
    "allTitleEmb = []\n",
    "\n",
    "count = 0\n",
    "#for title in data.processed_title:\n",
    "for title in data.processed_title:    \n",
    "    allTitleEmb.append(questionToVec(title, word_2_vec_model))\n",
    "allTileEmb = np.array(allTitleEmb)\n",
    "\n",
    "embeddings = pd.DataFrame(data = allTitleEmb)\n",
    "embeddings.to_csv('DB/titleEmbeddings.csv', index = False )\n",
    "\n",
    "'''\n",
    "#crea matrice relativa agli embeddings per ogni descrizione di funzione nel db ontology \n",
    "allFuncEmb = []\n",
    "\n",
    "count = 0\n",
    "#for description in data2.description_processed:\n",
    "for descr in data2.description_processed:    \n",
    "    allFuncEmb.append(questionToVec(descr, word_2_vec_model))\n",
    "allTileEmb = np.array(allFuncEmb)\n",
    "\n",
    "embeddings = pd.DataFrame(data = allFuncEmb)\n",
    "embeddings.to_csv('DB/functionEmbeddings.csv', index = False )"
   ]
  },
  {
   "cell_type": "code",
   "execution_count": 6,
   "id": "738a6ad5-4aac-4bb8-9ecf-c052fe4657e2",
   "metadata": {},
   "outputs": [],
   "source": [
    "#Esempio di prova \n",
    "#questionToVec('create array', word_2_vec_model)"
   ]
  },
  {
   "cell_type": "code",
   "execution_count": null,
   "id": "ce8b46fe-abf9-4d5a-b987-de1b98bf1495",
   "metadata": {},
   "outputs": [],
   "source": []
  }
 ],
 "metadata": {
  "kernelspec": {
   "display_name": "Python 3 (ipykernel)",
   "language": "python",
   "name": "python3"
  },
  "language_info": {
   "codemirror_mode": {
    "name": "ipython",
    "version": 3
   },
   "file_extension": ".py",
   "mimetype": "text/x-python",
   "name": "python",
   "nbconvert_exporter": "python",
   "pygments_lexer": "ipython3",
   "version": "3.9.10"
  }
 },
 "nbformat": 4,
 "nbformat_minor": 5
}
