{
 "cells": [
  {
   "cell_type": "code",
   "execution_count": 18,
   "id": "4ac5faa6-954b-4e58-abc1-79f3a18f6482",
   "metadata": {},
   "outputs": [],
   "source": [
    "import pandas as pd\n",
    "import numpy as np\n",
    "from sklearn.preprocessing import MultiLabelBinarizer"
   ]
  },
  {
   "cell_type": "code",
   "execution_count": 6,
   "id": "2480a672-a442-415e-855e-068a5a258cae",
   "metadata": {},
   "outputs": [
    {
     "name": "stdout",
     "output_type": "stream",
     "text": [
      "(1, 9)\n"
     ]
    },
    {
     "data": {
      "text/html": [
       "<div>\n",
       "<style scoped>\n",
       "    .dataframe tbody tr th:only-of-type {\n",
       "        vertical-align: middle;\n",
       "    }\n",
       "\n",
       "    .dataframe tbody tr th {\n",
       "        vertical-align: top;\n",
       "    }\n",
       "\n",
       "    .dataframe thead th {\n",
       "        text-align: right;\n",
       "    }\n",
       "</style>\n",
       "<table border=\"1\" class=\"dataframe\">\n",
       "  <thead>\n",
       "    <tr style=\"text-align: right;\">\n",
       "      <th></th>\n",
       "      <th>original_title</th>\n",
       "      <th>post_corpus</th>\n",
       "      <th>question_content</th>\n",
       "      <th>question_url</th>\n",
       "      <th>tags</th>\n",
       "      <th>overall_scores</th>\n",
       "      <th>answers_content</th>\n",
       "      <th>sentiment_polarity</th>\n",
       "      <th>sentiment_subjectivity</th>\n",
       "    </tr>\n",
       "  </thead>\n",
       "  <tbody>\n",
       "    <tr>\n",
       "      <th>0</th>\n",
       "      <td>How can I find the full path to a font from it</td>\n",
       "      <td>How can I find the full path to a font from it</td>\n",
       "      <td>How can I find the full path to a font from it</td>\n",
       "      <td>https://stackoverflow.com/questions/469</td>\n",
       "      <td>python|macos|fonts|photoshop</td>\n",
       "      <td>39</td>\n",
       "      <td>open up a terminal (Applications-&gt;Utilities-&gt;T</td>\n",
       "      <td>0.116667</td>\n",
       "      <td>0.554167</td>\n",
       "    </tr>\n",
       "  </tbody>\n",
       "</table>\n",
       "</div>"
      ],
      "text/plain": [
       "                                   original_title  \\\n",
       "0  How can I find the full path to a font from it   \n",
       "\n",
       "                                      post_corpus  \\\n",
       "0  How can I find the full path to a font from it   \n",
       "\n",
       "                                 question_content  \\\n",
       "0  How can I find the full path to a font from it   \n",
       "\n",
       "                              question_url                          tags  \\\n",
       "0  https://stackoverflow.com/questions/469  python|macos|fonts|photoshop   \n",
       "\n",
       "   overall_scores                                 answers_content  \\\n",
       "0              39  open up a terminal (Applications->Utilities->T   \n",
       "\n",
       "   sentiment_polarity  sentiment_subjectivity  \n",
       "0            0.116667                0.554167  "
      ]
     },
     "execution_count": 6,
     "metadata": {},
     "output_type": "execute_result"
    }
   ],
   "source": [
    "#Importazione post regex\n",
    "\n",
    "data = pd.read_csv('DB/prova.csv')\n",
    "print(data.shape)\n",
    "data.head()"
   ]
  },
  {
   "cell_type": "code",
   "execution_count": 8,
   "id": "c49edc8c-5315-4506-a1fd-7ba11c442dd7",
   "metadata": {},
   "outputs": [],
   "source": [
    "#Analisi dei Tag e della loro frequenza\n",
    "\n",
    "data.tags = data.tags.apply(lambda x: x.split('|'))\n",
    "freqTag = {}\n",
    "\n",
    "for tags in data.tags:\n",
    "    for i in tags:\n",
    "        if i not in freqTag:\n",
    "                freqTag[i] = 0 \n",
    "        else:\n",
    "                freqTag[i] += 1 \n",
    "\n",
    "\n",
    "#Vengono visualizzati i tag più comuni\n",
    "'''\n",
    "Dato che vi sono sicuramente molti tag (alcuni usati poco, tipo 2 volte), è preferibile ridurre \n",
    "il numero di tag. In questo caso andiamo a prendere in considerazione i primi 500 tag in base\n",
    "alle loro occorrenze.\n",
    "'''\n",
    "tagUse = 500\n",
    "tagSorted = dict(sorted(freqTag.items(), key = lambda x: x[1], reverse = True))\n",
    "tagFinal = list(tagSorted.keys())[:tagUse]\n",
    "len(tagFinal)\n",
    "\n",
    "'''\n",
    "Non ho capito cosa stia facendo ora\n",
    "'''\n",
    "\n",
    "tmpTags = []\n",
    "for tags in data.tags:\n",
    "    tmp = []\n",
    "    for i in tags:\n",
    "        if i in tmpTags: tmp.append(i)\n",
    "    tmpTags.append(tmp)"
   ]
  },
  {
   "cell_type": "code",
   "execution_count": 9,
   "id": "c5278485-44d9-4d23-ae7c-c93ff17e897e",
   "metadata": {},
   "outputs": [
    {
     "data": {
      "text/plain": [
       "(1, 0)"
      ]
     },
     "execution_count": 9,
     "metadata": {},
     "output_type": "execute_result"
    }
   ],
   "source": [
    "#Dato che vi sono dati multi etichettati, può essere utilizzato 'MultiLabelBinarizer'\n",
    "\n",
    "tmp_finalTag = MultiLabelBinarizer()\n",
    "finalTag = tmp_finalTag.fit_transform(tmpTags)\n",
    "finalTag.shape"
   ]
  },
  {
   "cell_type": "code",
   "execution_count": 22,
   "id": "5fa038ed-dbde-4763-b400-45d221f0c161",
   "metadata": {},
   "outputs": [
    {
     "ename": "AttributeError",
     "evalue": "'numpy.ndarray' object has no attribute 'to_csv'",
     "output_type": "error",
     "traceback": [
      "\u001b[0;31m---------------------------------------------------------------------------\u001b[0m",
      "\u001b[0;31mAttributeError\u001b[0m                            Traceback (most recent call last)",
      "\u001b[0;32m/var/folders/7j/b9v_1c594f74fpz8g452mpfr0000gn/T/ipykernel_3532/2314545314.py\u001b[0m in \u001b[0;36m<module>\u001b[0;34m\u001b[0m\n\u001b[1;32m      1\u001b[0m \u001b[0;31m#Salvataggio dei tags in file\u001b[0m\u001b[0;34m\u001b[0m\u001b[0;34m\u001b[0m\u001b[0;34m\u001b[0m\u001b[0m\n\u001b[1;32m      2\u001b[0m \u001b[0;31m#np.save('DB/tags_most_important.csv',finalTag)\u001b[0m\u001b[0;34m\u001b[0m\u001b[0;34m\u001b[0m\u001b[0;34m\u001b[0m\u001b[0m\n\u001b[0;32m----> 3\u001b[0;31m \u001b[0mfinalTag\u001b[0m\u001b[0;34m.\u001b[0m\u001b[0mto_csv\u001b[0m\u001b[0;34m(\u001b[0m\u001b[0;34m'DB/tags_most_important.csv'\u001b[0m\u001b[0;34m)\u001b[0m\u001b[0;34m\u001b[0m\u001b[0;34m\u001b[0m\u001b[0m\n\u001b[0m",
      "\u001b[0;31mAttributeError\u001b[0m: 'numpy.ndarray' object has no attribute 'to_csv'"
     ]
    }
   ],
   "source": [
    "#Salvataggio dei tags in file\n",
    "#np.save('DB/tags_most_important.csv',finalTag)\n",
    "finalTag.to_csv('DB/tags_most_important.csv')"
   ]
  },
  {
   "cell_type": "code",
   "execution_count": null,
   "id": "5bdaea5a-6eac-446e-a399-1ee0cbb43d41",
   "metadata": {},
   "outputs": [],
   "source": []
  }
 ],
 "metadata": {
  "kernelspec": {
   "display_name": "Python 3 (ipykernel)",
   "language": "python",
   "name": "python3"
  },
  "language_info": {
   "codemirror_mode": {
    "name": "ipython",
    "version": 3
   },
   "file_extension": ".py",
   "mimetype": "text/x-python",
   "name": "python",
   "nbconvert_exporter": "python",
   "pygments_lexer": "ipython3",
   "version": "3.8.2"
  }
 },
 "nbformat": 4,
 "nbformat_minor": 5
}
