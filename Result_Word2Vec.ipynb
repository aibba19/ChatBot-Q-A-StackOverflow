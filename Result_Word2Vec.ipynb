{
 "cells": [
  {
   "cell_type": "code",
   "execution_count": 3,
   "id": "4ac5faa6-954b-4e58-abc1-79f3a18f6482",
   "metadata": {},
   "outputs": [],
   "source": [
    "import pandas as pd\n",
    "import gensim\n",
    "from sklearn.metrics.pairwise import cosine_similarity\n",
    "import numpy as np\n",
    "import spacy\n",
    "%run calculateSentence.ipynb\n",
    "import preprocessing\n",
    "import tfidf\n",
    "pd.set_option('max_colwidth', 5000)"
   ]
  },
  {
   "cell_type": "code",
   "execution_count": 4,
   "id": "7026a9d6-2c7f-4dfc-873e-4409149f3f3b",
   "metadata": {},
   "outputs": [],
   "source": [
    "#Importazione DB\n",
    "\n",
    "data = pd.read_csv('DB/Preprocessed_data.csv')\n",
    "\n",
    "data = data[data['processed_title'].notna()]\n",
    "\n",
    "#data.head(10)"
   ]
  },
  {
   "cell_type": "code",
   "execution_count": null,
   "id": "55a184d7-8cea-47c4-bbac-a681f0938b86",
   "metadata": {},
   "outputs": [],
   "source": [
    "#Importazione WordEmbeddings\n",
    "\n",
    "word_2_vec_model = gensim.models.word2vec.Word2Vec.load('DB/word2vec_trained.bin')\n",
    "word_2_vec_model"
   ]
  },
  {
   "cell_type": "code",
   "execution_count": null,
   "id": "48fdb887-2fec-4917-9786-c3d7717e6efa",
   "metadata": {},
   "outputs": [],
   "source": [
    "def normalize(words):\n",
    "    words = preprocessing.clear_text(words,\"w2v\")\n",
    "    return words"
   ]
  },
  {
   "cell_type": "code",
   "execution_count": null,
   "id": "cf87ee0f-d744-49e1-a395-2df94c17ed76",
   "metadata": {},
   "outputs": [],
   "source": [
    "def deleteRow(data):\n",
    "    \n",
    "    row = []\n",
    "                \n",
    "    for tmp in data:\n",
    "        if tmp[2] != []:\n",
    "            row.append(tmp)\n",
    "    \n",
    "    return row"
   ]
  },
  {
   "cell_type": "code",
   "execution_count": null,
   "id": "4750d1f9-4230-4554-88c5-7d542efa03fb",
   "metadata": {},
   "outputs": [],
   "source": [
    "def w2v_result(txt, tag):\n",
    "    stringSearch = normalize(txt)\n",
    "\n",
    "    #print(stringSearch)\n",
    "\n",
    "    numberResult = \"5\"\n",
    "\n",
    "    #Viene vettorizzata la query dell'utente\n",
    "\n",
    "    vectorSearch = np.array([questionToVec(stringSearch, word_2_vec_model)])\n",
    "    \n",
    "    #Carico il file con gli embeddings dei titoli sui quali effettuare la corrispondenza\n",
    "    allTitleEmb = pd.read_csv('DB/titleEmbeddings.csv').values\n",
    "\n",
    "    #Calcolo della similarità del coseno for le query e tutti i titoli\n",
    "\n",
    "    similarityCosine = pd.Series(cosine_similarity(vectorSearch, allTitleEmb)[0])\n",
    "    \n",
    "    #Personalizzazione della misura di similarità\n",
    "\n",
    "    #similarityCosine = similarityCosine*(1+0.4*data.overall_scores_norm + 0.1*(data.sentiment_polarity))\n",
    "    similarityCosine = similarityCosine*(1+0.4*data.score)\n",
    "    \n",
    "    #Lista che conterrà coppie i,j con i indice e j score di similarità\n",
    "    results = []\n",
    "    \n",
    "    #Se tag è null vuol dire che siamo alla prima iterazione e non dobbiamo filtrare su nessun tag\n",
    "    if tag == None :   \n",
    "        #Una volta calcolati gli score di similarità rendo i 10 più alti\n",
    "        for i,j in similarityCosine.nlargest(int(numberResult)).iteritems():\n",
    "            #print(i, data.Body[i])\n",
    "            #Filtro i tag da rendere come risultato, eliminando quelli che sono già presenti nella string search per facilitare prossimi passaggi \n",
    "            tags = data.iloc[[i]].tags.item().split('|')\n",
    "            #print(tags)\n",
    "            for t in tags:\n",
    "                if t in stringSearch:\n",
    "                    tags.remove(t)\n",
    "                    \n",
    "            results.append(tuple([data.iloc[[i]].id.values[0], j, tags]))\n",
    "        results = deleteRow(results)\n",
    "        \n",
    "        \n",
    "    #Entriamo nell'else se abbiamo il tag che deve essere incluso nei nostri risultati, \n",
    "    #e eliminiamo i record che non lo contengono dai result \n",
    "    else : \n",
    "        \n",
    "        for i,j in similarityCosine.nlargest(int(numberResult)).iteritems():\n",
    "            \n",
    "            if tag in data.iloc[[i]].tags:\n",
    "                results.append(tuple([data.iloc[[i]].id.values[0], j, data.iloc[[i]].tags]))\n",
    "                \n",
    "            \n",
    "    #print(results)\n",
    "    return results"
   ]
  },
  {
   "cell_type": "code",
   "execution_count": null,
   "id": "77d75c7f-986c-4b17-bdd2-2c04e58ce5fe",
   "metadata": {},
   "outputs": [],
   "source": [
    "#w2v_result('problem loading csv file', None )"
   ]
  },
  {
   "cell_type": "code",
   "execution_count": 6,
   "id": "1e1faa0c-b453-4fdc-a91f-2ef3811804c9",
   "metadata": {},
   "outputs": [
    {
     "data": {
      "text/html": [
       "<div>\n",
       "<style scoped>\n",
       "    .dataframe tbody tr th:only-of-type {\n",
       "        vertical-align: middle;\n",
       "    }\n",
       "\n",
       "    .dataframe tbody tr th {\n",
       "        vertical-align: top;\n",
       "    }\n",
       "\n",
       "    .dataframe thead th {\n",
       "        text-align: right;\n",
       "    }\n",
       "</style>\n",
       "<table border=\"1\" class=\"dataframe\">\n",
       "  <thead>\n",
       "    <tr style=\"text-align: right;\">\n",
       "      <th></th>\n",
       "      <th>id</th>\n",
       "      <th>title</th>\n",
       "      <th>tags</th>\n",
       "      <th>score</th>\n",
       "      <th>post_corpus</th>\n",
       "      <th>questions</th>\n",
       "      <th>processed_title</th>\n",
       "    </tr>\n",
       "  </thead>\n",
       "  <tbody>\n",
       "    <tr>\n",
       "      <th>9418</th>\n",
       "      <td>17673314</td>\n",
       "      <td>Date Time convert from CSV to MySQL</td>\n",
       "      <td>mysql|datetime</td>\n",
       "      <td>-0.000505</td>\n",
       "      <td>date time convert csv mysql csv file loading mysql db one fields datatime ntp time format ex gmt wed may want convert acceptable format store mysql like csv file start loading mysql done loading csv file told done using python please help thanks advance convert ntp formatted dates using function loading csv file hope helps</td>\n",
       "      <td>Date Time convert from CSV to MySQL I have a CSV file which i am loading into MySQL DB, one of the fields is DataTime in NTP time format ex:  10:14:18.531 gmt Wed May 15 2013   I want to convert it to an acceptable format to store it in MySQL like  2013-05-15 10:14:18 .    Should i do this to the CSV file before start loading it to MySQL or it can be done while loading the CSV file      I have been told that this can be done using Python please help.    Thanks in advance.</td>\n",
       "      <td>date time convert csv mysql</td>\n",
       "    </tr>\n",
       "  </tbody>\n",
       "</table>\n",
       "</div>"
      ],
      "text/plain": [
       "            id                                title            tags     score  \\\n",
       "9418  17673314  Date Time convert from CSV to MySQL  mysql|datetime -0.000505   \n",
       "\n",
       "                                                                                                                                                                                                                                                                                                                                post_corpus  \\\n",
       "9418  date time convert csv mysql csv file loading mysql db one fields datatime ntp time format ex gmt wed may want convert acceptable format store mysql like csv file start loading mysql done loading csv file told done using python please help thanks advance convert ntp formatted dates using function loading csv file hope helps    \n",
       "\n",
       "                                                                                                                                                                                                                                                                                                                                                                                                                                                                                          questions  \\\n",
       "9418  Date Time convert from CSV to MySQL I have a CSV file which i am loading into MySQL DB, one of the fields is DataTime in NTP time format ex:  10:14:18.531 gmt Wed May 15 2013   I want to convert it to an acceptable format to store it in MySQL like  2013-05-15 10:14:18 .    Should i do this to the CSV file before start loading it to MySQL or it can be done while loading the CSV file      I have been told that this can be done using Python please help.    Thanks in advance.    \n",
       "\n",
       "                   processed_title  \n",
       "9418  date time convert csv mysql   "
      ]
     },
     "execution_count": 6,
     "metadata": {},
     "output_type": "execute_result"
    }
   ],
   "source": [
    "data.iloc[[9417]]"
   ]
  },
  {
   "cell_type": "code",
   "execution_count": 4,
   "id": "dcadf5aa-3a9d-4a4e-9a75-1c96c6f89276",
   "metadata": {},
   "outputs": [
    {
     "name": "stdout",
     "output_type": "stream",
     "text": [
      "[115354   9417  20921  86894]\n"
     ]
    }
   ],
   "source": [
    "'''\n",
    "index = tfidf.prova(data['post_corpus'], ['problem loading csv file'])\n",
    "\n",
    "print(index)\n",
    "'''"
   ]
  },
  {
   "cell_type": "code",
   "execution_count": null,
   "id": "3f9ac8db-0c53-481f-a49c-70990c4b70c2",
   "metadata": {},
   "outputs": [],
   "source": [
    "\n",
    "'''\n",
    "for i,j in cosine_sim.nlargest(int(5)).iteritems():\n",
    "    #print(i, data.Body[i])\n",
    "    #Filtro i tag da rendere come risultato, eliminando quelli che sono già presenti nella string search per facilitare prossimi passaggi \n",
    "    titles = data.iloc[[i]].title\n",
    "    print(title)\n",
    "'''    "
   ]
  },
  {
   "cell_type": "code",
   "execution_count": 5,
   "id": "6967a8b4-64b8-4c95-8dae-cdefe216a068",
   "metadata": {},
   "outputs": [
    {
     "data": {
      "text/plain": [
       "array([115354,   9417,  20921,  86894])"
      ]
     },
     "execution_count": 5,
     "metadata": {},
     "output_type": "execute_result"
    }
   ],
   "source": []
  },
  {
   "cell_type": "code",
   "execution_count": 24,
   "id": "b4f64833-5919-427d-947b-6100b2ae6e72",
   "metadata": {},
   "outputs": [
    {
     "name": "stdout",
     "output_type": "stream",
     "text": [
      "[[0.57735027]\n",
      " [0.        ]\n",
      " [0.        ]\n",
      " [0.        ]]\n"
     ]
    }
   ],
   "source": []
  },
  {
   "cell_type": "code",
   "execution_count": null,
   "id": "3f9342bc-2722-44f3-8113-9367b7be708a",
   "metadata": {},
   "outputs": [],
   "source": []
  }
 ],
 "metadata": {
  "kernelspec": {
   "display_name": "Python 3 (ipykernel)",
   "language": "python",
   "name": "python3"
  },
  "language_info": {
   "codemirror_mode": {
    "name": "ipython",
    "version": 3
   },
   "file_extension": ".py",
   "mimetype": "text/x-python",
   "name": "python",
   "nbconvert_exporter": "python",
   "pygments_lexer": "ipython3",
   "version": "3.8.2"
  }
 },
 "nbformat": 4,
 "nbformat_minor": 5
}
