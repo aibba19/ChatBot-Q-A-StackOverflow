{
 "cells": [
  {
   "cell_type": "code",
   "execution_count": 1,
   "id": "4ac5faa6-954b-4e58-abc1-79f3a18f6482",
   "metadata": {},
   "outputs": [],
   "source": [
    "import pandas as pd\n",
    "import gensim\n",
    "from sklearn.metrics.pairwise import cosine_similarity\n",
    "import numpy as np\n",
    "import spacy\n",
    "%run calculateSentence.ipynb\n",
    "import preprocessing\n",
    "\n",
    "EN = spacy.load('en_core_web_sm')"
   ]
  },
  {
   "cell_type": "code",
   "execution_count": 2,
   "id": "7026a9d6-2c7f-4dfc-873e-4409149f3f3b",
   "metadata": {},
   "outputs": [
    {
     "data": {
      "text/html": [
       "<div>\n",
       "<style scoped>\n",
       "    .dataframe tbody tr th:only-of-type {\n",
       "        vertical-align: middle;\n",
       "    }\n",
       "\n",
       "    .dataframe tbody tr th {\n",
       "        vertical-align: top;\n",
       "    }\n",
       "\n",
       "    .dataframe thead th {\n",
       "        text-align: right;\n",
       "    }\n",
       "</style>\n",
       "<table border=\"1\" class=\"dataframe\">\n",
       "  <thead>\n",
       "    <tr style=\"text-align: right;\">\n",
       "      <th></th>\n",
       "      <th>id</th>\n",
       "      <th>title</th>\n",
       "      <th>tags</th>\n",
       "      <th>score</th>\n",
       "      <th>post_corpus</th>\n",
       "      <th>questions</th>\n",
       "      <th>processed_title</th>\n",
       "    </tr>\n",
       "  </thead>\n",
       "  <tbody>\n",
       "    <tr>\n",
       "      <th>0</th>\n",
       "      <td>742</td>\n",
       "      <td>Class views in Django</td>\n",
       "      <td>python|django|views|oop</td>\n",
       "      <td>0.006891</td>\n",
       "      <td>class views django view points function proble...</td>\n",
       "      <td>Class views in Django  view points to a functi...</td>\n",
       "      <td>class views django</td>\n",
       "    </tr>\n",
       "    <tr>\n",
       "      <th>1</th>\n",
       "      <td>2933</td>\n",
       "      <td>Create a directly-executable cross-platform GU...</td>\n",
       "      <td>python|user-interface|deployment|tkinter|relea...</td>\n",
       "      <td>0.039994</td>\n",
       "      <td>create directlyexecutable crossplatform gui ap...</td>\n",
       "      <td>Create a directly-executable cross-platform GU...</td>\n",
       "      <td>create directlyexecutable crossplatform gui ap...</td>\n",
       "    </tr>\n",
       "    <tr>\n",
       "      <th>2</th>\n",
       "      <td>8154</td>\n",
       "      <td>Pylons error - 'MySQL server has gone away'</td>\n",
       "      <td>python|mysql|pylons</td>\n",
       "      <td>0.000370</td>\n",
       "      <td>pylons error mysql server gone away using pylo...</td>\n",
       "      <td>Pylons error - 'MySQL server has gone away' I'...</td>\n",
       "      <td>pylons error mysql server gone away</td>\n",
       "    </tr>\n",
       "    <tr>\n",
       "      <th>3</th>\n",
       "      <td>13791</td>\n",
       "      <td>Python Regular Expressions to implement string...</td>\n",
       "      <td>python|regex|backreference</td>\n",
       "      <td>0.000765</td>\n",
       "      <td>python regular expressions implement string un...</td>\n",
       "      <td>Python Regular Expressions to implement string...</td>\n",
       "      <td>python regular expressions implement string un...</td>\n",
       "    </tr>\n",
       "    <tr>\n",
       "      <th>4</th>\n",
       "      <td>19339</td>\n",
       "      <td>Transpose/Unzip Function (inverse of zip)?</td>\n",
       "      <td>python|list|matrix|transpose</td>\n",
       "      <td>0.093749</td>\n",
       "      <td>transposeunzip function inverse zip list tuple...</td>\n",
       "      <td>Transpose/Unzip Function (inverse of zip)? I h...</td>\n",
       "      <td>transposeunzip function inverse zip</td>\n",
       "    </tr>\n",
       "    <tr>\n",
       "      <th>...</th>\n",
       "      <td>...</td>\n",
       "      <td>...</td>\n",
       "      <td>...</td>\n",
       "      <td>...</td>\n",
       "      <td>...</td>\n",
       "      <td>...</td>\n",
       "      <td>...</td>\n",
       "    </tr>\n",
       "    <tr>\n",
       "      <th>176835</th>\n",
       "      <td>69059907</td>\n",
       "      <td>How to increase/change a value in a dataset wi...</td>\n",
       "      <td>python|pandas|for-loop</td>\n",
       "      <td>-0.000520</td>\n",
       "      <td>increasechange value dataset condition python ...</td>\n",
       "      <td>How to increase/change a value in a dataset wi...</td>\n",
       "      <td>increasechange value dataset condition python</td>\n",
       "    </tr>\n",
       "    <tr>\n",
       "      <th>176836</th>\n",
       "      <td>69059948</td>\n",
       "      <td>Check if elements in numpy array are between c...</td>\n",
       "      <td>python|numpy</td>\n",
       "      <td>-0.000322</td>\n",
       "      <td>check elements numpy array columns numpy array...</td>\n",
       "      <td>Check if elements in numpy array are between c...</td>\n",
       "      <td>check elements numpy array columns numpy array</td>\n",
       "    </tr>\n",
       "    <tr>\n",
       "      <th>176837</th>\n",
       "      <td>69060114</td>\n",
       "      <td>Pytorch geometric: how to explain the input in...</td>\n",
       "      <td>python|machine-learning|graph|pytorch|data-sci...</td>\n",
       "      <td>-0.000520</td>\n",
       "      <td>pytorch geometric explain input codesnippet re...</td>\n",
       "      <td>Pytorch geometric: how to explain the input in...</td>\n",
       "      <td>pytorch geometric explain input codesnippet</td>\n",
       "    </tr>\n",
       "    <tr>\n",
       "      <th>176838</th>\n",
       "      <td>69060216</td>\n",
       "      <td>Squaring a number using return values</td>\n",
       "      <td>python|function|return|return-value</td>\n",
       "      <td>-0.000421</td>\n",
       "      <td>squaring number using return values okay sure ...</td>\n",
       "      <td>Squaring a number using return values Okay, so...</td>\n",
       "      <td>squaring number using return values</td>\n",
       "    </tr>\n",
       "    <tr>\n",
       "      <th>176839</th>\n",
       "      <td>69060696</td>\n",
       "      <td>How do I extract two dates from a string in py...</td>\n",
       "      <td>python|regex|web-scraping|re|findall</td>\n",
       "      <td>-0.000421</td>\n",
       "      <td>extract two dates string python returns gives ...</td>\n",
       "      <td>How do I extract two dates from a string in py...</td>\n",
       "      <td>extract two dates string python</td>\n",
       "    </tr>\n",
       "  </tbody>\n",
       "</table>\n",
       "<p>176833 rows × 7 columns</p>\n",
       "</div>"
      ],
      "text/plain": [
       "              id                                              title  \\\n",
       "0            742                              Class views in Django   \n",
       "1           2933  Create a directly-executable cross-platform GU...   \n",
       "2           8154        Pylons error - 'MySQL server has gone away'   \n",
       "3          13791  Python Regular Expressions to implement string...   \n",
       "4          19339         Transpose/Unzip Function (inverse of zip)?   \n",
       "...          ...                                                ...   \n",
       "176835  69059907  How to increase/change a value in a dataset wi...   \n",
       "176836  69059948  Check if elements in numpy array are between c...   \n",
       "176837  69060114  Pytorch geometric: how to explain the input in...   \n",
       "176838  69060216              Squaring a number using return values   \n",
       "176839  69060696  How do I extract two dates from a string in py...   \n",
       "\n",
       "                                                     tags     score  \\\n",
       "0                                 python|django|views|oop  0.006891   \n",
       "1       python|user-interface|deployment|tkinter|relea...  0.039994   \n",
       "2                                     python|mysql|pylons  0.000370   \n",
       "3                              python|regex|backreference  0.000765   \n",
       "4                            python|list|matrix|transpose  0.093749   \n",
       "...                                                   ...       ...   \n",
       "176835                             python|pandas|for-loop -0.000520   \n",
       "176836                                       python|numpy -0.000322   \n",
       "176837  python|machine-learning|graph|pytorch|data-sci... -0.000520   \n",
       "176838                python|function|return|return-value -0.000421   \n",
       "176839               python|regex|web-scraping|re|findall -0.000421   \n",
       "\n",
       "                                              post_corpus  \\\n",
       "0       class views django view points function proble...   \n",
       "1       create directlyexecutable crossplatform gui ap...   \n",
       "2       pylons error mysql server gone away using pylo...   \n",
       "3       python regular expressions implement string un...   \n",
       "4       transposeunzip function inverse zip list tuple...   \n",
       "...                                                   ...   \n",
       "176835  increasechange value dataset condition python ...   \n",
       "176836  check elements numpy array columns numpy array...   \n",
       "176837  pytorch geometric explain input codesnippet re...   \n",
       "176838  squaring number using return values okay sure ...   \n",
       "176839  extract two dates string python returns gives ...   \n",
       "\n",
       "                                                questions  \\\n",
       "0       Class views in Django  view points to a functi...   \n",
       "1       Create a directly-executable cross-platform GU...   \n",
       "2       Pylons error - 'MySQL server has gone away' I'...   \n",
       "3       Python Regular Expressions to implement string...   \n",
       "4       Transpose/Unzip Function (inverse of zip)? I h...   \n",
       "...                                                   ...   \n",
       "176835  How to increase/change a value in a dataset wi...   \n",
       "176836  Check if elements in numpy array are between c...   \n",
       "176837  Pytorch geometric: how to explain the input in...   \n",
       "176838  Squaring a number using return values Okay, so...   \n",
       "176839  How do I extract two dates from a string in py...   \n",
       "\n",
       "                                          processed_title  \n",
       "0                                     class views django   \n",
       "1       create directlyexecutable crossplatform gui ap...  \n",
       "2                    pylons error mysql server gone away   \n",
       "3       python regular expressions implement string un...  \n",
       "4                    transposeunzip function inverse zip   \n",
       "...                                                   ...  \n",
       "176835     increasechange value dataset condition python   \n",
       "176836    check elements numpy array columns numpy array   \n",
       "176837       pytorch geometric explain input codesnippet   \n",
       "176838               squaring number using return values   \n",
       "176839                   extract two dates string python   \n",
       "\n",
       "[176833 rows x 7 columns]"
      ]
     },
     "execution_count": 2,
     "metadata": {},
     "output_type": "execute_result"
    }
   ],
   "source": [
    "#Importazione DB\n",
    "\n",
    "data = pd.read_csv('DB/Preprocessed_data.csv')\n",
    "\n",
    "data = data[data['processed_title'].notna()]\n",
    "\n",
    "data"
   ]
  },
  {
   "cell_type": "code",
   "execution_count": 3,
   "id": "55a184d7-8cea-47c4-bbac-a681f0938b86",
   "metadata": {},
   "outputs": [
    {
     "data": {
      "text/plain": [
       "<gensim.models.word2vec.Word2Vec at 0x10668c8e0>"
      ]
     },
     "execution_count": 3,
     "metadata": {},
     "output_type": "execute_result"
    }
   ],
   "source": [
    "#Importazione WordEmbeddings\n",
    "\n",
    "word_2_vec_model = gensim.models.word2vec.Word2Vec.load('DB/word2vec_trained.bin')\n",
    "word_2_vec_model"
   ]
  },
  {
   "cell_type": "code",
   "execution_count": 4,
   "id": "48fdb887-2fec-4917-9786-c3d7717e6efa",
   "metadata": {},
   "outputs": [],
   "source": [
    "def normalize(words):\n",
    "    words = preprocessing.clear_text(words)\n",
    "    return words"
   ]
  },
  {
   "cell_type": "code",
   "execution_count": 5,
   "id": "d4cc5988-b264-42ea-b986-4e45ee1f6c15",
   "metadata": {},
   "outputs": [
    {
     "data": {
      "text/plain": [
       "'\\nstringSearch = \"python\"\\nstringSearch = \\' \\'.join(normalize(tokenize_text(stringSearch))) #VEDERE \"tokenize_text\"\\n    \\nquestionToVec(stringSearch, word_2_vec_model)\\n'"
      ]
     },
     "execution_count": 5,
     "metadata": {},
     "output_type": "execute_result"
    }
   ],
   "source": [
    "'''\n",
    "stringSearch = \"python\"\n",
    "stringSearch = ' '.join(normalize(tokenize_text(stringSearch))) #VEDERE \"tokenize_text\"\n",
    "    \n",
    "questionToVec(stringSearch, word_2_vec_model)\n",
    "'''"
   ]
  },
  {
   "cell_type": "code",
   "execution_count": 6,
   "id": "4750d1f9-4230-4554-88c5-7d542efa03fb",
   "metadata": {},
   "outputs": [
    {
     "name": "stdout",
     "output_type": "stream",
     "text": [
      "combine lists lists \n"
     ]
    }
   ],
   "source": [
    "stringSearch = \"Combine lists of lists\"\n",
    "stringSearch = normalize(stringSearch)\n",
    "\n",
    "print(stringSearch)\n",
    "\n",
    "numberResult = \"5\"\n",
    "\n",
    "#Viene vettorizzata la query dell'utente\n",
    "\n",
    "vectorSearch = np.array([questionToVec(stringSearch, word_2_vec_model)])\n"
   ]
  },
  {
   "cell_type": "code",
   "execution_count": 7,
   "id": "be340ecd-d654-493e-b365-029b157f7645",
   "metadata": {},
   "outputs": [],
   "source": [
    "allTitleEmb = pd.read_csv('DB/titleEmbeddings.csv').values"
   ]
  },
  {
   "cell_type": "code",
   "execution_count": 21,
   "id": "ce0daa4f-0467-4238-97a1-b73413af4c6d",
   "metadata": {},
   "outputs": [
    {
     "name": "stdout",
     "output_type": "stream",
     "text": [
      "0        -0.136237\n",
      "1        -0.070272\n",
      "2        -0.314872\n",
      "3         0.162744\n",
      "4         0.210522\n",
      "            ...   \n",
      "176828    0.109338\n",
      "176829    0.305388\n",
      "176830   -0.010638\n",
      "176831    0.244990\n",
      "176832    0.290205\n",
      "Length: 176833, dtype: float64\n"
     ]
    }
   ],
   "source": [
    "#Calcolo della similarità del coseno for le query e tutti i titoli\n",
    "\n",
    "similarityCosine = pd.Series(cosine_similarity(vectorSearch, allTitleEmb)[0])\n",
    "print(similarityCosine)\n",
    "\n",
    "#Personalizzazione della misura di similarità\n",
    "\n",
    "#similarityCosine = similarityCosine*(1+0.4*data.overall_scores_norm + 0.1*(data.sentiment_polarity))\n",
    "similarityCosine = similarityCosine*(1+0.4*data.score)"
   ]
  },
  {
   "cell_type": "code",
   "execution_count": 22,
   "id": "3e00ae8f-fe5a-46f8-ad10-28be6941a63e",
   "metadata": {},
   "outputs": [
    {
     "name": "stdout",
     "output_type": "stream",
     "text": [
      "168091 0.5448556424052158 168098    Splitting lists of lists into two lists of lis...\n",
      "Name: title, dtype: object\n",
      "4571 0.529411217778881 4572    Split dictionary of lists into single lists\n",
      "Name: title, dtype: object\n",
      "115432 0.5276681046686886 115437    Splitting a list of lists into smaller lists\n",
      "Name: title, dtype: object\n",
      "151959 0.5258203061499854 151965    How can I convert two lists into a dataframe, ...\n",
      "Name: title, dtype: object\n",
      "159813 0.5216392628439795 159819    Append two individual lists to list of lists\n",
      "Name: title, dtype: object\n"
     ]
    }
   ],
   "source": [
    "for i,j in similarityCosine.nlargest(int(numberResult)).iteritems():\n",
    "    #print(i, data.Body[i]) \n",
    "    print(i,j,  data.iloc[[i]].title)"
   ]
  },
  {
   "cell_type": "code",
   "execution_count": null,
   "id": "77d75c7f-986c-4b17-bdd2-2c04e58ce5fe",
   "metadata": {},
   "outputs": [],
   "source": []
  }
 ],
 "metadata": {
  "kernelspec": {
   "display_name": "Python 3 (ipykernel)",
   "language": "python",
   "name": "python3"
  },
  "language_info": {
   "codemirror_mode": {
    "name": "ipython",
    "version": 3
   },
   "file_extension": ".py",
   "mimetype": "text/x-python",
   "name": "python",
   "nbconvert_exporter": "python",
   "pygments_lexer": "ipython3",
   "version": "3.8.2"
  }
 },
 "nbformat": 4,
 "nbformat_minor": 5
}
