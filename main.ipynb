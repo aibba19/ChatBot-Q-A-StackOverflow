{
 "cells": [
  {
   "cell_type": "code",
   "execution_count": 1,
   "id": "cf378fe2-3083-4ee6-b119-67fdb9919118",
   "metadata": {},
   "outputs": [],
   "source": [
    "import telepot\n",
    "from telepot.loop import MessageLoop\n",
    "from telepot.namedtuple import InlineKeyboardMarkup, InlineKeyboardButton\n",
    "from pprint import pprint\n",
    "import sys\n",
    "import time\n",
    "import response_manager\n",
    "import pandas as pd\n",
    "\n",
    "\n",
    "bot = telepot.Bot('2067569208:AAHYKIRPZJ_eKtEFAtAmcFOWGlOMyRbGsXI')"
   ]
  },
  {
   "cell_type": "code",
   "execution_count": 2,
   "id": "704669d0-ffd1-40c1-9cbb-50707e63ff33",
   "metadata": {},
   "outputs": [],
   "source": [
    "def on_chat_message(msg):\n",
    "    # Saving useful message info\n",
    "    content_type, chat_type, chat_id = telepot.glance(msg)\n",
    "    pprint(msg)\n",
    "    questions =  pd.read_csv(\"DB/questions_cleared.csv\", sep=\",\", low_memory = False, encoding='latin-1')\n",
    "    \n",
    "    # Check for content type\n",
    "    if content_type == 'text':\n",
    "        name = msg[\"from\"][\"first_name\"]\n",
    "        txt = str(msg['text'])\n",
    "        if '/start' == txt:\n",
    "            bot.sendMessage(chat_id, 'Hello {}! I\\'m StackBot.'.format(name))\n",
    "        \n",
    "        else:\n",
    "            resp = response_manager.gen_response(txt)\n",
    "            bot.sendMessage(chat_id, \"Here are some results:\")\n",
    "            \n",
    "            #bot.sendMessage(chat_id, \"Domanda con maggior similiarita\" + questions[])"
   ]
  },
  {
   "cell_type": "code",
   "execution_count": 3,
   "id": "44e717cc-1b6b-4873-b90b-9eeaa779e34c",
   "metadata": {},
   "outputs": [],
   "source": [
    "def on_callback_query(msg):\n",
    "    query_id, from_id, query_data = telepot.glance(msg, flavor='callback_query')\n",
    "    print(\"Callback Query: \", query_id, from_id, query_data)\n",
    "    \n",
    "    bot.answerCallbackQuery(query_id, text=\"YEAH\")\n",
    "    bot.sendMessage(query_id, \"What are you looking for?\")"
   ]
  },
  {
   "cell_type": "code",
   "execution_count": null,
   "id": "7b37e24c-c0bd-4d9a-894e-1ef03fe5aa80",
   "metadata": {},
   "outputs": [
    {
     "name": "stdout",
     "output_type": "stream",
     "text": [
      "{'chat': {'first_name': 'Andrea', 'id': 235419317, 'type': 'private'},\n",
      " 'date': 1635176949,\n",
      " 'from': {'first_name': 'Andrea',\n",
      "          'id': 235419317,\n",
      "          'is_bot': False,\n",
      "          'language_code': 'en'},\n",
      " 'message_id': 58,\n",
      " 'text': 'i have a problem wtith indentation in python'}\n"
     ]
    },
    {
     "name": "stderr",
     "output_type": "stream",
     "text": [
      "C:\\Users\\andri\\.virtualenvs\\Progetto_StackOverflow-UQruahqZ\\lib\\site-packages\\sklearn\\utils\\deprecation.py:87: FutureWarning: Function get_feature_names is deprecated; get_feature_names is deprecated in 1.0 and will be removed in 1.2. Please use get_feature_names_out instead.\n",
      "  warnings.warn(msg, category=FutureWarning)\n"
     ]
    },
    {
     "name": "stdout",
     "output_type": "stream",
     "text": [
      "[['indentation', 0.8351992613633952], ['python', 0.45672086655420413], ['problem', 0.3063466074106518], ['projest', 0.0], ['promoted', 0.0]]\n",
      "\n",
      "Keywords:\n",
      "[('113', 0.4), ('218', 0.4), ('331', 0.4), ('1098', 0.4), ('1198', 0.4)]\n"
     ]
    },
    {
     "name": "stderr",
     "output_type": "stream",
     "text": [
      "Traceback (most recent call last):\n",
      "  File \"C:\\Users\\andri\\.virtualenvs\\Progetto_StackOverflow-UQruahqZ\\lib\\site-packages\\telepot\\__init__.py\", line 1158, in collector\n",
      "    callback(item)\n",
      "  File \"C:\\Users\\andri\\.virtualenvs\\Progetto_StackOverflow-UQruahqZ\\lib\\site-packages\\telepot\\helper.py\", line 1041, in route\n",
      "    return fn(msg, *args, **kwargs)\n",
      "  File \"C:\\Users\\Public\\Documents\\Wondershare\\CreatorTemp/ipykernel_15816/4256192332.py\", line 16, in on_chat_message\n",
      "    bot.sendMessage(chat_id, \"Here are some results:\" + resp)\n",
      "TypeError: can only concatenate str (not \"list\") to str\n"
     ]
    }
   ],
   "source": [
    "# Managing different inputs\n",
    "bot.message_loop({'chat': on_chat_message,\n",
    "                  'callback_query': on_callback_query})\n",
    "\n",
    "# Keeping the program running\n",
    "while 1:\n",
    "    time.sleep(3)"
   ]
  }
 ],
 "metadata": {
  "kernelspec": {
   "display_name": "Python 3 (ipykernel)",
   "language": "python",
   "name": "python3"
  },
  "language_info": {
   "codemirror_mode": {
    "name": "ipython",
    "version": 3
   },
   "file_extension": ".py",
   "mimetype": "text/x-python",
   "name": "python",
   "nbconvert_exporter": "python",
   "pygments_lexer": "ipython3",
   "version": "3.9.7"
  }
 },
 "nbformat": 4,
 "nbformat_minor": 5
}
