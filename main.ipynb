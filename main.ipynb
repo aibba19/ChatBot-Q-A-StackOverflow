{
 "cells": [
  {
   "cell_type": "code",
   "execution_count": 1,
   "id": "cf378fe2-3083-4ee6-b119-67fdb9919118",
   "metadata": {},
   "outputs": [],
   "source": [
    "import telepot\n",
    "from telepot.loop import MessageLoop\n",
    "from telepot.namedtuple import InlineKeyboardMarkup, InlineKeyboardButton, ReplyKeyboardMarkup, KeyboardButton\n",
    "from telepot.delegate import (per_chat_id, per_application, call, create_open, pave_event_space)\n",
    "from pprint import pprint\n",
    "import sys\n",
    "import time\n",
    "import pandas as pd\n",
    "#%run Result_Word2Vec.ipynb\n",
    "%run chatbot.ipynb\n",
    "#%run w2v_ontology.ipynb"
   ]
  },
  {
   "cell_type": "markdown",
   "id": "ecccbc7b-221f-4dea-b37c-064de203a1d6",
   "metadata": {},
   "source": [
    "<h3>Class of Bot</h3>"
   ]
  },
  {
   "cell_type": "code",
   "execution_count": 2,
   "id": "50671618-086b-4cc8-839c-16ea892c7dd9",
   "metadata": {},
   "outputs": [],
   "source": [
    "class ChatBox(telepot.DelegatorBot):\n",
    "    def __init__(self, token, owner_id):\n",
    "        self._owner_id = owner_id\n",
    "        self._seen = set()\n",
    "        self._store = MessageStore()\n",
    "        \n",
    "        super(ChatBox, self).__init__(token, [\n",
    "            pave_event_space()(\n",
    "                per_chat_id(), create_open, MessageHandler, self._store, timeout=20),\n",
    "        ])"
   ]
  },
  {
   "cell_type": "markdown",
   "id": "a32f61b0-c2ff-4439-a721-1d15b8fd9c8e",
   "metadata": {},
   "source": [
    "<h1>Start Bot Telegram</h1>"
   ]
  },
  {
   "cell_type": "code",
   "execution_count": null,
   "id": "7b37e24c-c0bd-4d9a-894e-1ef03fe5aa80",
   "metadata": {},
   "outputs": [
    {
     "name": "stdout",
     "output_type": "stream",
     "text": [
      "Listening ...\n"
     ]
    },
    {
     "name": "stderr",
     "output_type": "stream",
     "text": [
      "ERROR:root:on_close() called due to IdleTerminate: 20\n"
     ]
    },
    {
     "name": "stdout",
     "output_type": "stream",
     "text": [
      "RESULTS:  [(46997036, 0, ['numpy', 'matrix', 'multiplication'], 'numpy matrix multiplication row-wise'), (62927349, 0, ['matrix', 'tkinter'], 'Building matrix GUI with tkinter'), (41208590, 0, ['numpy', 'theano'], 'How to use integer values of a matrix as index for another matrix using numpy or Theano?'), (61521226, 0, ['numpy', 'matrix'], 'numpy.dot function matrix multiplication: Numpy multiplies AxB matrix and 1xB matrix as AxB Matrix and Bx1 Matrix'), (64955936, 0, ['numpy', 'matrix', 'error-handling', 'matrix-inverse'], 'Python: Why do I get error message when I try to calculate the inverse of my 2x2-matrix (Hessian)?'), (46117275, 0, ['list', 'matrix', '2d'], '2d list / matrix in python'), (60271755, 0, ['numpy'], 'Numpy matrix flattens to a matrix'), (64510699, 0, ['numpy', 'matrix', 'matrix-multiplication', 'tensordot'], 'Multiplication of 2D array and 3D array'), (38680508, 0, ['python-3.x', 'numpy', 'scipy'], 'How to vstack efficiently a sequence of large numpy array chunks?')]\n"
     ]
    },
    {
     "name": "stderr",
     "output_type": "stream",
     "text": [
      "ERROR:root:on_close() called due to IdleTerminate: 20\n",
      "ERROR:root:on_close() called due to IdleTerminate: 20\n",
      "ERROR:root:on_close() called due to IdleTerminate: 20\n"
     ]
    },
    {
     "name": "stdout",
     "output_type": "stream",
     "text": [
      "RESULTS:  [(60473294, 0.1098869802219295, ['pandas', 'dummy-variable', 'dummy-data'], 'Create dummy coded columns for a column and concatenate it to the dataset'), (44357970, 0.10690648522595564, ['numpy', 'tensorflow', 'linear-algebra'], 'How to implement tf.space_to_depth with numpy?'), (49517830, 0.10009791765923194, ['regex', 'pandas'], 'Incorrect regex identification using pandas'), (41962066, 0.07921236140940184, ['scipy', 'spatial', 'delaunay', 'simplex'], 'How to select from the output of scipy Delaunay triangulation only simplices under certain volume (or under total line length)?'), (6207557, 0.06951895946835213, ['django', 'django-models', 'django-queryset'], 'How to reduce queries in django model has_relation method?'), (44148776, 0.06615154392567552, ['web-scraping', 'beautifulsoup', 'scrapy', 'urllib'], 'Scraping searchable online dictionary'), (58060307, 0.06350198575012807, ['pandas'], 'Filter columns by same value'), (51062770, 0.05640116126000585, ['pandas'], 'Python Pandas - Lambda apply keep initial format'), (68163767, 0.04251412618331872, ['python-3.x', 'pandas', 'dataframe'], 'Group by a pandas dataframe by 15 min time intervals but for the whole day'), (36892138, 0.025502173406413333, ['python-2.7', 'dictionary'], 'How to access list value inside dictionary')]\n",
      "STAMPA RESULTS:  [(44357970, 0.10690648522595564, ['numpy', 'tensorflow', 'linear-algebra'], 'How to implement tf.space_to_depth with numpy?'), (41962066, 0.07921236140940184, ['scipy', 'spatial', 'delaunay', 'simplex'], 'How to select from the output of scipy Delaunay triangulation only simplices under certain volume (or under total line length)?'), (6207557, 0.06951895946835213, ['django', 'django-models', 'django-queryset'], 'How to reduce queries in django model has_relation method?'), (44148776, 0.06615154392567552, ['web-scraping', 'beautifulsoup', 'scrapy', 'urllib'], 'Scraping searchable online dictionary'), (36892138, 0.025502173406413333, ['python-2.7', 'dictionary'], 'How to access list value inside dictionary'), (60473294, 0.1098869802219295, ['pandas', 'dummy-variable', 'dummy-data'], 'Create dummy coded columns for a column and concatenate it to the dataset'), (49517830, 0.10009791765923194, ['regex', 'pandas'], 'Incorrect regex identification using pandas'), (58060307, 0.06350198575012807, ['pandas'], 'Filter columns by same value'), (51062770, 0.05640116126000585, ['pandas'], 'Python Pandas - Lambda apply keep initial format'), (68163767, 0.04251412618331872, ['python-3.x', 'pandas', 'dataframe'], 'Group by a pandas dataframe by 15 min time intervals but for the whole day')]\n",
      "STAMPA RESULTS:  [(6207557, 0.06951895946835213, ['django', 'django-models', 'django-queryset'], 'How to reduce queries in django model has_relation method?'), (44148776, 0.06615154392567552, ['web-scraping', 'beautifulsoup', 'scrapy', 'urllib'], 'Scraping searchable online dictionary'), (36892138, 0.025502173406413333, ['python-2.7', 'dictionary'], 'How to access list value inside dictionary'), (60473294, 0.1098869802219295, ['dummy-variable', 'dummy-data'], 'Create dummy coded columns for a column and concatenate it to the dataset'), (49517830, 0.10009791765923194, ['regex'], 'Incorrect regex identification using pandas'), (68163767, 0.04251412618331872, ['python-3.x', 'dataframe'], 'Group by a pandas dataframe by 15 min time intervals but for the whole day'), (41962066, 0.07921236140940184, ['scipy', 'spatial', 'delaunay', 'simplex'], 'How to select from the output of scipy Delaunay triangulation only simplices under certain volume (or under total line length)?')]\n",
      "STAMPA RESULTS:  [(44148776, 0.06615154392567552, ['web-scraping', 'beautifulsoup', 'scrapy', 'urllib'], 'Scraping searchable online dictionary'), (36892138, 0.025502173406413333, ['python-2.7', 'dictionary'], 'How to access list value inside dictionary'), (60473294, 0.1098869802219295, ['dummy-variable', 'dummy-data'], 'Create dummy coded columns for a column and concatenate it to the dataset'), (49517830, 0.10009791765923194, ['regex'], 'Incorrect regex identification using pandas'), (68163767, 0.04251412618331872, ['python-3.x', 'dataframe'], 'Group by a pandas dataframe by 15 min time intervals but for the whole day'), (41962066, 0.07921236140940184, ['spatial', 'delaunay', 'simplex'], 'How to select from the output of scipy Delaunay triangulation only simplices under certain volume (or under total line length)?'), (6207557, 0.06951895946835213, ['django', 'django-models', 'django-queryset'], 'How to reduce queries in django model has_relation method?')]\n",
      "STAMPA RESULTS:  [(36892138, 0.025502173406413333, ['python-2.7', 'dictionary'], 'How to access list value inside dictionary'), (60473294, 0.1098869802219295, ['dummy-variable', 'dummy-data'], 'Create dummy coded columns for a column and concatenate it to the dataset'), (49517830, 0.10009791765923194, ['regex'], 'Incorrect regex identification using pandas'), (68163767, 0.04251412618331872, ['python-3.x', 'dataframe'], 'Group by a pandas dataframe by 15 min time intervals but for the whole day'), (41962066, 0.07921236140940184, ['spatial', 'delaunay', 'simplex'], 'How to select from the output of scipy Delaunay triangulation only simplices under certain volume (or under total line length)?'), (6207557, 0.06951895946835213, ['django-models', 'django-queryset'], 'How to reduce queries in django model has_relation method?'), (44148776, 0.06615154392567552, ['web-scraping', 'beautifulsoup', 'scrapy', 'urllib'], 'Scraping searchable online dictionary')]\n",
      "STAMPA RESULTS:  [(60473294, 0.1098869802219295, ['dummy-variable', 'dummy-data'], 'Create dummy coded columns for a column and concatenate it to the dataset'), (49517830, 0.10009791765923194, ['regex'], 'Incorrect regex identification using pandas'), (68163767, 0.04251412618331872, ['python-3.x', 'dataframe'], 'Group by a pandas dataframe by 15 min time intervals but for the whole day'), (41962066, 0.07921236140940184, ['spatial', 'delaunay', 'simplex'], 'How to select from the output of scipy Delaunay triangulation only simplices under certain volume (or under total line length)?'), (6207557, 0.06951895946835213, ['django-models', 'django-queryset'], 'How to reduce queries in django model has_relation method?'), (44148776, 0.06615154392567552, ['beautifulsoup', 'scrapy', 'urllib'], 'Scraping searchable online dictionary'), (36892138, 0.025502173406413333, ['python-2.7', 'dictionary'], 'How to access list value inside dictionary')]\n",
      "STAMPA RESULTS:  [(49517830, 0.10009791765923194, ['regex'], 'Incorrect regex identification using pandas'), (68163767, 0.04251412618331872, ['python-3.x', 'dataframe'], 'Group by a pandas dataframe by 15 min time intervals but for the whole day'), (41962066, 0.07921236140940184, ['spatial', 'delaunay', 'simplex'], 'How to select from the output of scipy Delaunay triangulation only simplices under certain volume (or under total line length)?'), (6207557, 0.06951895946835213, ['django-models', 'django-queryset'], 'How to reduce queries in django model has_relation method?'), (44148776, 0.06615154392567552, ['beautifulsoup', 'scrapy', 'urllib'], 'Scraping searchable online dictionary'), (36892138, 0.025502173406413333, ['dictionary'], 'How to access list value inside dictionary'), (60473294, 0.1098869802219295, ['dummy-variable', 'dummy-data'], 'Create dummy coded columns for a column and concatenate it to the dataset')]\n",
      "STAMPA RESULTS:  [(68163767, 0.04251412618331872, ['python-3.x', 'dataframe'], 'Group by a pandas dataframe by 15 min time intervals but for the whole day'), (41962066, 0.07921236140940184, ['spatial', 'delaunay', 'simplex'], 'How to select from the output of scipy Delaunay triangulation only simplices under certain volume (or under total line length)?'), (6207557, 0.06951895946835213, ['django-models', 'django-queryset'], 'How to reduce queries in django model has_relation method?'), (44148776, 0.06615154392567552, ['beautifulsoup', 'scrapy', 'urllib'], 'Scraping searchable online dictionary'), (36892138, 0.025502173406413333, ['dictionary'], 'How to access list value inside dictionary'), (60473294, 0.1098869802219295, ['dummy-data'], 'Create dummy coded columns for a column and concatenate it to the dataset'), (49517830, 0.10009791765923194, ['regex'], 'Incorrect regex identification using pandas')]\n",
      "STAMPA RESULTS:  [(6207557, 0.06951895946835213, ['django-models', 'django-queryset'], 'How to reduce queries in django model has_relation method?'), (44148776, 0.06615154392567552, ['beautifulsoup', 'scrapy', 'urllib'], 'Scraping searchable online dictionary'), (36892138, 0.025502173406413333, ['dictionary'], 'How to access list value inside dictionary'), (60473294, 0.1098869802219295, ['dummy-data'], 'Create dummy coded columns for a column and concatenate it to the dataset'), (41962066, 0.07921236140940184, ['spatial', 'delaunay', 'simplex'], 'How to select from the output of scipy Delaunay triangulation only simplices under certain volume (or under total line length)?')]\n",
      "STAMPA RESULTS:  [(44148776, 0.06615154392567552, ['beautifulsoup', 'scrapy', 'urllib'], 'Scraping searchable online dictionary'), (36892138, 0.025502173406413333, ['dictionary'], 'How to access list value inside dictionary'), (60473294, 0.1098869802219295, ['dummy-data'], 'Create dummy coded columns for a column and concatenate it to the dataset'), (41962066, 0.07921236140940184, ['delaunay', 'simplex'], 'How to select from the output of scipy Delaunay triangulation only simplices under certain volume (or under total line length)?'), (6207557, 0.06951895946835213, ['django-models', 'django-queryset'], 'How to reduce queries in django model has_relation method?')]\n",
      "STAMPA RESULTS:  [(36892138, 0.025502173406413333, ['dictionary'], 'How to access list value inside dictionary'), (60473294, 0.1098869802219295, ['dummy-data'], 'Create dummy coded columns for a column and concatenate it to the dataset'), (41962066, 0.07921236140940184, ['delaunay', 'simplex'], 'How to select from the output of scipy Delaunay triangulation only simplices under certain volume (or under total line length)?'), (6207557, 0.06951895946835213, ['django-queryset'], 'How to reduce queries in django model has_relation method?'), (44148776, 0.06615154392567552, ['beautifulsoup', 'scrapy', 'urllib'], 'Scraping searchable online dictionary')]\n",
      "STAMPA RESULTS:  [(41962066, 0.07921236140940184, ['delaunay', 'simplex'], 'How to select from the output of scipy Delaunay triangulation only simplices under certain volume (or under total line length)?'), (6207557, 0.06951895946835213, ['django-queryset'], 'How to reduce queries in django model has_relation method?'), (44148776, 0.06615154392567552, ['scrapy', 'urllib'], 'Scraping searchable online dictionary'), (60473294, 0.1098869802219295, ['dummy-data'], 'Create dummy coded columns for a column and concatenate it to the dataset')]\n",
      "STAMPA RESULTS:  [(6207557, 0.06951895946835213, ['django-queryset'], 'How to reduce queries in django model has_relation method?'), (44148776, 0.06615154392567552, ['scrapy', 'urllib'], 'Scraping searchable online dictionary'), (41962066, 0.07921236140940184, ['simplex'], 'How to select from the output of scipy Delaunay triangulation only simplices under certain volume (or under total line length)?')]\n",
      "STAMPA RESULTS:  [(44148776, 0.06615154392567552, ['scrapy', 'urllib'], 'Scraping searchable online dictionary'), (6207557, 0.06951895946835213, ['django-queryset'], 'How to reduce queries in django model has_relation method?')]\n",
      "STAMPA RESULTS:  [(44148776, 0.06615154392567552, ['scrapy', 'urllib'], 'Scraping searchable online dictionary')]\n",
      "RESULTS:  [(60473294, 0.1098869802219295, ['pandas', 'dummy-variable', 'dummy-data'], 'Create dummy coded columns for a column and concatenate it to the dataset'), (44357970, 0.10690648522595564, ['numpy', 'tensorflow', 'linear-algebra'], 'How to implement tf.space_to_depth with numpy?'), (49517830, 0.10009791765923194, ['regex', 'pandas'], 'Incorrect regex identification using pandas'), (41962066, 0.07921236140940184, ['scipy', 'spatial', 'delaunay', 'simplex'], 'How to select from the output of scipy Delaunay triangulation only simplices under certain volume (or under total line length)?'), (6207557, 0.06951895946835213, ['django', 'django-models', 'django-queryset'], 'How to reduce queries in django model has_relation method?'), (44148776, 0.06615154392567552, ['web-scraping', 'beautifulsoup', 'scrapy', 'urllib'], 'Scraping searchable online dictionary'), (58060307, 0.06350198575012807, ['pandas'], 'Filter columns by same value'), (51062770, 0.05640116126000585, ['pandas'], 'Python Pandas - Lambda apply keep initial format'), (68163767, 0.04251412618331872, ['python-3.x', 'pandas', 'dataframe'], 'Group by a pandas dataframe by 15 min time intervals but for the whole day'), (36892138, 0.025502173406413333, ['python-2.7', 'dictionary'], 'How to access list value inside dictionary')]\n",
      "STAMPA RESULTS:  [(44357970, 0.10690648522595564, ['numpy', 'tensorflow', 'linear-algebra'], 'How to implement tf.space_to_depth with numpy?'), (41962066, 0.07921236140940184, ['scipy', 'spatial', 'delaunay', 'simplex'], 'How to select from the output of scipy Delaunay triangulation only simplices under certain volume (or under total line length)?'), (6207557, 0.06951895946835213, ['django', 'django-models', 'django-queryset'], 'How to reduce queries in django model has_relation method?'), (44148776, 0.06615154392567552, ['web-scraping', 'beautifulsoup', 'scrapy', 'urllib'], 'Scraping searchable online dictionary'), (36892138, 0.025502173406413333, ['python-2.7', 'dictionary'], 'How to access list value inside dictionary'), (60473294, 0.1098869802219295, ['pandas', 'dummy-variable', 'dummy-data'], 'Create dummy coded columns for a column and concatenate it to the dataset'), (49517830, 0.10009791765923194, ['regex', 'pandas'], 'Incorrect regex identification using pandas'), (58060307, 0.06350198575012807, ['pandas'], 'Filter columns by same value'), (51062770, 0.05640116126000585, ['pandas'], 'Python Pandas - Lambda apply keep initial format'), (68163767, 0.04251412618331872, ['python-3.x', 'pandas', 'dataframe'], 'Group by a pandas dataframe by 15 min time intervals but for the whole day')]\n",
      "RESULTS:  [(60847480, 0, ['django', 'pycharm', 'nltk'], 'what should i do to remove the error of importing nltk as i have already installed it?'), (13516364, 0, ['nltk', 'scikit-learn'], 'Using scikit-learn classifier inside nltk, multiclass case'), (40776677, 0, ['linux', 'pip'], 'Error: No Module Named NLTK Python2.7 Linux'), (27551550, 0, ['pip', 'nltk'], 'Cannot import nltk under OSX'), (24107444, 0, ['python-2.7', 'heroku', 'flask', 'nltk'], \"LookupError: Resource 'corpora/stopwords' not found\"), (64945076, 0, ['django', 'git', 'heroku'], \"Using Natural Language Tool Kit with Django on Heroku - - Error: 'nltk.txt' not found\"), (27029020, 0, ['pandas', 'machine-learning', 'nlp', 'nltk'], 'Too many values to unpack using NLTK and Pandas in Python'), (4789318, 0, ['machine-learning', 'nltk', 'naivebayes', 'orange'], 'Orange vs NLTK for Content Classification in Python'), (43557561, 0, ['python-2.7', 'pip', 'nltk', 'ubuntu-16.04'], 'Can\\'t import nltk. Saying \"ImportError: No module named collocations\"')]\n",
      "STAMPA RESULTS:  [(13516364, 0, ['nltk', 'scikit-learn'], 'Using scikit-learn classifier inside nltk, multiclass case'), (40776677, 0, ['linux', 'pip'], 'Error: No Module Named NLTK Python2.7 Linux'), (27551550, 0, ['pip', 'nltk'], 'Cannot import nltk under OSX'), (24107444, 0, ['python-2.7', 'heroku', 'flask', 'nltk'], \"LookupError: Resource 'corpora/stopwords' not found\"), (27029020, 0, ['pandas', 'machine-learning', 'nlp', 'nltk'], 'Too many values to unpack using NLTK and Pandas in Python'), (4789318, 0, ['machine-learning', 'nltk', 'naivebayes', 'orange'], 'Orange vs NLTK for Content Classification in Python'), (43557561, 0, ['python-2.7', 'pip', 'nltk', 'ubuntu-16.04'], 'Can\\'t import nltk. Saying \"ImportError: No module named collocations\"'), (60847480, 0, ['django', 'pycharm', 'nltk'], 'what should i do to remove the error of importing nltk as i have already installed it?'), (64945076, 0, ['django', 'git', 'heroku'], \"Using Natural Language Tool Kit with Django on Heroku - - Error: 'nltk.txt' not found\")]\n",
      "STAMPA RESULTS:  [(40776677, 0, ['linux', 'pip'], 'Error: No Module Named NLTK Python2.7 Linux'), (27029020, 0, ['pandas', 'machine-learning', 'nlp', 'nltk'], 'Too many values to unpack using NLTK and Pandas in Python'), (4789318, 0, ['machine-learning', 'nltk', 'naivebayes', 'orange'], 'Orange vs NLTK for Content Classification in Python'), (60847480, 0, ['pycharm', 'nltk'], 'what should i do to remove the error of importing nltk as i have already installed it?'), (64945076, 0, ['git', 'heroku'], \"Using Natural Language Tool Kit with Django on Heroku - - Error: 'nltk.txt' not found\"), (43557561, 0, ['python-2.7', 'pip', 'nltk', 'ubuntu-16.04'], 'Can\\'t import nltk. Saying \"ImportError: No module named collocations\"'), (24107444, 0, ['python-2.7', 'heroku', 'flask', 'nltk'], \"LookupError: Resource 'corpora/stopwords' not found\")]\n",
      "STAMPA RESULTS:  [(27029020, 0, ['pandas', 'machine-learning', 'nlp', 'nltk'], 'Too many values to unpack using NLTK and Pandas in Python'), (4789318, 0, ['machine-learning', 'nltk', 'naivebayes', 'orange'], 'Orange vs NLTK for Content Classification in Python'), (60847480, 0, ['pycharm', 'nltk'], 'what should i do to remove the error of importing nltk as i have already installed it?'), (64945076, 0, ['git', 'heroku'], \"Using Natural Language Tool Kit with Django on Heroku - - Error: 'nltk.txt' not found\"), (43557561, 0, ['pip', 'nltk', 'ubuntu-16.04'], 'Can\\'t import nltk. Saying \"ImportError: No module named collocations\"'), (24107444, 0, ['heroku', 'flask', 'nltk'], \"LookupError: Resource 'corpora/stopwords' not found\"), (40776677, 0, ['linux', 'pip'], 'Error: No Module Named NLTK Python2.7 Linux')]\n",
      "STAMPA RESULTS:  [(4789318, 0, ['machine-learning', 'nltk', 'naivebayes', 'orange'], 'Orange vs NLTK for Content Classification in Python'), (60847480, 0, ['pycharm', 'nltk'], 'what should i do to remove the error of importing nltk as i have already installed it?'), (64945076, 0, ['git', 'heroku'], \"Using Natural Language Tool Kit with Django on Heroku - - Error: 'nltk.txt' not found\"), (43557561, 0, ['pip', 'nltk', 'ubuntu-16.04'], 'Can\\'t import nltk. Saying \"ImportError: No module named collocations\"'), (24107444, 0, ['heroku', 'flask', 'nltk'], \"LookupError: Resource 'corpora/stopwords' not found\"), (40776677, 0, ['pip'], 'Error: No Module Named NLTK Python2.7 Linux'), (27029020, 0, ['pandas', 'machine-learning', 'nlp', 'nltk'], 'Too many values to unpack using NLTK and Pandas in Python')]\n",
      "STAMPA RESULTS:  [(60847480, 0, ['pycharm', 'nltk'], 'what should i do to remove the error of importing nltk as i have already installed it?'), (64945076, 0, ['git', 'heroku'], \"Using Natural Language Tool Kit with Django on Heroku - - Error: 'nltk.txt' not found\"), (43557561, 0, ['pip', 'nltk', 'ubuntu-16.04'], 'Can\\'t import nltk. Saying \"ImportError: No module named collocations\"'), (24107444, 0, ['heroku', 'flask', 'nltk'], \"LookupError: Resource 'corpora/stopwords' not found\"), (40776677, 0, ['pip'], 'Error: No Module Named NLTK Python2.7 Linux'), (27029020, 0, ['machine-learning', 'nlp', 'nltk'], 'Too many values to unpack using NLTK and Pandas in Python')]\n",
      "STAMPA RESULTS:  [(64945076, 0, ['git', 'heroku'], \"Using Natural Language Tool Kit with Django on Heroku - - Error: 'nltk.txt' not found\"), (43557561, 0, ['pip', 'nltk', 'ubuntu-16.04'], 'Can\\'t import nltk. Saying \"ImportError: No module named collocations\"'), (24107444, 0, ['heroku', 'flask', 'nltk'], \"LookupError: Resource 'corpora/stopwords' not found\"), (40776677, 0, ['pip'], 'Error: No Module Named NLTK Python2.7 Linux'), (27029020, 0, ['nlp', 'nltk'], 'Too many values to unpack using NLTK and Pandas in Python'), (60847480, 0, ['pycharm', 'nltk'], 'what should i do to remove the error of importing nltk as i have already installed it?')]\n",
      "STAMPA RESULTS:  [(43557561, 0, ['pip', 'nltk', 'ubuntu-16.04'], 'Can\\'t import nltk. Saying \"ImportError: No module named collocations\"'), (24107444, 0, ['heroku', 'flask', 'nltk'], \"LookupError: Resource 'corpora/stopwords' not found\"), (40776677, 0, ['pip'], 'Error: No Module Named NLTK Python2.7 Linux'), (27029020, 0, ['nlp', 'nltk'], 'Too many values to unpack using NLTK and Pandas in Python'), (60847480, 0, ['nltk'], 'what should i do to remove the error of importing nltk as i have already installed it?'), (64945076, 0, ['git', 'heroku'], \"Using Natural Language Tool Kit with Django on Heroku - - Error: 'nltk.txt' not found\")]\n"
     ]
    },
    {
     "name": "stderr",
     "output_type": "stream",
     "text": [
      "ERROR:root:on_close() called due to IdleTerminate: 20\n"
     ]
    },
    {
     "name": "stdout",
     "output_type": "stream",
     "text": [
      "STAMPA RESULTS:  [(27029020, 0, ['nlp', 'nltk'], 'Too many values to unpack using NLTK and Pandas in Python'), (60847480, 0, ['nltk'], 'what should i do to remove the error of importing nltk as i have already installed it?'), (64945076, 0, ['heroku'], \"Using Natural Language Tool Kit with Django on Heroku - - Error: 'nltk.txt' not found\"), (24107444, 0, ['flask', 'nltk'], \"LookupError: Resource 'corpora/stopwords' not found\")]\n"
     ]
    },
    {
     "name": "stderr",
     "output_type": "stream",
     "text": [
      "ERROR:root:on_close() called due to IdleTerminate: 20\n",
      "ERROR:root:on_close() called due to IdleTerminate: 20\n"
     ]
    }
   ],
   "source": [
    "OWNER_ID = 102199992\n",
    "TOKEN = '2067569208:AAHYKIRPZJ_eKtEFAtAmcFOWGlOMyRbGsXI'\n",
    "\n",
    "bot = ChatBox(TOKEN, OWNER_ID)\n",
    "MessageLoop(bot).run_as_thread()\n",
    "print('Listening ...')\n",
    "\n",
    "while 1:\n",
    "    time.sleep(3)"
   ]
  }
 ],
 "metadata": {
  "kernelspec": {
   "display_name": "Python 3 (ipykernel)",
   "language": "python",
   "name": "python3"
  },
  "language_info": {
   "codemirror_mode": {
    "name": "ipython",
    "version": 3
   },
   "file_extension": ".py",
   "mimetype": "text/x-python",
   "name": "python",
   "nbconvert_exporter": "python",
   "pygments_lexer": "ipython3",
   "version": "3.8.2"
  }
 },
 "nbformat": 4,
 "nbformat_minor": 5
}
