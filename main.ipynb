{
 "cells": [
  {
   "cell_type": "code",
   "execution_count": 1,
   "id": "cf378fe2-3083-4ee6-b119-67fdb9919118",
   "metadata": {},
   "outputs": [
    {
     "name": "stdout",
     "output_type": "stream",
     "text": [
      "[115355   9418  20922  86895]\n",
      "[('javax.swing.plaf.basic.BasicDirectoryModel-renameFile(java.io.File-java.io.File)', 'Renames a file in the underlying file system.   ', 0.6291374988057696)]\n",
      "('javax.imageio.ImageReader-isSeekForwardOnly()', 'Returns true if the current input source has been  marked as seek forward only by passing true as the  seek kForward dOnly argument to the  set tInput method.   ', 0.0)\n"
     ]
    }
   ],
   "source": [
    "import telepot\n",
    "from telepot.loop import MessageLoop\n",
    "from telepot.namedtuple import InlineKeyboardMarkup, InlineKeyboardButton, ReplyKeyboardMarkup, KeyboardButton\n",
    "from telepot.delegate import (per_chat_id, per_application, call, create_open, pave_event_space)\n",
    "from pprint import pprint\n",
    "import sys\n",
    "import time\n",
    "import response_manager\n",
    "import pandas as pd\n",
    "#%run Result_Word2Vec.ipynb\n",
    "%run chatbot.ipynb\n",
    "#%run w2v_ontology.ipynb"
   ]
  },
  {
   "cell_type": "code",
   "execution_count": 2,
   "id": "50671618-086b-4cc8-839c-16ea892c7dd9",
   "metadata": {},
   "outputs": [],
   "source": [
    "class ChatBox(telepot.DelegatorBot):\n",
    "    def __init__(self, token, owner_id):\n",
    "        self._owner_id = owner_id\n",
    "        self._seen = set()\n",
    "        self._store = MessageStore()\n",
    "        \n",
    "        super(ChatBox, self).__init__(token, [\n",
    "            pave_event_space()(\n",
    "                per_chat_id(), create_open, MessageHandler, self._store, timeout=20),\n",
    "        ])"
   ]
  },
  {
   "cell_type": "code",
   "execution_count": null,
   "id": "7b37e24c-c0bd-4d9a-894e-1ef03fe5aa80",
   "metadata": {},
   "outputs": [
    {
     "name": "stdout",
     "output_type": "stream",
     "text": [
      "Listening ...\n",
      "RESULTS:  [(65543955, 0.20302259655570362, ['tkinter', 'random'], 'How to select a random Entry on a tkinter canvas?'), (12972021, 0.19897836850939277, ['django', 'sorting'], 'Sort a list in Django')]\n",
      "TAGSSS:  [['tkinter', 'random'], ['django', 'sorting']]\n"
     ]
    },
    {
     "name": "stderr",
     "output_type": "stream",
     "text": [
      "Traceback (most recent call last):\n",
      "  File \"/Users/marcolilliu/.local/share/virtualenvs/Progetto_NLP-CF9aZTjh/lib/python3.8/site-packages/telepot/delegate.py\", line 269, in wait_loop\n",
      "    j.on_message(msg)\n",
      "  File \"/Users/marcolilliu/.local/share/virtualenvs/Progetto_NLP-CF9aZTjh/lib/python3.8/site-packages/telepot/helper.py\", line 689, in augmented\n",
      "    return handler(msg)\n",
      "  File \"/Users/marcolilliu/.local/share/virtualenvs/Progetto_NLP-CF9aZTjh/lib/python3.8/site-packages/telepot/helper.py\", line 1067, in on_message\n",
      "    self._router.route(msg)\n",
      "  File \"/Users/marcolilliu/.local/share/virtualenvs/Progetto_NLP-CF9aZTjh/lib/python3.8/site-packages/telepot/helper.py\", line 1041, in route\n",
      "    return fn(msg, *args, **kwargs)\n",
      "  File \"/Users/marcolilliu/.local/share/virtualenvs/Progetto_NLP-CF9aZTjh/lib/python3.8/site-packages/telepot/helper.py\", line 1049, in <lambda>\n",
      "    self._router = Router(flavor, {'chat': lambda msg: self.on_chat_message(msg),\n",
      "  File \"/var/folders/7j/b9v_1c594f74fpz8g452mpfr0000gn/T/ipykernel_3351/618588887.py\", line 164, in on_chat_message\n",
      "    sendControl(self, results, self._store, message_history, 0, [])\n",
      "  File \"/var/folders/7j/b9v_1c594f74fpz8g452mpfr0000gn/T/ipykernel_3351/3579107938.py\", line 14, in sendControl\n",
      "    tags = [el[2] for el in results]\n",
      "  File \"/var/folders/7j/b9v_1c594f74fpz8g452mpfr0000gn/T/ipykernel_3351/3579107938.py\", line 14, in <listcomp>\n",
      "    tags = [el[2] for el in results]\n",
      "IndexError: invalid index to scalar variable.\n",
      "ERROR:root:on_close() called due to IndexError: invalid index to scalar variable.\n"
     ]
    },
    {
     "name": "stdout",
     "output_type": "stream",
     "text": [
      "RESULTS:  [117294  39089  39091  39092]\n"
     ]
    }
   ],
   "source": [
    "OWNER_ID = 102199992\n",
    "TOKEN = '2067569208:AAHYKIRPZJ_eKtEFAtAmcFOWGlOMyRbGsXI'\n",
    "\n",
    "bot = ChatBox(TOKEN, OWNER_ID)\n",
    "MessageLoop(bot).run_as_thread()\n",
    "print('Listening ...')\n",
    "\n",
    "while 1:\n",
    "    time.sleep(3)"
   ]
  },
  {
   "cell_type": "code",
   "execution_count": null,
   "id": "92546011-3fc1-4398-99b3-4b909d64a370",
   "metadata": {},
   "outputs": [],
   "source": []
  }
 ],
 "metadata": {
  "kernelspec": {
   "display_name": "Python 3 (ipykernel)",
   "language": "python",
   "name": "python3"
  },
  "language_info": {
   "codemirror_mode": {
    "name": "ipython",
    "version": 3
   },
   "file_extension": ".py",
   "mimetype": "text/x-python",
   "name": "python",
   "nbconvert_exporter": "python",
   "pygments_lexer": "ipython3",
   "version": "3.8.2"
  }
 },
 "nbformat": 4,
 "nbformat_minor": 5
}
