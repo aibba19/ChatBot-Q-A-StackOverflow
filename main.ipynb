{
 "cells": [
  {
   "cell_type": "code",
   "execution_count": 1,
   "id": "cf378fe2-3083-4ee6-b119-67fdb9919118",
   "metadata": {},
   "outputs": [],
   "source": [
    "import telepot\n",
    "from telepot.loop import MessageLoop\n",
    "from telepot.namedtuple import InlineKeyboardMarkup, InlineKeyboardButton, ReplyKeyboardMarkup, KeyboardButton\n",
    "from telepot.delegate import (per_chat_id, per_application, call, create_open, pave_event_space)\n",
    "from pprint import pprint\n",
    "import sys\n",
    "import time\n",
    "import pandas as pd\n",
    "\n",
    "%run chatbot.ipynb\n"
   ]
  },
  {
   "cell_type": "markdown",
   "id": "ecccbc7b-221f-4dea-b37c-064de203a1d6",
   "metadata": {},
   "source": [
    "<h3>Class of Bot</h3>"
   ]
  },
  {
   "cell_type": "code",
   "execution_count": 2,
   "id": "50671618-086b-4cc8-839c-16ea892c7dd9",
   "metadata": {},
   "outputs": [],
   "source": [
    "class ChatBox(telepot.DelegatorBot):\n",
    "    def __init__(self, token, owner_id):\n",
    "        self._owner_id = owner_id\n",
    "        self._seen = set()\n",
    "        self._store = MessageStore()\n",
    "        \n",
    "        super(ChatBox, self).__init__(token, [\n",
    "            pave_event_space()(\n",
    "                per_chat_id(), create_open, MessageHandler, self._store, timeout=20),\n",
    "        ])"
   ]
  },
  {
   "cell_type": "markdown",
   "id": "a32f61b0-c2ff-4439-a721-1d15b8fd9c8e",
   "metadata": {},
   "source": [
    "<h1>Start Bot Telegram</h1>"
   ]
  },
  {
   "cell_type": "code",
   "execution_count": null,
   "id": "7b37e24c-c0bd-4d9a-894e-1ef03fe5aa80",
   "metadata": {},
   "outputs": [
    {
     "name": "stdout",
     "output_type": "stream",
     "text": [
      "Listening ...\n",
      "Searching the input string :combine list of list\n",
      "\n",
      "Using W2V tecnology\n",
      "----------------------------------------------------------------------------------------------------\n",
      "RESULTS:  [(32840468, 0.9165012689195305, ['list'], 'combining list of list to single list Python'), (53249949, 0.9130771175085204, ['list', 'zip', 'tuples'], 'How to combine a string list with a list of lists of integers'), (67668893, 0.9116054752341257, ['list', 'numpy'], 'How to change two separate list of list to single list of list?'), (64295178, 0.9079844119741829, ['list'], 'Appending list to a list does not generate list of lists'), (38604805, 0.9056062631734002, ['list'], 'Convert list into list of lists')]\n",
      "----------------------------------------------------------------------------------------------------\n",
      "textINPUT_w2v_ONT Appending list to a list does not generate list of lists\n",
      "\n",
      "Code Ontology Results: [('java.util.AbstractSequentialList-listIterator(int)', 'Returns a list iterator over the elements in this list (in proper  sequence).   ', 0.7883604200991577), ('java.util.List-listIterator()', 'Returns a list iterator over the elements in this list (in proper  sequence).   ', 0.7883604200991577), ('java.util.Vector-subList(int-int)', 'Returns a view of the portion of this List between from Index,  inclusive, and to Index, exclusive.  (If from Index and to Index are  equal, the returned List is empty.)  The returned List is backed by this  List, so changes in the returned List are reflected in this List, and  vice-versa.  The returned List supports all of the optional List  operations supported by this List.   This method eliminates the need for explicit range operations (of  the sort that commonly exist for arrays).  Any operation that expects  a List can be used as a range operation by operating on a sub List view  instead of a whole List.  For example, the following idiom  removes a range of elements from a List:         list.sub List(from, to).clear();    Similar idioms may be constructed for index Of and last Index Of,  and all of the algorithms in the Collections class can be applied to  a sub List.   The semantics of the List returned by this method become undefined if  the backing list (i.e., this List) is structurally modified in  any way other than via the returned List.  (Structural modifications are  those that change the size of the List, or otherwise perturb it in such  a fashion that iterations in progress may yield incorrect results.)   ', 0.7878170209656279)]\n",
      "----------------------------------------------------------------------------------------------------\n",
      "[('java.util.AbstractSequentialList-listIterator(int)', 'Returns a list iterator over the elements in this list (in proper  sequence).   ', 0.7883604200991577), ('java.util.List-listIterator()', 'Returns a list iterator over the elements in this list (in proper  sequence).   ', 0.7883604200991577), ('java.util.Vector-subList(int-int)', 'Returns a view of the portion of this List between from Index,  inclusive, and to Index, exclusive.  (If from Index and to Index are  equal, the returned List is empty.)  The returned List is backed by this  List, so changes in the returned List are reflected in this List, and  vice-versa.  The returned List supports all of the optional List  operations supported by this List.   This method eliminates the need for explicit range operations (of  the sort that commonly exist for arrays).  Any operation that expects  a List can be used as a range operation by operating on a sub List view  instead of a whole List.  For example, the following idiom  removes a range of elements from a List:         list.sub List(from, to).clear();    Similar idioms may be constructed for index Of and last Index Of,  and all of the algorithms in the Collections class can be applied to  a sub List.   The semantics of the List returned by this method become undefined if  the backing list (i.e., this List) is structurally modified in  any way other than via the returned List.  (Structural modifications are  those that change the size of the List, or otherwise perturb it in such  a fashion that iterations in progress may yield incorrect results.)   ', 0.7878170209656279)]\n"
     ]
    },
    {
     "name": "stderr",
     "output_type": "stream",
     "text": [
      "ERROR:root:on_close() called due to IdleTerminate: 20\n"
     ]
    }
   ],
   "source": [
    "OWNER_ID = 102199992\n",
    "TOKEN = '2067569208:AAHYKIRPZJ_eKtEFAtAmcFOWGlOMyRbGsXI'\n",
    "\n",
    "bot = ChatBox(TOKEN, OWNER_ID)\n",
    "MessageLoop(bot).run_as_thread()\n",
    "print('Listening ...')\n",
    "\n",
    "while 1:\n",
    "    time.sleep(3)"
   ]
  }
 ],
 "metadata": {
  "kernelspec": {
   "display_name": "Python 3 (ipykernel)",
   "language": "python",
   "name": "python3"
  },
  "language_info": {
   "codemirror_mode": {
    "name": "ipython",
    "version": 3
   },
   "file_extension": ".py",
   "mimetype": "text/x-python",
   "name": "python",
   "nbconvert_exporter": "python",
   "pygments_lexer": "ipython3",
   "version": "3.9.10"
  }
 },
 "nbformat": 4,
 "nbformat_minor": 5
}
