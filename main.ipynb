{
 "cells": [
  {
   "cell_type": "code",
   "execution_count": 1,
   "id": "cf378fe2-3083-4ee6-b119-67fdb9919118",
   "metadata": {},
   "outputs": [],
   "source": [
    "import telepot\n",
    "from telepot.loop import MessageLoop\n",
    "from telepot.namedtuple import InlineKeyboardMarkup, InlineKeyboardButton, ReplyKeyboardMarkup, KeyboardButton\n",
    "from telepot.delegate import (per_chat_id, per_application, call, create_open, pave_event_space)\n",
    "from pprint import pprint\n",
    "import sys\n",
    "import time\n",
    "import response_manager\n",
    "import pandas as pd\n",
    "%run Result_Word2Vec.ipynb\n",
    "%run chatbot.ipynb\n",
    "#import tfidf\n",
    "#import scipy.sparse\n",
    "#import joblib\n",
    "#import response_manager"
   ]
  },
  {
   "cell_type": "code",
   "execution_count": 2,
   "id": "50671618-086b-4cc8-839c-16ea892c7dd9",
   "metadata": {},
   "outputs": [],
   "source": [
    "class ChatBox(telepot.DelegatorBot):\n",
    "    def __init__(self, token, owner_id):\n",
    "        self._owner_id = owner_id\n",
    "        self._seen = set()\n",
    "        self._store = MessageStore()\n",
    "        \n",
    "        super(ChatBox, self).__init__(token, [\n",
    "            pave_event_space()(\n",
    "                per_chat_id(), create_open, MessageHandler, self._store, timeout=20),\n",
    "        ])"
   ]
  },
  {
   "cell_type": "code",
   "execution_count": null,
   "id": "7b37e24c-c0bd-4d9a-894e-1ef03fe5aa80",
   "metadata": {},
   "outputs": [
    {
     "name": "stdout",
     "output_type": "stream",
     "text": [
      "Listening ...\n",
      "[(42348887, 0.21343226943787544, ['javascript', 'video', 'google-cloud-storage', 'uploading']), (33904044, 0.21173442113588947, ['django', 'static', 'collectstatic']), (43053008, 0.19994392552421683, ['html', 'django', 'matplotlib', 'graphics']), (60562738, 0.19878939246674424, ['django']), (43483925, 0.19863984734483484, ['nginx', 'flask', 'uwsgi', 'x-accel-redirect'])]\n",
      "\n",
      " [(33904044, 0.21173442113588947, ['django', 'static', 'collectstatic']), (43053008, 0.19994392552421683, ['html', 'django', 'matplotlib', 'graphics']), (60562738, 0.19878939246674424, ['django']), (43483925, 0.19863984734483484, ['nginx', 'flask', 'uwsgi', 'x-accel-redirect']), (42348887, 0.21343226943787544, ['video', 'google-cloud-storage', 'uploading'])]\n",
      "\n",
      " 5\n"
     ]
    },
    {
     "name": "stderr",
     "output_type": "stream",
     "text": [
      "ERROR:root:on_close() called due to IdleTerminate: 20\n"
     ]
    },
    {
     "name": "stdout",
     "output_type": "stream",
     "text": [
      "\n",
      " [(33904044, 0.21173442113588947, ['static', 'collectstatic']), (43053008, 0.19994392552421683, ['html', 'matplotlib', 'graphics']), (60562738, 0.19878939246674424, []), (43483925, 0.19863984734483484, ['nginx', 'flask', 'uwsgi', 'x-accel-redirect']), (42348887, 0.21343226943787544, ['video', 'google-cloud-storage', 'uploading'])]\n",
      "\n",
      " 5\n"
     ]
    },
    {
     "name": "stderr",
     "output_type": "stream",
     "text": [
      "ERROR:root:on_close() called due to IdleTerminate: 20\n",
      "Traceback (most recent call last):\n",
      "  File \"/Users/marcolilliu/.local/share/virtualenvs/Progetto_NLP-CF9aZTjh/lib/python3.8/site-packages/urllib3/connectionpool.py\", line 445, in _make_request\n",
      "    six.raise_from(e, None)\n",
      "  File \"<string>\", line 3, in raise_from\n",
      "  File \"/Users/marcolilliu/.local/share/virtualenvs/Progetto_NLP-CF9aZTjh/lib/python3.8/site-packages/urllib3/connectionpool.py\", line 440, in _make_request\n",
      "    httplib_response = conn.getresponse()\n",
      "  File \"/Applications/Xcode.app/Contents/Developer/Library/Frameworks/Python3.framework/Versions/3.8/lib/python3.8/http/client.py\", line 1337, in getresponse\n",
      "    response.begin()\n",
      "  File \"/Applications/Xcode.app/Contents/Developer/Library/Frameworks/Python3.framework/Versions/3.8/lib/python3.8/http/client.py\", line 307, in begin\n",
      "    version, status, reason = self._read_status()\n",
      "  File \"/Applications/Xcode.app/Contents/Developer/Library/Frameworks/Python3.framework/Versions/3.8/lib/python3.8/http/client.py\", line 268, in _read_status\n",
      "    line = str(self.fp.readline(_MAXLINE + 1), \"iso-8859-1\")\n",
      "  File \"/Applications/Xcode.app/Contents/Developer/Library/Frameworks/Python3.framework/Versions/3.8/lib/python3.8/socket.py\", line 669, in readinto\n",
      "    return self._sock.recv_into(b)\n",
      "  File \"/Applications/Xcode.app/Contents/Developer/Library/Frameworks/Python3.framework/Versions/3.8/lib/python3.8/ssl.py\", line 1241, in recv_into\n",
      "    return self.read(nbytes, buffer)\n",
      "  File \"/Applications/Xcode.app/Contents/Developer/Library/Frameworks/Python3.framework/Versions/3.8/lib/python3.8/ssl.py\", line 1099, in read\n",
      "    return self._sslobj.read(len, buffer)\n",
      "socket.timeout: The read operation timed out\n",
      "\n",
      "During handling of the above exception, another exception occurred:\n",
      "\n",
      "Traceback (most recent call last):\n",
      "  File \"/Users/marcolilliu/.local/share/virtualenvs/Progetto_NLP-CF9aZTjh/lib/python3.8/site-packages/telepot/loop.py\", line 58, in run_forever\n",
      "    result = self._bot.getUpdates(offset=offset,\n",
      "  File \"/Users/marcolilliu/.local/share/virtualenvs/Progetto_NLP-CF9aZTjh/lib/python3.8/site-packages/telepot/__init__.py\", line 1000, in getUpdates\n",
      "    return self._api_request('getUpdates', _rectify(p))\n",
      "  File \"/Users/marcolilliu/.local/share/virtualenvs/Progetto_NLP-CF9aZTjh/lib/python3.8/site-packages/telepot/__init__.py\", line 491, in _api_request\n",
      "    return api.request((self._token, method, params, files), **kwargs)\n",
      "  File \"/Users/marcolilliu/.local/share/virtualenvs/Progetto_NLP-CF9aZTjh/lib/python3.8/site-packages/telepot/api.py\", line 154, in request\n",
      "    r = fn(*args, **kwargs)  # `fn` must be thread-safe\n",
      "  File \"/Users/marcolilliu/.local/share/virtualenvs/Progetto_NLP-CF9aZTjh/lib/python3.8/site-packages/urllib3/request.py\", line 170, in request_encode_body\n",
      "    return self.urlopen(method, url, **extra_kw)\n",
      "  File \"/Users/marcolilliu/.local/share/virtualenvs/Progetto_NLP-CF9aZTjh/lib/python3.8/site-packages/urllib3/poolmanager.py\", line 375, in urlopen\n",
      "    response = conn.urlopen(method, u.request_uri, **kw)\n",
      "  File \"/Users/marcolilliu/.local/share/virtualenvs/Progetto_NLP-CF9aZTjh/lib/python3.8/site-packages/urllib3/connectionpool.py\", line 755, in urlopen\n",
      "    retries = retries.increment(\n",
      "  File \"/Users/marcolilliu/.local/share/virtualenvs/Progetto_NLP-CF9aZTjh/lib/python3.8/site-packages/urllib3/util/retry.py\", line 532, in increment\n",
      "    raise six.reraise(type(error), error, _stacktrace)\n",
      "  File \"/Users/marcolilliu/.local/share/virtualenvs/Progetto_NLP-CF9aZTjh/lib/python3.8/site-packages/urllib3/packages/six.py\", line 770, in reraise\n",
      "    raise value\n",
      "  File \"/Users/marcolilliu/.local/share/virtualenvs/Progetto_NLP-CF9aZTjh/lib/python3.8/site-packages/urllib3/connectionpool.py\", line 699, in urlopen\n",
      "    httplib_response = self._make_request(\n",
      "  File \"/Users/marcolilliu/.local/share/virtualenvs/Progetto_NLP-CF9aZTjh/lib/python3.8/site-packages/urllib3/connectionpool.py\", line 447, in _make_request\n",
      "    self._raise_timeout(err=e, url=url, timeout_value=read_timeout)\n",
      "  File \"/Users/marcolilliu/.local/share/virtualenvs/Progetto_NLP-CF9aZTjh/lib/python3.8/site-packages/urllib3/connectionpool.py\", line 336, in _raise_timeout\n",
      "    raise ReadTimeoutError(\n",
      "urllib3.exceptions.ReadTimeoutError: HTTPSConnectionPool(host='api.telegram.org', port=443): Read timed out. (read timeout=50)\n",
      "Traceback (most recent call last):\n",
      "  File \"/Users/marcolilliu/.local/share/virtualenvs/Progetto_NLP-CF9aZTjh/lib/python3.8/site-packages/urllib3/connectionpool.py\", line 445, in _make_request\n",
      "    six.raise_from(e, None)\n",
      "  File \"<string>\", line 3, in raise_from\n",
      "  File \"/Users/marcolilliu/.local/share/virtualenvs/Progetto_NLP-CF9aZTjh/lib/python3.8/site-packages/urllib3/connectionpool.py\", line 440, in _make_request\n",
      "    httplib_response = conn.getresponse()\n",
      "  File \"/Applications/Xcode.app/Contents/Developer/Library/Frameworks/Python3.framework/Versions/3.8/lib/python3.8/http/client.py\", line 1337, in getresponse\n",
      "    response.begin()\n",
      "  File \"/Applications/Xcode.app/Contents/Developer/Library/Frameworks/Python3.framework/Versions/3.8/lib/python3.8/http/client.py\", line 307, in begin\n",
      "    version, status, reason = self._read_status()\n",
      "  File \"/Applications/Xcode.app/Contents/Developer/Library/Frameworks/Python3.framework/Versions/3.8/lib/python3.8/http/client.py\", line 268, in _read_status\n",
      "    line = str(self.fp.readline(_MAXLINE + 1), \"iso-8859-1\")\n",
      "  File \"/Applications/Xcode.app/Contents/Developer/Library/Frameworks/Python3.framework/Versions/3.8/lib/python3.8/socket.py\", line 669, in readinto\n",
      "    return self._sock.recv_into(b)\n",
      "  File \"/Applications/Xcode.app/Contents/Developer/Library/Frameworks/Python3.framework/Versions/3.8/lib/python3.8/ssl.py\", line 1241, in recv_into\n",
      "    return self.read(nbytes, buffer)\n",
      "  File \"/Applications/Xcode.app/Contents/Developer/Library/Frameworks/Python3.framework/Versions/3.8/lib/python3.8/ssl.py\", line 1099, in read\n",
      "    return self._sslobj.read(len, buffer)\n",
      "socket.timeout: The read operation timed out\n",
      "\n",
      "During handling of the above exception, another exception occurred:\n",
      "\n",
      "Traceback (most recent call last):\n",
      "  File \"/Users/marcolilliu/.local/share/virtualenvs/Progetto_NLP-CF9aZTjh/lib/python3.8/site-packages/telepot/loop.py\", line 58, in run_forever\n",
      "    result = self._bot.getUpdates(offset=offset,\n",
      "  File \"/Users/marcolilliu/.local/share/virtualenvs/Progetto_NLP-CF9aZTjh/lib/python3.8/site-packages/telepot/__init__.py\", line 1000, in getUpdates\n",
      "    return self._api_request('getUpdates', _rectify(p))\n",
      "  File \"/Users/marcolilliu/.local/share/virtualenvs/Progetto_NLP-CF9aZTjh/lib/python3.8/site-packages/telepot/__init__.py\", line 491, in _api_request\n",
      "    return api.request((self._token, method, params, files), **kwargs)\n",
      "  File \"/Users/marcolilliu/.local/share/virtualenvs/Progetto_NLP-CF9aZTjh/lib/python3.8/site-packages/telepot/api.py\", line 154, in request\n",
      "    r = fn(*args, **kwargs)  # `fn` must be thread-safe\n",
      "  File \"/Users/marcolilliu/.local/share/virtualenvs/Progetto_NLP-CF9aZTjh/lib/python3.8/site-packages/urllib3/request.py\", line 170, in request_encode_body\n",
      "    return self.urlopen(method, url, **extra_kw)\n",
      "  File \"/Users/marcolilliu/.local/share/virtualenvs/Progetto_NLP-CF9aZTjh/lib/python3.8/site-packages/urllib3/poolmanager.py\", line 375, in urlopen\n",
      "    response = conn.urlopen(method, u.request_uri, **kw)\n",
      "  File \"/Users/marcolilliu/.local/share/virtualenvs/Progetto_NLP-CF9aZTjh/lib/python3.8/site-packages/urllib3/connectionpool.py\", line 755, in urlopen\n",
      "    retries = retries.increment(\n",
      "  File \"/Users/marcolilliu/.local/share/virtualenvs/Progetto_NLP-CF9aZTjh/lib/python3.8/site-packages/urllib3/util/retry.py\", line 532, in increment\n",
      "    raise six.reraise(type(error), error, _stacktrace)\n",
      "  File \"/Users/marcolilliu/.local/share/virtualenvs/Progetto_NLP-CF9aZTjh/lib/python3.8/site-packages/urllib3/packages/six.py\", line 770, in reraise\n",
      "    raise value\n",
      "  File \"/Users/marcolilliu/.local/share/virtualenvs/Progetto_NLP-CF9aZTjh/lib/python3.8/site-packages/urllib3/connectionpool.py\", line 699, in urlopen\n",
      "    httplib_response = self._make_request(\n",
      "  File \"/Users/marcolilliu/.local/share/virtualenvs/Progetto_NLP-CF9aZTjh/lib/python3.8/site-packages/urllib3/connectionpool.py\", line 447, in _make_request\n",
      "    self._raise_timeout(err=e, url=url, timeout_value=read_timeout)\n",
      "  File \"/Users/marcolilliu/.local/share/virtualenvs/Progetto_NLP-CF9aZTjh/lib/python3.8/site-packages/urllib3/connectionpool.py\", line 336, in _raise_timeout\n",
      "    raise ReadTimeoutError(\n",
      "urllib3.exceptions.ReadTimeoutError: HTTPSConnectionPool(host='api.telegram.org', port=443): Read timed out. (read timeout=50)\n"
     ]
    }
   ],
   "source": [
    "OWNER_ID = 102199992\n",
    "TOKEN = '2067569208:AAHYKIRPZJ_eKtEFAtAmcFOWGlOMyRbGsXI'\n",
    "\n",
    "bot = ChatBox(TOKEN, OWNER_ID)\n",
    "MessageLoop(bot).run_as_thread()\n",
    "print('Listening ...')\n",
    "\n",
    "while 1:\n",
    "    time.sleep(3)"
   ]
  },
  {
   "cell_type": "code",
   "execution_count": null,
   "id": "df8aa038-1084-40dc-ba2c-84d467eab6a1",
   "metadata": {},
   "outputs": [],
   "source": [
    "'''\n",
    "lista_completa = [(46105826, 0.19772816099331705, ['django', 'api', 'django-rest-framework', 'token']), (13041658, 0.19187334316375815, ['django']), (4901861, 0.18786164563786018, ['django', 'postgresql', 'concurrency', 'locking', 'django-rest-framework']), (39320657, 0.18733828720892917, ['django', 'authentication', 'django-rest-framework', 'django-rest-auth']), (9694348, 0.1870884182587386, ['django'])]\n",
    "\n",
    "list_corr = [x for x in lista_completa if 'django-rest-framework' in x[2]]\n",
    "list_not_corr = [x for x in lista_completa if x not in list_corr]\n",
    "list_corr.extend(list_not_corr)\n",
    "print(list_corr)\n",
    "'''"
   ]
  },
  {
   "cell_type": "code",
   "execution_count": null,
   "id": "92546011-3fc1-4398-99b3-4b909d64a370",
   "metadata": {},
   "outputs": [],
   "source": []
  }
 ],
 "metadata": {
  "kernelspec": {
   "display_name": "Python 3 (ipykernel)",
   "language": "python",
   "name": "python3"
  },
  "language_info": {
   "codemirror_mode": {
    "name": "ipython",
    "version": 3
   },
   "file_extension": ".py",
   "mimetype": "text/x-python",
   "name": "python",
   "nbconvert_exporter": "python",
   "pygments_lexer": "ipython3",
   "version": "3.8.2"
  }
 },
 "nbformat": 4,
 "nbformat_minor": 5
}
