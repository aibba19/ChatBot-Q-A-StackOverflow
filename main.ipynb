{
 "cells": [
  {
   "cell_type": "code",
   "execution_count": 2,
   "id": "cf378fe2-3083-4ee6-b119-67fdb9919118",
   "metadata": {},
   "outputs": [],
   "source": [
    "import telepot\n",
    "from telepot.loop import MessageLoop\n",
    "from telepot.namedtuple import InlineKeyboardMarkup, InlineKeyboardButton\n",
    "from pprint import pprint\n",
    "import sys\n",
    "import time\n",
    "#import scipy.sparce\n",
    "import scipy\n",
    "%run tfidf.ipynb\n",
    "\n",
    "bot = telepot.Bot('2067569208:AAHYKIRPZJ_eKtEFAtAmcFOWGlOMyRbGsXI')"
   ]
  },
  {
   "cell_type": "code",
   "execution_count": 1,
   "id": "704669d0-ffd1-40c1-9cbb-50707e63ff33",
   "metadata": {},
   "outputs": [],
   "source": [
    "def on_chat_message(msg):\n",
    "    # Saving useful message info\n",
    "    content_type, chat_type, chat_id = telepot.glance(msg)\n",
    "    pprint(msg)\n",
    "    \n",
    "    # Check for content type\n",
    "    if content_type == 'text':\n",
    "        name = msg[\"from\"][\"first_name\"]\n",
    "        txt = str(msg['text'])\n",
    "        if '/start' == txt:\n",
    "            bot.sendMessage(chat_id, 'Hello {}! I\\'m StackBot.'.format(name))\n",
    "        \n",
    "        else:\n",
    "            #load wc_matrix presaved\n",
    "            matr = scipy.sparse.load_npz('')\n",
    "            cvec = joblib.load(\"\")\n",
    "            \n",
    "        # Compute tf-idf score on user message\n",
    "        resp = tfidf.compute_tf_idf(matr, cvec, txt)\n",
    "\n",
    "        print(resp)        "
   ]
  },
  {
   "cell_type": "code",
   "execution_count": 2,
   "id": "44e717cc-1b6b-4873-b90b-9eeaa779e34c",
   "metadata": {},
   "outputs": [],
   "source": [
    "def on_callback_query(msg):\n",
    "    query_id, from_id, query_data = telepot.glance(msg, flavor='callback_query')\n",
    "    print(\"Callback Query: \", query_id, from_id, query_data)\n",
    "    \n",
    "    bot.answerCallbackQuery(query_id, text=\"YEAH\")\n",
    "    bot.sendMessage(query_id, \"What are you looking for?\")"
   ]
  },
  {
   "cell_type": "code",
   "execution_count": null,
   "id": "7b37e24c-c0bd-4d9a-894e-1ef03fe5aa80",
   "metadata": {},
   "outputs": [],
   "source": [
    "# Managing different inputs\n",
    "bot.message_loop({'chat': on_chat_message,\n",
    "                  'callback_query': on_callback_query})\n",
    "\n",
    "# Keeping the program running\n",
    "while 1:\n",
    "    time.sleep(3)"
   ]
  }
 ],
 "metadata": {
  "kernelspec": {
   "display_name": "Python 3 (ipykernel)",
   "language": "python",
   "name": "python3"
  },
  "language_info": {
   "codemirror_mode": {
    "name": "ipython",
    "version": 3
   },
   "file_extension": ".py",
   "mimetype": "text/x-python",
   "name": "python",
   "nbconvert_exporter": "python",
   "pygments_lexer": "ipython3",
   "version": "3.8.2"
  }
 },
 "nbformat": 4,
 "nbformat_minor": 5
}
