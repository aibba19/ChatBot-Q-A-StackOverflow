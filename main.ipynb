{
 "cells": [
  {
   "cell_type": "code",
   "execution_count": 1,
   "id": "cf378fe2-3083-4ee6-b119-67fdb9919118",
   "metadata": {},
   "outputs": [],
   "source": [
    "import telepot\n",
    "from telepot.loop import MessageLoop\n",
    "from telepot.namedtuple import InlineKeyboardMarkup, InlineKeyboardButton, ReplyKeyboardMarkup, KeyboardButton\n",
    "from telepot.delegate import (per_chat_id, per_application, call, create_open, pave_event_space)\n",
    "from pprint import pprint\n",
    "import sys\n",
    "import time\n",
    "import pandas as pd\n",
    "\n",
    "%run chatbot.ipynb\n"
   ]
  },
  {
   "cell_type": "markdown",
   "id": "ecccbc7b-221f-4dea-b37c-064de203a1d6",
   "metadata": {},
   "source": [
    "<h3>Class of Bot</h3>"
   ]
  },
  {
   "cell_type": "code",
   "execution_count": 2,
   "id": "50671618-086b-4cc8-839c-16ea892c7dd9",
   "metadata": {},
   "outputs": [],
   "source": [
    "class ChatBox(telepot.DelegatorBot):\n",
    "    def __init__(self, token, owner_id):\n",
    "        self._owner_id = owner_id\n",
    "        self._seen = set()\n",
    "        self._store = MessageStore()\n",
    "        \n",
    "        super(ChatBox, self).__init__(token, [\n",
    "            pave_event_space()(\n",
    "                per_chat_id(), create_open, MessageHandler, self._store, timeout=20),\n",
    "        ])"
   ]
  },
  {
   "cell_type": "markdown",
   "id": "a32f61b0-c2ff-4439-a721-1d15b8fd9c8e",
   "metadata": {},
   "source": [
    "<h1>Start Bot Telegram</h1>"
   ]
  },
  {
   "cell_type": "code",
   "execution_count": null,
   "id": "7b37e24c-c0bd-4d9a-894e-1ef03fe5aa80",
   "metadata": {},
   "outputs": [],
   "source": [
    "OWNER_ID = 102199992\n",
    "TOKEN = '2067569208:AAHYKIRPZJ_eKtEFAtAmcFOWGlOMyRbGsXI'\n",
    "\n",
    "bot = ChatBox(TOKEN, OWNER_ID)\n",
    "MessageLoop(bot).run_as_thread()\n",
    "print('Listening ...')\n",
    "\n",
    "while 1:\n",
    "    time.sleep(3)"
   ]
  }
 ],
 "metadata": {
  "kernelspec": {
   "display_name": "Python 3 (ipykernel)",
   "language": "python",
   "name": "python3"
  },
  "language_info": {
   "codemirror_mode": {
    "name": "ipython",
    "version": 3
   },
   "file_extension": ".py",
   "mimetype": "text/x-python",
   "name": "python",
   "nbconvert_exporter": "python",
   "pygments_lexer": "ipython3",
   "version": "3.9.10"
  }
 },
 "nbformat": 4,
 "nbformat_minor": 5
}
