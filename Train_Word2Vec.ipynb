{
 "cells": [
  {
   "cell_type": "code",
   "execution_count": null,
   "id": "4ac5faa6-954b-4e58-abc1-79f3a18f6482",
   "metadata": {},
   "outputs": [],
   "source": [
    "import pandas as pd\n",
    "import gensim\n",
    "import numpy as np\n",
    "from gensim.models import word2vec\n",
    "import preprocessing"
   ]
  },
  {
   "cell_type": "code",
   "execution_count": null,
   "id": "2480a672-a442-415e-855e-068a5a258cae",
   "metadata": {},
   "outputs": [],
   "source": [
    "#Importazione del file relativo al post di stack già processati \n",
    "\n",
    "data = pd.read_csv('DB/Preprocessed_data.csv')\n",
    "\n",
    "data"
   ]
  },
  {
   "cell_type": "code",
   "execution_count": null,
   "id": "c49edc8c-5315-4506-a1fd-7ba11c442dd7",
   "metadata": {},
   "outputs": [],
   "source": [
    "'''\n",
    "Per poter fare il training word embeddings\n",
    "In questa sezione importiamo l'intero corpo del DB dalla colonna unica che contiene: titolo, body e risposta\n",
    "'''\n",
    "\n",
    "documents = [_text.split() for _text in np.array(data.post_corpus)]"
   ]
  },
  {
   "cell_type": "code",
   "execution_count": null,
   "id": "c6affd84-55ce-4866-bb90-01e9a99c4f54",
   "metadata": {},
   "outputs": [],
   "source": [
    "#data[1]"
   ]
  },
  {
   "cell_type": "code",
   "execution_count": null,
   "id": "5fa038ed-dbde-4763-b400-45d221f0c161",
   "metadata": {},
   "outputs": [],
   "source": [
    "#Pre Train Word Embeddings\n",
    "\n",
    "word_2_vec_model = gensim.models.word2vec.Word2Vec(vector_size = 300, window = 7, min_count = 10, workers = 8 )\n",
    "\n",
    "word_2_vec_model.build_vocab(documents)\n",
    "words = list(word_2_vec_model.wv.index_to_key)\n",
    "sizeVocab = len(words)\n",
    "\n",
    "words\n",
    "print('Size vocab:', sizeVocab)\n",
    "\n",
    "#Train Word Embeddings\n",
    "word_2_vec_model.train(documents, total_examples = len(documents), epochs = 32 )\n",
    "\n",
    "#Salvataggio\n",
    "\n",
    "word_2_vec_model.save('DB/word2vec_trained.bin')"
   ]
  },
  {
   "cell_type": "code",
   "execution_count": null,
   "id": "db53d205-4e01-457a-aeb6-ec207dac01d4",
   "metadata": {},
   "outputs": [],
   "source": [
    "word_2_vec_model = gensim.models.word2vec.Word2Vec.load('DB/word2vec_trained.bin')\n",
    "\n",
    "\n",
    "\n",
    "print(word_2_vec_model.wv.most_similar(\"indexing\"))\n",
    "#print('-'*100)"
   ]
  },
  {
   "cell_type": "code",
   "execution_count": null,
   "id": "9c897564-b7de-4da3-8420-67c199de1df0",
   "metadata": {},
   "outputs": [],
   "source": [
    "word_2_vec_model2 = gensim.models.word2vec.Word2Vec.load('DB/word2vec_trained2.bin')\n",
    "print(word_2_vec_model2.wv.most_similar(\"lambda\"))"
   ]
  },
  {
   "cell_type": "code",
   "execution_count": null,
   "id": "8586760e-0fdd-4ed7-a33c-fa2d48d44cfd",
   "metadata": {},
   "outputs": [],
   "source": []
  }
 ],
 "metadata": {
  "kernelspec": {
   "display_name": "Python 3 (ipykernel)",
   "language": "python",
   "name": "python3"
  },
  "language_info": {
   "codemirror_mode": {
    "name": "ipython",
    "version": 3
   },
   "file_extension": ".py",
   "mimetype": "text/x-python",
   "name": "python",
   "nbconvert_exporter": "python",
   "pygments_lexer": "ipython3",
   "version": "3.9.9"
  }
 },
 "nbformat": 4,
 "nbformat_minor": 5
}
