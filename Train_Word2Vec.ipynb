{
 "cells": [
  {
   "cell_type": "code",
   "execution_count": 2,
   "id": "4ac5faa6-954b-4e58-abc1-79f3a18f6482",
   "metadata": {},
   "outputs": [],
   "source": [
    "import pandas as pd\n",
    "import gensim\n",
    "import numpy as np\n",
    "from gensim.models import word2vec\n",
    "import preprocessing\n",
    "from gensim.models import Phrases"
   ]
  },
  {
   "cell_type": "code",
   "execution_count": null,
   "id": "2480a672-a442-415e-855e-068a5a258cae",
   "metadata": {},
   "outputs": [],
   "source": [
    "#Importazione del file relativo al post di stack già processati \n",
    "\n",
    "data = pd.read_csv('DB/Preprocessed_data.csv')\n",
    "\n",
    "data"
   ]
  },
  {
   "cell_type": "code",
   "execution_count": null,
   "id": "c49edc8c-5315-4506-a1fd-7ba11c442dd7",
   "metadata": {},
   "outputs": [],
   "source": [
    "'''\n",
    "Per poter fare il training word embeddings\n",
    "In questa sezione importiamo l'intero corpo del DB dalla colonna unica che contiene: titolo, body e risposta\n",
    "'''\n",
    "\n",
    "#documents = [_text.split() for _text in np.array(data.post_corpus)]\n",
    "\n",
    "titles = data.processed_title.tolist()\n",
    "questions = data.questions_processed.tolist()\n",
    "answers = data.answers_processed.tolist()\n",
    "docs1 = [_text.split() for _text in np.array(titles)]\n",
    "docs2 = [_text.split() for _text in np.array(questions)]\n",
    "docs3 = [_text.split() for _text in np.array(answers)]\n",
    "documents = docs1 + docs2 + docs3"
   ]
  },
  {
   "cell_type": "code",
   "execution_count": null,
   "id": "c6affd84-55ce-4866-bb90-01e9a99c4f54",
   "metadata": {},
   "outputs": [],
   "source": [
    "#data[1]"
   ]
  },
  {
   "cell_type": "code",
   "execution_count": null,
   "id": "5fa038ed-dbde-4763-b400-45d221f0c161",
   "metadata": {},
   "outputs": [],
   "source": [
    "bigram_transformer = Phrases(documents)\n",
    "\n",
    "#Pre Train Word Embeddings\n",
    "\n",
    "word_2_vec_model = gensim.models.word2vec.Word2Vec(documents,vector_size = 100, \n",
    "                                                   window = 7, min_count = 10, workers = 2 )\n",
    "\n",
    "word_2_vec_model.build_vocab(documents)\n",
    "words = list(word_2_vec_model.wv.index_to_key)\n",
    "sizeVocab = len(words)\n",
    "\n",
    "words\n",
    "print('Size vocab:', sizeVocab)\n",
    "\n",
    "#Train Word Embeddings\n",
    "word_2_vec_model.train(documents, total_examples = len(documents), epochs = 32 )\n",
    "\n",
    "#Salvataggio\n",
    "\n",
    "word_2_vec_model.save('DB/word2vec_trained.bin')"
   ]
  },
  {
   "cell_type": "code",
   "execution_count": 4,
   "id": "db53d205-4e01-457a-aeb6-ec207dac01d4",
   "metadata": {},
   "outputs": [
    {
     "name": "stdout",
     "output_type": "stream",
     "text": [
      "[('df', 0.8550847172737122), ('column', 0.8113977313041687), ('columns', 0.7594681978225708), ('dataframes', 0.7496333122253418), ('datframe', 0.7143130302429199), ('series', 0.6952971816062927), ('rows', 0.6800717711448669), ('row', 0.6636037230491638), ('frame', 0.6499058604240417), ('multiindex', 0.6462520360946655)]\n"
     ]
    }
   ],
   "source": [
    "word_2_vec_model = gensim.models.word2vec.Word2Vec.load('DB/word2vec_trained.bin')\n",
    "\n",
    "\n",
    "\n",
    "print(word_2_vec_model.wv.most_similar(\"dataframe\"))\n",
    "#print('-'*100)"
   ]
  },
  {
   "cell_type": "code",
   "execution_count": null,
   "id": "8586760e-0fdd-4ed7-a33c-fa2d48d44cfd",
   "metadata": {},
   "outputs": [],
   "source": [
    "word_2_vec_model.wv['slicing']"
   ]
  },
  {
   "cell_type": "code",
   "execution_count": null,
   "id": "11d4a1e0-4089-4c65-9ead-d893ff3e4cde",
   "metadata": {},
   "outputs": [],
   "source": []
  }
 ],
 "metadata": {
  "kernelspec": {
   "display_name": "Python 3 (ipykernel)",
   "language": "python",
   "name": "python3"
  },
  "language_info": {
   "codemirror_mode": {
    "name": "ipython",
    "version": 3
   },
   "file_extension": ".py",
   "mimetype": "text/x-python",
   "name": "python",
   "nbconvert_exporter": "python",
   "pygments_lexer": "ipython3",
   "version": "3.8.2"
  }
 },
 "nbformat": 4,
 "nbformat_minor": 5
}
