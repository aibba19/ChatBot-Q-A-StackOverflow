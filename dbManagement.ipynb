{
 "cells": [
  {
   "cell_type": "code",
   "execution_count": 1,
   "id": "ced942f8-8dd4-4149-a96e-e9933db65e80",
   "metadata": {},
   "outputs": [],
   "source": [
    "import pandas as pd \n",
    "import numpy as np \n",
    "import preprocessing\n",
    "\n",
    "pd.set_option('max_colwidth', 5000)"
   ]
  },
  {
   "cell_type": "code",
   "execution_count": 2,
   "id": "f7e4c3d3-3da3-4031-9850-41b25987d6d9",
   "metadata": {},
   "outputs": [],
   "source": [
    "#leggi db stack overflow \n",
    "answers = pd.read_csv(\"DB/Answers.csv\", sep=\",\",low_memory = False ,encoding='latin-1')\n",
    "tags = pd.read_csv(\"DB/Tags.csv\", sep=\";\", low_memory = False)\n",
    "questions = pd.read_csv(\"DB/Questions.csv\", sep=\",\", low_memory = False, encoding='latin-1')"
   ]
  },
  {
   "cell_type": "code",
   "execution_count": 3,
   "id": "6e148d58-f527-4857-80e4-72a7c0eff751",
   "metadata": {},
   "outputs": [],
   "source": [
    "# droppa le colonne data e owner user id che non servono e prendi solo le prime 100 righe\n",
    "answers = answers.head(100)\n",
    "answers.drop(\"CreationDate\", axis=1, inplace=True)\n",
    "answers.drop(\"OwnerUserId\", axis=1, inplace=True)"
   ]
  },
  {
   "cell_type": "code",
   "execution_count": 4,
   "id": "575c6ca8-473d-43b9-b562-41eba8a590ba",
   "metadata": {},
   "outputs": [],
   "source": [
    "#raggruppa i tag per id di domanda, in modo da avere una lista di tag per ogni domanda \n",
    "tags = tags.groupby('Id').agg(lambda x: x.tolist())\n",
    "tags = tags.head(100)"
   ]
  },
  {
   "cell_type": "code",
   "execution_count": 5,
   "id": "d06d609b-5202-4378-b2d4-bfd63c53c542",
   "metadata": {},
   "outputs": [],
   "source": [
    "# droppa le colonne relative alle date che non servono e prendi solo le prime 100 righe\n",
    "questions.drop(\"CreationDate\", axis=1, inplace=True)\n",
    "questions.drop(\"ClosedDate\", axis=1, inplace = True)\n",
    "questions = questions.head(100)"
   ]
  },
  {
   "cell_type": "code",
   "execution_count": 6,
   "id": "4505cbb6-1a54-40ce-a5c7-08e5500902ae",
   "metadata": {
    "tags": []
   },
   "outputs": [
    {
     "name": "stdout",
     "output_type": "stream",
     "text": [
      "0                                                                                                                                                                                                                                                                                                                                                                                                                                                                                                                                                                                                                                                                                                                                                                                                                                                                                                                                                             \\r\\n\\r\\nA very good resource for source control in general Not really TortoiseSVN specific, though\n",
      "1                                                                                                                                                                                                                                                                                                                                                                                                                                                                                                                                                                                                                                                                                                                                                                                                                                                                                                   I wound up using this It is a kind of a hack, but it actually works pretty well The only thing is you have to be very careful with your semicolons : D\\n\\n\\n\n",
      "2                                                                                                                                                                                                                                                                                                           I've read somewhere the human eye can't distinguish between less than 4 values apart so This is something to keep in mind The following algorithm does not compensate for this\\r\\n\\r\\nI'm not sure this is exactly what you want, but this is one way to randomly generate non-repeating color values:\\r\\n\\r\\n(beware, inconsistent pseudo-code ahead)\\r\\n\\r\\n\\r\\n\\r\\nOne way you could optimize this for better visibility would be to compare the distance between each new color and all the colors in the array:\\r\\n\\r\\n\\r\\n\\r\\nBut this approach would significantly slow down your algorithm\\r\\n\\r\\nAnother way would be to scrap the randomness and systematically go through every 4 values and add a color to an array in the above example\n",
      "3                                                                                  Yes, I thought about that, but I soon figured out that another Domain-Specific-Language (DSL) would be a bit too much\\n\\nEssentially, they need to interact with my gamestate in possibly unpredictable ways For example, a card could have a rule \"When this cards enter play, all your undead minions gain +3 attack against flying enemies, except when the enemy is blessed\" As trading card games are turn based, the GameState Manager will fire OnStageX events and let the cards modify other cards or the GameState in whatever way the card needs\\n\\nIf I try to create a DSL, I have to implement a rather large feature set and possibly constantly update it, which shifts the maintenance work to another part without actually removing it\\n\\nThat's why I wanted to stay with a \"real\" NET language to essentially be able to just fire the event and let the card manipulate the gamestate in whatever way (within the limits of the code access security)\\n\n",
      "4                                                                                                                                                                                                                                                                                                                                                                            ) really is a great introduction to providing script abilities in your application\\n\\nA different approach would be to consider a language that is specifically built for scripting, such as , , or \\n\\nIronPython and IronRuby are both available today\\n\\nFor a guide to embedding IronPython read\\n\\n\\nLua is a scripting language commonly used in games There is a Lua compiler for NET, available from CodePlex -- \\n\\nThat codebase is a great read if you want to learn about building a compiler in NET\\n\\nA different angle altogether is to try  There are numerous examples of embedding PowerShell into an application -- here's a thorough project on the topic: \\n\\n\n",
      "                                                                                                                                                                                                                                                                                                                                                                                                                                                                                                                                 ...                                                                                                                                                                                                                                                                                                                                                                                                                                                                                                                            \n",
      "95                                                                                                                                                                                                                                                                                                                                                                                                                                                                                                                                                                                                                                                                                                                                                                                                                   I believe you'd need to perform a separate query to accomplish that unfortionately\\r\\n\\r\\nI was able to accomplish this at my previous position using some help from this page:\\r\\n\\r\\n\\r\\nThey also have it pulling a row count seperately\n",
      "96                                                                                                                                                                                                                                                                                                                                                                                                                                                                                                                                                                                                                                                                                       Just to check, if you use just this part you get an error?\\n\\n\\n\\nIf so, do you still get an error if you copy and paste one of those Inserts into this page, I am trying to see if it's local to the page or that actual line\\n\\nAlso, can you post a copy of the connection calls (minus passwords), unless the inserts use exactly the same syntax as this example\\n\n",
      "97                                                                                                                                                                                                                                                                                                                                                                                                                                                                    Does the apache user require a password to connect to the database?  If so, then the fact that it says \"using password: NO\" would lead me to believe that the code is trying to connect without a password\\r\\n\\r\\nIf, however, the apache user doesn't require a password, a double-check of the permissions may be a good idea (which you mentioned you already checked)  It may still be beneficial to try executing something like this at a mysql prompt:\\r\\n\\r\\n\\r\\n   databasename\\r\\n\\r\\n\\r\\nThat syntax should be correct  \\r\\n\\r\\nOther than that, I'm just as stumped as you are\n",
      "98                                                                                                                                                                                                                                                                                                                                                                                                                                                                                           If indeed you are able to insert using the same connection calls, your problem most likely lies in the user \"apache\" not having SELECT permissions on the database If you have phpMyAdmin installed you can look at the permissions for the user in the Privileges pane phpMyAdmin also makes it very easy to modify the permissions\\r\\n\\r\\nIf you only have access to the command line, you can check the permissions from the mysql database\\r\\n\\r\\nYou'll probably need to do something like: \\r\\n\\r\\nGRANT SELECT ON myDatabasemyTable TO 'apache'@'localhost';\n",
      "99    \\n  Just to check, if you use just this part you get an error?\\n  \\n  If so, do you still get an error if you copy and paste one of those Inserts into this >page, I am trying to see if it's local to the page or that actual line\\n  \\n  Also, can you post a copy of the connection calls (minus passwords), unless the inserts >use exactly the same syntax as this example\\n\\n\\nHere is what is in the connectionphp file  I linked to the file through an include in the same fashion as where I execute the INSERT queries elsewhere in the code\\n\\n\\n\\nI will try the working INSERT query in this area to check that out\\n\\nAs to the others posting about the password access  I did, as stated in my first posting, check permissions  I used phpMyAdmin to verify that the permissions for the user account I was using were correct  And if it matters at all, apache@localhost is not the name of the user account that I use to get into the database  I don't have any user accounts with the name apache in them at all for that matter\\n\n",
      "Name: Body, Length: 100, dtype: object\n"
     ]
    }
   ],
   "source": [
    "body_of_answers = answers[\"Body\"]\n",
    "body_of_answers = preprocessing.remove_tags(body_of_answers)\n",
    "#body_of_answers"
   ]
  },
  {
   "cell_type": "code",
   "execution_count": 7,
   "id": "71608c15-be6a-43ba-82c6-31a8b8f07ea9",
   "metadata": {},
   "outputs": [
    {
     "data": {
      "text/plain": [
       "0                                                                                                                                                                                                                                                                                                                                                                                                                                                                                                                                                                                      good resource source control general really tortoisesvn specific though \n",
       "1                                                                                                                                                                                                                                                                                                                                                                                                                                                                                                                                                                                      wound using kind hack actually work pretty well thing careful semicolon \n",
       "2                                                                                                                                                                                                            read somewhere human eye ca nt distinguish le value apart something keep mind following algorithm compensate sure exactly want one way randomly generate nonrepeating color value beware inconsistent pseudocode ahead one way could optimize better visibility would compare distance new color color array approach would significantly slow algorithm another way would scrap randomness systematically go every value add color array example \n",
       "3     yes thought soon figured another domainspecificlanguage dsl would bit much essentially need interact gamestate possibly unpredictable way example card could rule card enter play undead minion gain attack flying enemy except enemy blessed trading card game turn based gamestate manager fire onstagex event let card modify card gamestate whatever way card need try create dsl implement rather large feature set possibly constantly update shift maintenance work another part without actually removing wanted stay real net language essentially able fire event let card manipulate gamestate whatever way within limit code access security \n",
       "4                                                                                                                                                                                                        really great introduction providing script ability application different approach would consider language specifically built scripting ironpython ironruby available today guide embedding ironpython read lua scripting language commonly used game lua compiler net available codeplex codebase great read want learn building compiler net different angle altogether try numerous example embedding powershell application thorough project topic \n",
       "                                                                                                                                                                                                                                                                                                                                ...                                                                                                                                                                                                                                                                                                                            \n",
       "95                                                                                                                                                                                                                                                                                                                                                                                                                                                                                                           believe need perform separate query accomplish unfortionately able accomplish previous position using help page also pulling row count seperately \n",
       "96                                                                                                                                                                                                                                                                                                                                                                                                                                                                check use part get error still get error copy paste one insert page trying see local page actual line also post copy connection call minus password unless insert use exactly syntax example \n",
       "97                                                                                                                                                                                                                                                                                                                     apache user require password connect database fact say using password would lead believe code trying connect without password however apache user nt require password doublecheck permission may good idea mentioned already checked may still beneficial try executing something like mysql prompt databasename syntax correct stumped \n",
       "98                                                                                                                                                                                                                                                                                                                    indeed able insert using connection call problem likely lie user apache select permission database phpmyadmin installed look permission user privilege pane phpmyadmin also make easy modify permission access command line check permission mysql database probably need something like grant select mydatabasemytable apache localhost \n",
       "99                                                                                                         check use part get error still get error copy paste one insert page trying see local page actual line also post copy connection call minus password unless insert use exactly syntax example connectionphp file linked file include fashion execute insert query elsewhere code try working insert query area check others posting password access stated first posting check permission used phpmyadmin verify permission user account using correct matter apache localhost name user account use get database nt user account name apache matter \n",
       "Name: Body, Length: 100, dtype: object"
      ]
     },
     "execution_count": 7,
     "metadata": {},
     "output_type": "execute_result"
    }
   ],
   "source": [
    "#Prove di clear text\n",
    "\n",
    "\n",
    "#body_of_answers = pd.Series(body_of_answers, dtype=\"string\") \n",
    "#body_of_answers = clear_text(body_of_answers)\n",
    "docs = answers['Body'].apply(lambda x: preprocessing.clear_text(x))\n",
    "docs\n",
    "\n",
    "#body_of_answers = to_lower_case(body_of_answers)\n",
    "\n",
    "#body_of_answers = body_of_answers.str.lower()\n",
    "#body_of_answers\n",
    "\n"
   ]
  }
 ],
 "metadata": {
  "kernelspec": {
   "display_name": "Python 3 (ipykernel)",
   "language": "python",
   "name": "python3"
  },
  "language_info": {
   "codemirror_mode": {
    "name": "ipython",
    "version": 3
   },
   "file_extension": ".py",
   "mimetype": "text/x-python",
   "name": "python",
   "nbconvert_exporter": "python",
   "pygments_lexer": "ipython3",
   "version": "3.9.7"
  }
 },
 "nbformat": 4,
 "nbformat_minor": 5
}
