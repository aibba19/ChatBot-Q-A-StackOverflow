{
 "cells": [
  {
   "cell_type": "code",
   "execution_count": 2,
   "id": "ced942f8-8dd4-4149-a96e-e9933db65e80",
   "metadata": {},
   "outputs": [],
   "source": [
    "import pandas as pd \n",
    "import numpy as np \n",
    "import preprocessing\n",
    "import tfidf\n",
    "import scipy\n",
    "import joblib\n",
    "\n",
    "pd.set_option('max_colwidth', 5000)"
   ]
  },
  {
   "cell_type": "code",
   "execution_count": 3,
   "id": "f7e4c3d3-3da3-4031-9850-41b25987d6d9",
   "metadata": {},
   "outputs": [],
   "source": [
    "#leggi db stack overflow \n",
    "#answers = pd.read_csv(\"DB/Answers.csv\", sep=\",\",low_memory = False ,encoding='latin-1')\n",
    "tags = pd.read_csv(\"DB/Tags.csv\", sep=\";\", low_memory = False)\n",
    "questions = pd.read_csv(\"DB/Questions.csv\", sep=\",\", low_memory = False, encoding='latin-1')"
   ]
  },
  {
   "cell_type": "code",
   "execution_count": 4,
   "id": "a5ccf4c9-953e-4af7-9729-552d00320759",
   "metadata": {},
   "outputs": [
    {
     "data": {
      "text/html": [
       "<div>\n",
       "<style scoped>\n",
       "    .dataframe tbody tr th:only-of-type {\n",
       "        vertical-align: middle;\n",
       "    }\n",
       "\n",
       "    .dataframe tbody tr th {\n",
       "        vertical-align: top;\n",
       "    }\n",
       "\n",
       "    .dataframe thead th {\n",
       "        text-align: right;\n",
       "    }\n",
       "</style>\n",
       "<table border=\"1\" class=\"dataframe\">\n",
       "  <thead>\n",
       "    <tr style=\"text-align: right;\">\n",
       "      <th></th>\n",
       "      <th>Id</th>\n",
       "      <th>Tag</th>\n",
       "    </tr>\n",
       "  </thead>\n",
       "  <tbody>\n",
       "    <tr>\n",
       "      <th>0</th>\n",
       "      <td>80</td>\n",
       "      <td>flex</td>\n",
       "    </tr>\n",
       "    <tr>\n",
       "      <th>1</th>\n",
       "      <td>80</td>\n",
       "      <td>actionscript-3</td>\n",
       "    </tr>\n",
       "    <tr>\n",
       "      <th>2</th>\n",
       "      <td>80</td>\n",
       "      <td>air</td>\n",
       "    </tr>\n",
       "    <tr>\n",
       "      <th>3</th>\n",
       "      <td>90</td>\n",
       "      <td>svn</td>\n",
       "    </tr>\n",
       "    <tr>\n",
       "      <th>4</th>\n",
       "      <td>90</td>\n",
       "      <td>tortoisesvn</td>\n",
       "    </tr>\n",
       "    <tr>\n",
       "      <th>...</th>\n",
       "      <td>...</td>\n",
       "      <td>...</td>\n",
       "    </tr>\n",
       "    <tr>\n",
       "      <th>1048570</th>\n",
       "      <td>12874050</td>\n",
       "      <td>dbpedia</td>\n",
       "    </tr>\n",
       "    <tr>\n",
       "      <th>1048571</th>\n",
       "      <td>12874050</td>\n",
       "      <td>spotlight-dbpedia</td>\n",
       "    </tr>\n",
       "    <tr>\n",
       "      <th>1048572</th>\n",
       "      <td>12874100</td>\n",
       "      <td>vb.net</td>\n",
       "    </tr>\n",
       "    <tr>\n",
       "      <th>1048573</th>\n",
       "      <td>12874100</td>\n",
       "      <td>mouse</td>\n",
       "    </tr>\n",
       "    <tr>\n",
       "      <th>1048574</th>\n",
       "      <td>12874100</td>\n",
       "      <td>hook</td>\n",
       "    </tr>\n",
       "  </tbody>\n",
       "</table>\n",
       "<p>1048575 rows × 2 columns</p>\n",
       "</div>"
      ],
      "text/plain": [
       "               Id                Tag\n",
       "0              80               flex\n",
       "1              80     actionscript-3\n",
       "2              80                air\n",
       "3              90                svn\n",
       "4              90        tortoisesvn\n",
       "...           ...                ...\n",
       "1048570  12874050            dbpedia\n",
       "1048571  12874050  spotlight-dbpedia\n",
       "1048572  12874100             vb.net\n",
       "1048573  12874100              mouse\n",
       "1048574  12874100               hook\n",
       "\n",
       "[1048575 rows x 2 columns]"
      ]
     },
     "execution_count": 4,
     "metadata": {},
     "output_type": "execute_result"
    }
   ],
   "source": []
  },
  {
   "cell_type": "code",
   "execution_count": null,
   "id": "6e148d58-f527-4857-80e4-72a7c0eff751",
   "metadata": {},
   "outputs": [],
   "source": [
    "# droppa le colonne data e owner user id che non servono e prendi solo le prime 100 righe\n",
    "#answers = answers.head(100)\n",
    "#answers.drop(\"CreationDate\", axis=1, inplace=True)\n",
    "#answers.drop(\"OwnerUserId\", axis=1, inplace=True)\n",
    "#Ordino in base al parent id relativo alle domande \n",
    "#answers.sort_values(by=['ParentId','Score'], ascending = False, inplace = True)\n"
   ]
  },
  {
   "cell_type": "code",
   "execution_count": null,
   "id": "575c6ca8-473d-43b9-b562-41eba8a590ba",
   "metadata": {},
   "outputs": [],
   "source": [
    "#raggruppa i tag per id di domanda, in modo da avere una lista di tag per ogni domanda \n",
    "tags = tags.groupby('Id').agg(lambda x: x.tolist())\n",
    "tags = tags.head(100)\n",
    "tags\n",
    "tags.Tag.apply(str)\n",
    "type(tags)"
   ]
  },
  {
   "cell_type": "code",
   "execution_count": null,
   "id": "979cb880-f742-4b5a-b52d-8c8889ee5d32",
   "metadata": {},
   "outputs": [],
   "source": [
    "#Trasformo i tag in una stringa divisa da ','\n",
    "tags['Tag'] = [','.join(map(str, l)) for l in tags['Tag']]\n",
    "tags"
   ]
  },
  {
   "cell_type": "code",
   "execution_count": null,
   "id": "d06d609b-5202-4378-b2d4-bfd63c53c542",
   "metadata": {},
   "outputs": [],
   "source": [
    "# droppa le colonne relative alle date che non servono e prendi solo le prime 100 righe\n",
    "questions.drop(\"CreationDate\", axis=1, inplace=True)\n",
    "questions.drop(\"ClosedDate\", axis=1, inplace = True)\n",
    "questions.drop(\"OwnerUserId\", axis=1, inplace = True)\n",
    "\n",
    "\n",
    "\n"
   ]
  },
  {
   "cell_type": "code",
   "execution_count": null,
   "id": "4f3a48ee-4b4e-4c15-a402-93a19ba6da04",
   "metadata": {},
   "outputs": [],
   "source": [
    "questions = questions.head(10000)\n",
    "questions"
   ]
  },
  {
   "cell_type": "code",
   "execution_count": null,
   "id": "461ce1b0-937a-42ca-ad0b-27802801bed6",
   "metadata": {},
   "outputs": [],
   "source": [
    "#Merge tra le colonne titolo e body in un unica colonna \n",
    "#questions[\"Body\"] = questions[\"Title\"] + questions[\"Body\"] \n",
    "#questions.drop(\"Title\", axis=1, inplace = True)\n",
    "questions"
   ]
  },
  {
   "cell_type": "code",
   "execution_count": null,
   "id": "4505cbb6-1a54-40ce-a5c7-08e5500902ae",
   "metadata": {
    "tags": []
   },
   "outputs": [],
   "source": [
    "#Pulizia della colonna body \n",
    "questions_processed = questions[\"Title\"] + questions[\"Body\"]\n",
    "questions.drop(\"Title\", axis=1, inplace = True)\n",
    "questions_processed = preprocessing.remove_tags(questions_processed)\n",
    "questions[\"Body\"] = questions_processed\n",
    "questions\n",
    "\n"
   ]
  },
  {
   "cell_type": "code",
   "execution_count": null,
   "id": "25f56a74-3feb-494e-875f-094d5416c4d6",
   "metadata": {},
   "outputs": [],
   "source": [
    "docs = questions['Body'].apply(lambda x: preprocessing.clear_text(x))\n",
    "docs\n",
    "#docs.to_csv('DB/questions_cleared.csv')\n",
    "questions"
   ]
  },
  {
   "cell_type": "code",
   "execution_count": null,
   "id": "3e0d3aac-989d-4c79-9cc0-ea5e63b05c29",
   "metadata": {},
   "outputs": [],
   "source": [
    "question_tagged = pd.merge(questions, tags, on='Id')\n",
    "question_tagged\n",
    "question_tagged.to_csv('DB/questions_tagged.csv')\n"
   ]
  },
  {
   "cell_type": "code",
   "execution_count": null,
   "id": "33eee5e2-3664-445c-aaf7-b7f8343ba586",
   "metadata": {},
   "outputs": [],
   "source": [
    "\n",
    "question_sample = questions_processed.sample(100, random_state= 10).sort_index(axis=0)\n",
    "\n",
    "question_sample\n"
   ]
  },
  {
   "cell_type": "code",
   "execution_count": 9,
   "id": "565e1835-caf6-4651-952f-417e9a2166e8",
   "metadata": {},
   "outputs": [],
   "source": [
    "#Crea matrice word count per calcolo tfiidf\n",
    "#Prova con secondo db \n",
    "\n",
    "data = pd.read_csv('DB/Preprocessed_data.csv')\n",
    "\n",
    "data = data[data['processed_title'].notna()]\n",
    "\n",
    "docs = data[\"post_corpus\"]\n",
    "tfidf.get_word_count_vec(docs)\n"
   ]
  },
  {
   "cell_type": "code",
   "execution_count": 21,
   "id": "75e5eeb9-fa03-402d-a116-81eaf311b9fb",
   "metadata": {
    "scrolled": true,
    "tags": []
   },
   "outputs": [
    {
     "data": {
      "text/plain": [
       "65723    list|python-3.x|dictionary|zip\n",
       "Name: tags, dtype: object"
      ]
     },
     "execution_count": 21,
     "metadata": {},
     "output_type": "execute_result"
    }
   ],
   "source": [
    "data = data[data['processed_title'].notna()]\n",
    "\n",
    "question = data.iloc[[65719]].title.values[0]\n",
    "tags = data.iloc[[65719]].tags\n",
    "tags\n",
    "#titles = data[\"processed_title\"]\n",
    "#titles"
   ]
  },
  {
   "cell_type": "code",
   "execution_count": 11,
   "id": "ac1a2042-ac8c-4de1-b26d-e15f6dea8823",
   "metadata": {},
   "outputs": [
    {
     "data": {
      "text/plain": [
       "2633    Combine model data with list of objects\n",
       "Name: title, dtype: object"
      ]
     },
     "execution_count": 11,
     "metadata": {},
     "output_type": "execute_result"
    }
   ],
   "source": [
    "data.iloc[[2633]].title"
   ]
  },
  {
   "cell_type": "code",
   "execution_count": 20,
   "id": "38ea1b4b-dae2-480e-8c5d-447e827258f6",
   "metadata": {},
   "outputs": [
    {
     "name": "stdout",
     "output_type": "stream",
     "text": [
      "[['list', 0.839313907602809], ['dictionary', 0.3063028646088001], ['multiple', 0.2928006892811161], ['string', 0.25053648234088405], ['create', 0.230716161136808], ['propertycoefficient', 0.0], ['propertirs', 0.0], ['propertiy', 0.0]]\n"
     ]
    },
    {
     "name": "stderr",
     "output_type": "stream",
     "text": [
      "C:\\Users\\andri\\.virtualenvs\\Progetto_StackOverflow-UQruahqZ\\lib\\site-packages\\sklearn\\utils\\deprecation.py:87: FutureWarning: Function get_feature_names is deprecated; get_feature_names is deprecated in 1.0 and will be removed in 1.2. Please use get_feature_names_out instead.\n",
      "  warnings.warn(msg, category=FutureWarning)\n"
     ]
    }
   ],
   "source": [
    "#Prove di tf idf \n",
    "matr = scipy.sparse.load_npz('DB/wc_matrix.npz')\n",
    "cvec = joblib.load(\"DB/count_vec.pkl\")\n",
    "#for txt in question_sample:\n",
    "    #out = tfidf.tf_idf(matr,cvec,txt)\n",
    "    #print(out)\n",
    "out = tfidf.tf_idf(matr,cvec,question)\n",
    "print(out)"
   ]
  },
  {
   "cell_type": "code",
   "execution_count": null,
   "id": "3a745698-cf56-4667-94a8-e7e84e7f2e4a",
   "metadata": {},
   "outputs": [],
   "source": [
    "df =  pd.read_csv(\"DB/questions_cleared.csv\", sep=\",\", low_memory = False, encoding='latin-1')\n",
    "\n",
    "\n",
    "#for i, row in df.iterrows('Body'):\n",
    "#    print(type(row))"
   ]
  },
  {
   "cell_type": "code",
   "execution_count": null,
   "id": "9e25b690-975b-4507-ad36-5b8d85bf4ae3",
   "metadata": {},
   "outputs": [],
   "source": []
  }
 ],
 "metadata": {
  "kernelspec": {
   "display_name": "Python 3 (ipykernel)",
   "language": "python",
   "name": "python3"
  },
  "language_info": {
   "codemirror_mode": {
    "name": "ipython",
    "version": 3
   },
   "file_extension": ".py",
   "mimetype": "text/x-python",
   "name": "python",
   "nbconvert_exporter": "python",
   "pygments_lexer": "ipython3",
   "version": "3.8.2"
  }
 },
 "nbformat": 4,
 "nbformat_minor": 5
}
