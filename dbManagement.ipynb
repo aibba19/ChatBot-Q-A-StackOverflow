{
 "cells": [
  {
   "cell_type": "code",
   "execution_count": 1,
   "id": "ced942f8-8dd4-4149-a96e-e9933db65e80",
   "metadata": {},
   "outputs": [],
   "source": [
    "import pandas as pd \n",
    "import numpy as np \n",
    "import preprocessing\n",
    "import tfidf\n",
    "\n",
    "pd.set_option('max_colwidth', 5000)"
   ]
  },
  {
   "cell_type": "code",
   "execution_count": 2,
   "id": "f7e4c3d3-3da3-4031-9850-41b25987d6d9",
   "metadata": {},
   "outputs": [],
   "source": [
    "#leggi db stack overflow \n",
    "answers = pd.read_csv(\"DB/Answers.csv\", sep=\",\",low_memory = False ,encoding='latin-1')\n",
    "#tags = pd.read_csv(\"DB/Tags.csv\", sep=\";\", low_memory = False)\n",
    "questions = pd.read_csv(\"DB/Questions.csv\", sep=\",\", low_memory = False, encoding='latin-1')"
   ]
  },
  {
   "cell_type": "code",
   "execution_count": 3,
   "id": "6e148d58-f527-4857-80e4-72a7c0eff751",
   "metadata": {},
   "outputs": [],
   "source": [
    "# droppa le colonne data e owner user id che non servono e prendi solo le prime 100 righe\n",
    "answers = answers.head(100)\n",
    "#answers.drop(\"CreationDate\", axis=1, inplace=True)\n",
    "#answers.drop(\"OwnerUserId\", axis=1, inplace=True)\n",
    "#Ordino in base al parent id relativo alle domande \n",
    "answers.sort_values(by=['ParentId','Score'], ascending = False, inplace = True)\n"
   ]
  },
  {
   "cell_type": "code",
   "execution_count": 4,
   "id": "575c6ca8-473d-43b9-b562-41eba8a590ba",
   "metadata": {},
   "outputs": [],
   "source": [
    "#raggruppa i tag per id di domanda, in modo da avere una lista di tag per ogni domanda \n",
    "#tags = tags.groupby('Id').agg(lambda x: x.tolist())\n",
    "#tags = tags.head(100)"
   ]
  },
  {
   "cell_type": "code",
   "execution_count": 5,
   "id": "d06d609b-5202-4378-b2d4-bfd63c53c542",
   "metadata": {},
   "outputs": [
    {
     "data": {
      "text/plain": [
       "0       <p>I've written a database generation script in <a href=\"http://en.wikipedia.org/wiki/SQL\">SQL</a> and want to execute it in my <a href=\"http://en.wikipedia.org/wiki/Adobe_Integrated_Runtime\">Adobe AIR</a> application:</p>\\n\\n<pre><code>Create Table tRole (\\n      roleID integer Primary Key\\n      ,roleName varchar(40)\\n);\\nCreate Table tFile (\\n    fileID integer Primary Key\\n    ,fileName varchar(50)\\n    ,fileDescription varchar(500)\\n    ,thumbnailID integer\\n    ,fileFormatID integer\\n    ,categoryID integer\\n    ,isFavorite boolean\\n    ,dateAdded date\\n    ,globalAccessCount integer\\n    ,lastAccessTime date\\n    ,downloadComplete boolean\\n    ,isNew boolean\\n    ,isSpotlight boolean\\n    ,duration varchar(30)\\n);\\nCreate Table tCategory (\\n    categoryID integer Primary Key\\n    ,categoryName varchar(50)\\n    ,parent_categoryID integer\\n);\\n...\\n</code></pre>\\n\\n<p>I execute this in Adobe AIR using the following methods:</p>\\n\\n<pre><code>public static function RunSqlFromFile(fileName:String):void {\\n    var file:File = File.applicationDirectory.resolvePath(fileName);\\n    var stream:FileStream = new FileStream();\\n    stream.open(file, FileMode.READ)\\n    var strSql:String = stream.readUTFBytes(stream.bytesAvailable);\\n    NonQuery(strSql);\\n}\\n\\npublic static function NonQuery(strSQL:String):void\\n{\\n    var sqlConnection:SQLConnection = new SQLConnection();\\n    sqlConnection.open(File.applicationStorageDirectory.resolvePath(DBPATH);\\n    var sqlStatement:SQLStatement = new SQLStatement();\\n    sqlStatement.text = strSQL;\\n    sqlStatement.sqlConnection = sqlConnection;\\n    try\\n    {\\n        sqlStatement.execute();\\n    }\\n    catch (error:SQLError)\\n    {\\n        Alert.show(error.toString());\\n    }\\n}\\n</code></pre>\\n\\n<p>No errors are generated, however only <code>tRole</code> exists. It seems that it only looks at the first query (up to the semicolon- if I remove it, the query fails). Is there a way to call multiple queries in one statement?</p>\\nSQLStatement.execute() - multiple queries in one statement\n",
       "1                                                                                                                                                                                                                                                                                                                                                                                                                                                                                                                                                                                                                                                                                                                                                                                                                                                                                                                                                                                                                                                                                                                                                                                                                                                                                                                                                                                                                                                                                                                                                                                                                                                                                                                                                                                                                                <p>Are there any really good tutorials explaining <a href=\"http://svnbook.red-bean.com/en/1.8/svn.branchmerge.html\" rel=\"nofollow\">branching and merging</a> with Apache Subversion? </p>\\n\\n<p>All the better if it's specific to TortoiseSVN client.</p>\\nGood branching and merging tutorials for TortoiseSVN?\n",
       "2                                                                                                                                                                                                                                                                                                                                                                                                                                                                                                                                                                                                                                                                                                                                                                                                                                                                                                                                                                                                                                                                                                                                                                                                                                                                                                                                                                                                                                                                                                                                                                                                                                                                            <p>Has anyone got experience creating <strong>SQL-based ASP.NET</strong> site-map providers?</p>\\n\\n<p>I've got the default XML file <code>web.sitemap</code> working properly with my Menu and <strong>SiteMapPath</strong> controls, but I'll need a way for the users of my site to create and modify pages dynamically.</p>\\n\\n<p>I need to tie page viewing permissions into the standard <code>ASP.NET</code> membership system as well.</p>\\nASP.NET Site Maps\n",
       "3                                                                                                                                                                                                                                                                                                                                                                                                                                                                                                                                                                                                                                                                                                                                                                                                                                                                                                                                                                                                                                                                                                                                                                                                                                                                                                                                                                                                                                                                                                                                                                                                                                                                                                                                                                                                                                          <p>This is something I've pseudo-solved many times and never quite found a solution. That's stuck with me. The problem is to come up with a way to generate <code>N</code> colors, that are as distinguishable as possible where <code>N</code> is a parameter.</p>\\nFunction for creating color wheels\n",
       "4                                                                                                                                                                                                                                                                                                                                                                                                                                                                                                                                                                                                                                                                                                                                                                                                                                          <p>I have a little game written in C#. It uses a database as back-end. It's \\na <a href=\"http://en.wikipedia.org/wiki/Collectible_card_game\">trading card game</a>, and I wanted to implement the function of the cards as a script.</p>\\n\\n<p>What I mean is that I essentially have an interface, <code>ICard</code>, which a card class implements (<code>public class Card056 : ICard</code>) and which contains function that are called by the game.</p>\\n\\n<p>Now, to make the thing maintainable/moddable, I would like to have the class for each card as source code in the database and essentially compile it on first use. So when I have to add/change a card, I'll just add it to the database and tell my application to refresh, without needing any assembly deployment (especially since we would be talking about 1 assembly per card which means hundreds of assemblies).</p>\\n\\n<p>Is that possible? Register a class from a source file and then instantiate it, etc.</p>\\n\\n<pre><code>ICard Cards[current] = new MyGame.CardLibrary.Card056();\\nCards[current].OnEnterPlay(ref currentGameState);\\n</code></pre>\\n\\n<p>The language is C#, but extra bonus if it's possible to write the script in any .NET language.</p>\\nAdding scripting functionality to .NET applications\n",
       "                                                                                                                                                                                                                                                                                                                                                                                                                                                                                                                                                                                                                                                                                                                                                                                                                                                                                                                                                                                                                                                                           ...                                                                                                                                                                                                                                                                                                                                                                                                                                                                                                                                                                                                                                                                                                                                                                                                                                                                                                                                                                                                                                                                    \n",
       "9995                                                                                                                                                                                                                                                                                                                                                                                                                                                                                                                                                                                                                                                                                                                                                                                                                                                                                                                                                                                                                                                                                                                                                                                                                                                                                                             <p>I'd like to use a URI scheme to enable the users of one of my apps to share geographic locations.</p>\\n\\n<p>I don't want to invent my own URI scheme and \"geo\" seems the most appropriate but there are only two Internet Drafts on the subject (<a href=\"http://tools.ietf.org/html/draft-mayrhofer-geo-uri-01\" rel=\"nofollow\">draft-mayrhofer-geo-uri-01</a>, <a href=\"http://tools.ietf.org/html/draft-mayrhofer-geo-uri-02\" rel=\"nofollow\">draft-mayrhofer-geo-uri-02</a>), both expired and wildly different in the way they approach the standard.</p>\\n\\n<p>Is there an URI that's suited for encoding latitude and longitude and that made it as an RFC? Should I use a generic URI such as <a href=\"http://www.faqs.org/rfcs/rfc4151.html\" rel=\"nofollow\">the tag URI scheme</a>?</p>\\ngeographic location uri scheme\n",
       "9996                                                                                                                                                                                                                                                                                                                                                                                                                                                                                                                                                                                                                                                                                                                                                                                                                                                                                                                                                                                                                                                                                                                                                                                                                                                                                                                                                                                                                                                                                                                                                                                                                                                                                                                                                              <p>i am using message queue as an ipc between 2 programs.\\nNow i want to send data from one program to another using message queue and then intimate it through a signal SIGINT.</p>\\n\\n<p>I dont know how to send a signal from one program to another .\\nCan anybody pls provide a sample code if they have the solution.</p>\\nhow to send signal from one program to another?\n",
       "9997                                                                                                                                                                                                                                                                                                                                                                                                                                           <p>depending on a compile switch  (values are <code>COMPILE_A</code> or <code>COMPILE_B</code>), which is set in the form of an envorinment variable, I want to compile my application with different settings, like application name and splash screen.</p>\\n\\n<p>I got this far:</p>\\n\\n<ol>\\n<li><p>In \"Project / Settings / C/C++ / Preprocessor Definitions\" I added <code>$(COMPILESWITCH)</code> (results in command line option <code>/D \"$(COMPILESWITCH)\"</code>).</p></li>\\n<li><p>In stdafx.h I can use the following code, which means I correctly defined the preprocessor definition via the command line parameter:</p></li>\\n</ol>\\n\\n<pre><code>\\n    #if defined COMPILE_A\\n    #   define IDB_SPLASH IDB_SPLASH_A\\n    # elif defined COMPILE_B\\n    #   define IDB_SPLASH IDB_SPLASH_B\\n    # else\\n    #   error Unknown or undefined target compile switch; cannot compile!\\n    # endif\\n</code></pre>\\n\\n<p>But I've noticed the \"Condition\" property under \"ResourceView / [right-click] / Properties\"...\\nThe help text says this:</p>\\n\\n<blockquote>\\n  Condition\\n  \\n  <p>Determines the inclusion of\\n  the resource. For example, if the\\n  condition is _DEBUG, this resource\\n  would be included only in debug\\n  builds.</p>\\n</blockquote>\\n\\n<p>This looks like the elegant way of doing it, right?</p>\\n\\n<p>Specifiying <code>_DEBUG</code> as condition works. So as <code>_DEBUG</code> is specified via <code>/D _DEBUG</code> my <code>$(COMPILESWITCH)</code> should also work, right?<br />\\nFor some reason it doesn't; why?</p>\\n\\n<p>Or is there even another, better way to achieve what I want?</p>\\nHow to conditionally compile VC6 resources\n",
       "9998                                                                                                                                                                                                                                                                                                                                                                                                                                                                                                                                                                                                                                                                                                                                                                                                                                                                                                                                                                                                                                                                                                                                                                                                                                                                                                                                                                                                                                                                                                                                                                                                                               <p>I encrypted some text and put it in a INI file. Then I used getprivateprofilestring() to retrieve the value but some of the end characters are missing. I suspect it may be a new line character causing it to be incomplete. Writing to the INI file is OK. Opening the INI file and looking at the sections and keys - everything is in order. Its just the retrieving part that causes the bug. </p>\\n\\n<p>Please any help would be appreciated.</p>\\n\\n<p>Thanks\\nEddie</p>\\nGetprivateprofilestring Bug\n",
       "9999                                                                                                                                                                                                                                                                                                                                                                                                                                                                                                                                                                                                                                                                                                                                                                                                                                                                                                                                                                                                                                                                                                                                                                                                                                                                                                                                                                                                                                                                                                                                                                                                                                                    <p>I'm using netbeans to develop some BPEL but can't figure out how to add a switch-case block, it's not in the palette anywhere.\\nI'm using netbeans 6.5.\\nAny ideas?</p>\\n\\n<p>Switch is definitely a valid element: <a href=\"http://charltonb.typepad.com/weblog/2003/08/bpel4ws_switch_.html\" rel=\"nofollow\">http://charltonb.typepad.com/weblog/2003/08/bpel4ws_switch_.html</a> \\nIt's also mentioned in the course materials I'm running through.</p>\\nBPEL switch-case in Netbeans\n",
       "Name: Body, Length: 10000, dtype: object"
      ]
     },
     "execution_count": 5,
     "metadata": {},
     "output_type": "execute_result"
    }
   ],
   "source": [
    "# droppa le colonne relative alle date che non servono e prendi solo le prime 100 righe\n",
    "questions.drop(\"CreationDate\", axis=1, inplace=True)\n",
    "questions.drop(\"ClosedDate\", axis=1, inplace = True)\n",
    "questions = questions.head(10000)\n",
    "#Merge tra le colonne titolo e body in un unica colonna \n",
    "questions[\"Body\"] = questions[\"Body\"] + questions[\"Title\"]\n",
    "questions[\"Body\"]\n",
    "\n"
   ]
  },
  {
   "cell_type": "code",
   "execution_count": 6,
   "id": "4505cbb6-1a54-40ce-a5c7-08e5500902ae",
   "metadata": {
    "tags": []
   },
   "outputs": [
    {
     "name": "stdout",
     "output_type": "stream",
     "text": [
      "0                                                                                                                                                                                                                                                                                                                                                                                                                                                                                                                                                                                                                                                     I've written a database generation script in  and want to execute it in my  application:\\n\\n\\n\\nI execute this in Adobe AIR using the following methods:\\n\\n\\n\\nNo errors are generated, however only  exists It seems that it only looks at the first query (up to the semicolon- if I remove it, the query fails) Is there a way to call multiple queries in one statement?\\nSQLStatementexecute() - multiple queries in one statement\n",
      "1                                                                                                                                                                                                                                                                                                                                                                                                                                                                                                                                                                                                                                                                                                                                                                                                                                                                                                     Are there any really good tutorials explaining  with Apache Subversion? \\n\\nAll the better if it's specific to TortoiseSVN client\\nGood branching and merging tutorials for TortoiseSVN?\n",
      "2                                                                                                                                                                                                                                                                                                                                                                                                                                                                                                                                                                                                                                                                                                                               Has anyone got experience creating SQL-based ASPNET site-map providers?\\n\\nI've got the default XML file  working properly with my Menu and SiteMapPath controls, but I'll need a way for the users of my site to create and modify pages dynamically\\n\\nI need to tie page viewing permissions into the standard  membership system as well\\nASPNET Site Maps\n",
      "3                                                                                                                                                                                                                                                                                                                                                                                                                                                                                                                                                                                                                                                                                                                                                                                                                            This is something I've pseudo-solved many times and never quite found a solution That's stuck with me The problem is to come up with a way to generate  colors, that are as distinguishable as possible where  is a parameter\\nFunction for creating color wheels\n",
      "4                                                                                                                     I have a little game written in C# It uses a database as back-end It's \\na , and I wanted to implement the function of the cards as a script\\n\\nWhat I mean is that I essentially have an interface, , which a card class implements () and which contains function that are called by the game\\n\\nNow, to make the thing maintainable/moddable, I would like to have the class for each card as source code in the database and essentially compile it on first use So when I have to add/change a card, I'll just add it to the database and tell my application to refresh, without needing any assembly deployment (especially since we would be talking about 1 assembly per card which means hundreds of assemblies)\\n\\nIs that possible? Register a class from a source file and then instantiate it, etc\\n\\n\\n\\nThe language is C#, but extra bonus if it's possible to write the script in any NET language\\nAdding scripting functionality to NET applications\n",
      "                                                                                                                                                                                                                                                                                                                                                                                                                                                                                                                                                 ...                                                                                                                                                                                                                                                                                                                                                                                                                                                                                                                                          \n",
      "9995                                                                                                                                                                                                                                                                                                                                                                                                                                                                                                                                                                                               I'd like to use a URI scheme to enable the users of one of my apps to share geographic locations\\n\\nI don't want to invent my own URI scheme and \"geo\" seems the most appropriate but there are only two Internet Drafts on the subject (, ), both expired and wildly different in the way they approach the standard\\n\\nIs there an URI that's suited for encoding latitude and longitude and that made it as an RFC? Should I use a generic URI such as ?\\ngeographic location uri scheme\n",
      "9996                                                                                                                                                                                                                                                                                                                                                                                                                                                                                                                                                                                                                                                                                                                            i am using message queue as an ipc between 2 programs\\nNow i want to send data from one program to another using message queue and then intimate it through a signal SIGINT\\n\\nI dont know how to send a signal from one program to another \\nCan anybody pls provide a sample code if they have the solution\\nhow to send signal from one program to another?\n",
      "9997    depending on a compile switch  (values are  or ), which is set in the form of an envorinment variable, I want to compile my application with different settings, like application name and splash screen\\n\\nI got this far:\\n\\n\\nIn \"Project / Settings / C/C++ / Preprocessor Definitions\" I added  (results in command line option )\\nIn stdafxh I can use the following code, which means I correctly defined the preprocessor definition via the command line parameter:\\n\\n\\n\\n\\nBut I've noticed the \"Condition\" property under \"ResourceView / [right-click] / Properties\"\\nThe help text says this:\\n\\n\\n  Condition\\n  \\n  Determines the inclusion of\\n  the resource For example, if the\\n  condition is _DEBUG, this resource\\n  would be included only in debug\\n  builds\\n\\n\\nThis looks like the elegant way of doing it, right?\\n\\nSpecifiying  as condition works So as  is specified via  my  should also work, right?\\nFor some reason it doesn't; why?\\n\\nOr is there even another, better way to achieve what I want?\\nHow to conditionally compile VC6 resources\n",
      "9998                                                                                                                                                                                                                                                                                                                                                                                                                                                                                                                                                                                                       I encrypted some text and put it in a INI file Then I used getprivateprofilestring() to retrieve the value but some of the end characters are missing I suspect it may be a new line character causing it to be incomplete Writing to the INI file is OK Opening the INI file and looking at the sections and keys - everything is in order Its just the retrieving part that causes the bug \\n\\nPlease any help would be appreciated\\n\\nThanks\\nEddie\\nGetprivateprofilestring Bug\n",
      "9999                                                                                                                                                                                                                                                                                                                                                                                                                                                                                                                                                                                                                                                                                                                                                                                I'm using netbeans to develop some BPEL but can't figure out how to add a switch-case block, it's not in the palette anywhere\\nI'm using netbeans 65\\nAny ideas?\\n\\nSwitch is definitely a valid element:  \\nIt's also mentioned in the course materials I'm running through\\nBPEL switch-case in Netbeans\n",
      "Name: Body, Length: 10000, dtype: object\n"
     ]
    }
   ],
   "source": [
    "body_of_questions = questions[\"Body\"]\n",
    "body_of_questions = preprocessing.remove_tags(body_of_questions)\n",
    "#body_of_answers"
   ]
  },
  {
   "cell_type": "code",
   "execution_count": 7,
   "id": "71608c15-be6a-43ba-82c6-31a8b8f07ea9",
   "metadata": {},
   "outputs": [],
   "source": [
    "#Prove di clear text\n",
    "\n",
    "\n",
    "#body_of_answers = pd.Series(body_of_answers, dtype=\"string\") \n",
    "#body_of_answers = clear_text(body_of_answers)\n",
    "docs = questions['Body'].apply(lambda x: preprocessing.clear_text(x))\n",
    "docs\n",
    "#docs.to_csv('DB/questions_cleared.csv')\n",
    "\n",
    "#body_of_answers = to_lower_case(body_of_answers)\n",
    "\n",
    "#body_of_answers = body_of_answers.str.lower()\n",
    "#body_of_answers\n",
    "\n"
   ]
  },
  {
   "cell_type": "code",
   "execution_count": 8,
   "id": "565e1835-caf6-4651-952f-417e9a2166e8",
   "metadata": {},
   "outputs": [],
   "source": [
    "#tfidf.get_word_count_vec(docs)\n"
   ]
  },
  {
   "cell_type": "code",
   "execution_count": 9,
   "id": "3a745698-cf56-4667-94a8-e7e84e7f2e4a",
   "metadata": {},
   "outputs": [],
   "source": [
    "df =  pd.read_csv(\"DB/questions_cleared.csv\", sep=\",\", low_memory = False, encoding='latin-1')\n",
    "\n",
    "\n",
    "#for i, row in df.iterrows('Body'):\n",
    "#    print(type(row))"
   ]
  },
  {
   "cell_type": "code",
   "execution_count": null,
   "id": "9e25b690-975b-4507-ad36-5b8d85bf4ae3",
   "metadata": {},
   "outputs": [],
   "source": []
  }
 ],
 "metadata": {
  "kernelspec": {
   "display_name": "Python 3 (ipykernel)",
   "language": "python",
   "name": "python3"
  },
  "language_info": {
   "codemirror_mode": {
    "name": "ipython",
    "version": 3
   },
   "file_extension": ".py",
   "mimetype": "text/x-python",
   "name": "python",
   "nbconvert_exporter": "python",
   "pygments_lexer": "ipython3",
   "version": "3.9.7"
  }
 },
 "nbformat": 4,
 "nbformat_minor": 5
}
