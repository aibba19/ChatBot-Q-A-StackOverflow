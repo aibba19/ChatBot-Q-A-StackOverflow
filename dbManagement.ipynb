{
 "cells": [
  {
   "cell_type": "code",
   "execution_count": 1,
   "id": "ced942f8-8dd4-4149-a96e-e9933db65e80",
   "metadata": {},
   "outputs": [],
   "source": [
    "import pandas as pd \n",
    "import numpy as np \n",
    "import preprocessing\n",
    "%run tfidf.ipynb\n",
    "\n",
    "pd.set_option('max_colwidth', 5000)"
   ]
  },
  {
   "cell_type": "code",
   "execution_count": 2,
   "id": "f7e4c3d3-3da3-4031-9850-41b25987d6d9",
   "metadata": {},
   "outputs": [],
   "source": [
    "#leggi db stack overflow \n",
    "#answers = pd.read_csv(\"DB/Answers.csv\", sep=\",\",low_memory = False ,encoding='latin-1')\n",
    "#tags = pd.read_csv(\"DB/Tags.csv\", sep=\";\", low_memory = False)\n",
    "questions = pd.read_csv(\"DB/Questions.csv\", sep=\",\", low_memory = False, encoding='latin-1')"
   ]
  },
  {
   "cell_type": "code",
   "execution_count": 3,
   "id": "6e148d58-f527-4857-80e4-72a7c0eff751",
   "metadata": {},
   "outputs": [],
   "source": [
    "# droppa le colonne data e owner user id che non servono e prendi solo le prime 100 righe\n",
    "#answers = answers.head(100)\n",
    "#answers.drop(\"CreationDate\", axis=1, inplace=True)\n",
    "#answers.drop(\"OwnerUserId\", axis=1, inplace=True)"
   ]
  },
  {
   "cell_type": "code",
   "execution_count": 4,
   "id": "575c6ca8-473d-43b9-b562-41eba8a590ba",
   "metadata": {},
   "outputs": [],
   "source": [
    "#raggruppa i tag per id di domanda, in modo da avere una lista di tag per ogni domanda \n",
    "#tags = tags.groupby('Id').agg(lambda x: x.tolist())\n",
    "#tags = tags.head(100)"
   ]
  },
  {
   "cell_type": "code",
   "execution_count": 5,
   "id": "d06d609b-5202-4378-b2d4-bfd63c53c542",
   "metadata": {},
   "outputs": [],
   "source": [
    "# droppa le colonne relative alle date che non servono e prendi solo le prime 100 righe\n",
    "questions.drop(\"CreationDate\", axis=1, inplace=True)\n",
    "questions.drop(\"ClosedDate\", axis=1, inplace = True)\n",
    "questions = questions.head(10000)"
   ]
  },
  {
   "cell_type": "code",
   "execution_count": 6,
   "id": "4505cbb6-1a54-40ce-a5c7-08e5500902ae",
   "metadata": {
    "tags": []
   },
   "outputs": [
    {
     "name": "stdout",
     "output_type": "stream",
     "text": [
      "0                                                                                                                                                                                                                                                                                                                                                                                                                                                                                                                                                                                                                                                                    I've written a database generation script in  and want to execute it in my  application:\\n\\n\\n\\nI execute this in Adobe AIR using the following methods:\\n\\n\\n\\nNo errors are generated, however only  exists It seems that it only looks at the first query (up to the semicolon- if I remove it, the query fails) Is there a way to call multiple queries in one statement?\\n\n",
      "1                                                                                                                                                                                                                                                                                                                                                                                                                                                                                                                                                                                                                                                                                                                                                                                                                                                                                                                Are there any really good tutorials explaining  with Apache Subversion? \\n\\nAll the better if it's specific to TortoiseSVN client\\n\n",
      "2                                                                                                                                                                                                                                                                                                                                                                                                                                                                                                                                                                                                                                                                                                     Has anyone got experience creating SQL-based ASPNET site-map providers?\\n\\nI've got the default XML file  working properly with my Menu and SiteMapPath controls, but I'll need a way for the users of my site to create and modify pages dynamically\\n\\nI need to tie page viewing permissions into the standard  membership system as well\\n\n",
      "3                                                                                                                                                                                                                                                                                                                                                                                                                                                                                                                                                                                                                                                                                                                                                                                                                    This is something I've pseudo-solved many times and never quite found a solution That's stuck with me The problem is to come up with a way to generate  colors, that are as distinguishable as possible where  is a parameter\\n\n",
      "4                                                                                                                             I have a little game written in C# It uses a database as back-end It's \\na , and I wanted to implement the function of the cards as a script\\n\\nWhat I mean is that I essentially have an interface, , which a card class implements () and which contains function that are called by the game\\n\\nNow, to make the thing maintainable/moddable, I would like to have the class for each card as source code in the database and essentially compile it on first use So when I have to add/change a card, I'll just add it to the database and tell my application to refresh, without needing any assembly deployment (especially since we would be talking about 1 assembly per card which means hundreds of assemblies)\\n\\nIs that possible? Register a class from a source file and then instantiate it, etc\\n\\n\\n\\nThe language is C#, but extra bonus if it's possible to write the script in any NET language\\n\n",
      "                                                                                                                                                                                                                                                                                                                                                                                                                                                                                                                            ...                                                                                                                                                                                                                                                                                                                                                                                                                                                                                                                     \n",
      "9995                                                                                                                                                                                                                                                                                                                                                                                                                                                                                                                                                                                   I'd like to use a URI scheme to enable the users of one of my apps to share geographic locations\\n\\nI don't want to invent my own URI scheme and \"geo\" seems the most appropriate but there are only two Internet Drafts on the subject (, ), both expired and wildly different in the way they approach the standard\\n\\nIs there an URI that's suited for encoding latitude and longitude and that made it as an RFC? Should I use a generic URI such as ?\\n\n",
      "9996                                                                                                                                                                                                                                                                                                                                                                                                                                                                                                                                                                                                                                                                                                                                 i am using message queue as an ipc between 2 programs\\nNow i want to send data from one program to another using message queue and then intimate it through a signal SIGINT\\n\\nI dont know how to send a signal from one program to another \\nCan anybody pls provide a sample code if they have the solution\\n\n",
      "9997    depending on a compile switch  (values are  or ), which is set in the form of an envorinment variable, I want to compile my application with different settings, like application name and splash screen\\n\\nI got this far:\\n\\n\\nIn \"Project / Settings / C/C++ / Preprocessor Definitions\" I added  (results in command line option )\\nIn stdafxh I can use the following code, which means I correctly defined the preprocessor definition via the command line parameter:\\n\\n\\n\\n\\nBut I've noticed the \"Condition\" property under \"ResourceView / [right-click] / Properties\"\\nThe help text says this:\\n\\n\\n  Condition\\n  \\n  Determines the inclusion of\\n  the resource For example, if the\\n  condition is _DEBUG, this resource\\n  would be included only in debug\\n  builds\\n\\n\\nThis looks like the elegant way of doing it, right?\\n\\nSpecifiying  as condition works So as  is specified via  my  should also work, right?\\nFor some reason it doesn't; why?\\n\\nOr is there even another, better way to achieve what I want?\\n\n",
      "9998                                                                                                                                                                                                                                                                                                                                                                                                                                                                                                                                                                                        I encrypted some text and put it in a INI file Then I used getprivateprofilestring() to retrieve the value but some of the end characters are missing I suspect it may be a new line character causing it to be incomplete Writing to the INI file is OK Opening the INI file and looking at the sections and keys - everything is in order Its just the retrieving part that causes the bug \\n\\nPlease any help would be appreciated\\n\\nThanks\\nEddie\\n\n",
      "9999                                                                                                                                                                                                                                                                                                                                                                                                                                                                                                                                                                                                                                                                                                                                                                  I'm using netbeans to develop some BPEL but can't figure out how to add a switch-case block, it's not in the palette anywhere\\nI'm using netbeans 65\\nAny ideas?\\n\\nSwitch is definitely a valid element:  \\nIt's also mentioned in the course materials I'm running through\\n\n",
      "Name: Body, Length: 10000, dtype: object\n"
     ]
    }
   ],
   "source": [
    "body_of_questions = questions[\"Body\"]\n",
    "body_of_questions = preprocessing.remove_tags(body_of_questions)\n",
    "#body_of_answers"
   ]
  },
  {
   "cell_type": "code",
   "execution_count": 7,
   "id": "71608c15-be6a-43ba-82c6-31a8b8f07ea9",
   "metadata": {},
   "outputs": [],
   "source": [
    "#Prove di clear text\n",
    "\n",
    "\n",
    "#body_of_answers = pd.Series(body_of_answers, dtype=\"string\") \n",
    "#body_of_answers = clear_text(body_of_answers)\n",
    "docs = questions['Body'].apply(lambda x: preprocessing.clear_text(x))\n",
    "docs\n",
    "docs.to_csv('DB/questions_cleared')\n",
    "\n",
    "#body_of_answers = to_lower_case(body_of_answers)\n",
    "\n",
    "#body_of_answers = body_of_answers.str.lower()\n",
    "#body_of_answers\n",
    "\n"
   ]
  },
  {
   "cell_type": "code",
   "execution_count": 8,
   "id": "565e1835-caf6-4651-952f-417e9a2166e8",
   "metadata": {},
   "outputs": [],
   "source": [
    "get_word_count_vec(docs)\n"
   ]
  },
  {
   "cell_type": "code",
   "execution_count": 18,
   "id": "3a745698-cf56-4667-94a8-e7e84e7f2e4a",
   "metadata": {},
   "outputs": [
    {
     "ename": "TypeError",
     "evalue": "iterrows() takes 1 positional argument but 2 were given",
     "output_type": "error",
     "traceback": [
      "\u001b[1;31m---------------------------------------------------------------------------\u001b[0m",
      "\u001b[1;31mTypeError\u001b[0m                                 Traceback (most recent call last)",
      "\u001b[1;32mC:\\Users\\Public\\Documents\\Wondershare\\CreatorTemp/ipykernel_14880/807174221.py\u001b[0m in \u001b[0;36m<module>\u001b[1;34m\u001b[0m\n\u001b[0;32m      2\u001b[0m \u001b[1;33m\u001b[0m\u001b[0m\n\u001b[0;32m      3\u001b[0m \u001b[1;33m\u001b[0m\u001b[0m\n\u001b[1;32m----> 4\u001b[1;33m \u001b[1;32mfor\u001b[0m \u001b[0mi\u001b[0m\u001b[1;33m,\u001b[0m \u001b[0mrow\u001b[0m \u001b[1;32min\u001b[0m \u001b[0mdf\u001b[0m\u001b[1;33m.\u001b[0m\u001b[0miterrows\u001b[0m\u001b[1;33m(\u001b[0m\u001b[1;34m'Body'\u001b[0m\u001b[1;33m)\u001b[0m\u001b[1;33m:\u001b[0m\u001b[1;33m\u001b[0m\u001b[1;33m\u001b[0m\u001b[0m\n\u001b[0m\u001b[0;32m      5\u001b[0m     \u001b[0mprint\u001b[0m\u001b[1;33m(\u001b[0m\u001b[0mtype\u001b[0m\u001b[1;33m(\u001b[0m\u001b[0mrow\u001b[0m\u001b[1;33m)\u001b[0m\u001b[1;33m)\u001b[0m\u001b[1;33m\u001b[0m\u001b[1;33m\u001b[0m\u001b[0m\n",
      "\u001b[1;31mTypeError\u001b[0m: iterrows() takes 1 positional argument but 2 were given"
     ]
    }
   ],
   "source": [
    "df =  pd.read_csv(\"DB/questions_cleared.csv\", sep=\",\", low_memory = False, encoding='latin-1')\n",
    "\n",
    "\n",
    "#for i, row in df.iterrows('Body'):\n",
    "#    print(type(row))"
   ]
  },
  {
   "cell_type": "code",
   "execution_count": null,
   "id": "9e25b690-975b-4507-ad36-5b8d85bf4ae3",
   "metadata": {},
   "outputs": [],
   "source": []
  }
 ],
 "metadata": {
  "kernelspec": {
   "display_name": "Python 3 (ipykernel)",
   "language": "python",
   "name": "python3"
  },
  "language_info": {
   "codemirror_mode": {
    "name": "ipython",
    "version": 3
   },
   "file_extension": ".py",
   "mimetype": "text/x-python",
   "name": "python",
   "nbconvert_exporter": "python",
   "pygments_lexer": "ipython3",
   "version": "3.9.7"
  }
 },
 "nbformat": 4,
 "nbformat_minor": 5
}
