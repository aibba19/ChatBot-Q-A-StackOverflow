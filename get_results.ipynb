{
 "cells": [
  {
   "cell_type": "markdown",
   "id": "63621f6d-38f9-4812-a414-70a6168ffc98",
   "metadata": {},
   "source": [
    "<h1>Get results functions</h1>\n",
    "\n",
    "In this file we define the results function for both tecnologies that calculates the most similar records to the user input in our data and return it to the chatbot."
   ]
  },
  {
   "cell_type": "code",
   "execution_count": 1,
   "id": "87554b71-30d9-46ae-8601-bbdff479dff5",
   "metadata": {},
   "outputs": [],
   "source": [
    "import pandas as pd\n",
    "import gensim\n",
    "from sklearn.metrics.pairwise import cosine_similarity\n",
    "import numpy as np\n",
    "%run create_embeddings.ipynb\n",
    "import preprocessing\n",
    "import tfidf\n",
    "import scipy\n",
    "#pd.set_option('max_colwidth', 5000)"
   ]
  },
  {
   "cell_type": "markdown",
   "id": "37dab04f-cdbb-48f2-b7f5-cb3f6bacf29d",
   "metadata": {},
   "source": [
    "<h2>Import data</h2>"
   ]
  },
  {
   "cell_type": "code",
   "execution_count": 2,
   "id": "a8ed60d8-463a-4b47-9f00-8b8ff5c28e08",
   "metadata": {},
   "outputs": [],
   "source": [
    "#Data on Stack Overflow DB already preprocessed\n",
    "data_stack = pd.read_csv('DB/Preprocessed_data.csv')\n",
    "data_stack.set_index('id', inplace=True)\n",
    "data_stack = data_stack.dropna()\n",
    "\n",
    "#Data on Ontology DB already preprocessed\n",
    "data_onto = pd.read_csv('DB/Preprocessed_ontology.csv')\n",
    "\n",
    "#Matrix for stack tfidf processing \n",
    "stack_corpus = data_stack['processed_title'] + data_stack['questions_processed'] + data_stack['answers_processed'] \n",
    "stack_corpus = stack_corpus.dropna()\n",
    "\n",
    "#Matrix for ontology tfidf processing\n",
    "onto_corpus = data_onto.description_processed"
   ]
  },
  {
   "cell_type": "code",
   "execution_count": 3,
   "id": "497782e1-f9ce-4ec9-a3c1-5505b070c1e7",
   "metadata": {},
   "outputs": [
    {
     "data": {
      "text/plain": [
       "<gensim.models.word2vec.Word2Vec at 0x2c558359c40>"
      ]
     },
     "execution_count": 3,
     "metadata": {},
     "output_type": "execute_result"
    }
   ],
   "source": [
    "#Import word to vec model \n",
    "word_2_vec_model = gensim.models.word2vec.Word2Vec.load('DB/word2vec_trained.bin')\n",
    "word_2_vec_model"
   ]
  },
  {
   "cell_type": "code",
   "execution_count": 4,
   "id": "7ae1e41e-af12-4907-aae0-82a557d661e9",
   "metadata": {},
   "outputs": [],
   "source": [
    "#Fucntion to clear raw txt \n",
    "def normalize(txt):\n",
    "    phrase = preprocessing.clear_text(txt)\n",
    "    return phrase"
   ]
  },
  {
   "cell_type": "code",
   "execution_count": 5,
   "id": "33943de7-eb61-4606-ad91-5fa6de5dc54d",
   "metadata": {},
   "outputs": [],
   "source": [
    "#Import title embeddings \n",
    "embeddings = pd.read_csv('DB/titleEmbeddings.csv')\n",
    "\n",
    "idList = embeddings['id']\n",
    "embeddings = embeddings.drop(columns = ['id'])\n"
   ]
  },
  {
   "cell_type": "markdown",
   "id": "9d795062-355c-4fff-b582-17127cb2cd27",
   "metadata": {},
   "source": [
    "<h2>Word to vec results</h2>"
   ]
  },
  {
   "cell_type": "code",
   "execution_count": 6,
   "id": "02874628-8efd-4f71-855b-b3f05f95023f",
   "metadata": {},
   "outputs": [],
   "source": [
    "#Function to calculate cosine similarity between user raw txt and stack overflow processed title with word to vec \n",
    "\n",
    "def w2v_stack_result(txt):\n",
    "    stringSearch = normalize(txt)\n",
    "\n",
    "    numberResult = 5\n",
    "\n",
    "    #Vectorize user query\n",
    "    vectorSearch = np.array([questionToVec(stringSearch, word_2_vec_model)])\n",
    "    \n",
    "    #Load embeddings \n",
    "    allTitleEmb = embeddings.values\n",
    "\n",
    "    #Cosine similarity between titles and user query vectorized\n",
    "    similarityCosine = pd.Series(cosine_similarity(vectorSearch, allTitleEmb)[0])\n",
    "    \n",
    "    #Personalizzazione della misura di similarità\n",
    "    similarityCosine = similarityCosine*(1+0.4*data_stack.score)\n",
    "    \n",
    "    #Lista che conterrà coppie i,j con i indice e j score di similarità\n",
    "    results = []\n",
    "    \n",
    "    #Una volta calcolati gli score di similarità rendo i 10 più alti\n",
    "    for i,similiarity_score in similarityCosine.nlargest(numberResult).iteritems():\n",
    "        #Filtro i tag da rendere come risultato, eliminando quelli che sono già presenti nella string search per facilitare prossimi passaggi \n",
    "        idResults = idList[i]\n",
    "        tags = data_stack.loc[idResults].tags.split('|')\n",
    "        stack_id = idResults\n",
    "        stack_title = data_stack.loc[idResults].title\n",
    "        \n",
    "        results.append(tuple([stack_id, similiarity_score, tags, stack_title ]))\n",
    "        \n",
    "    return results"
   ]
  },
  {
   "cell_type": "code",
   "execution_count": 7,
   "id": "7dd3ed64-f52a-455b-8c44-1ffddf9ff6ed",
   "metadata": {},
   "outputs": [],
   "source": [
    "##Function to calculate cosine similarity between raw txt and function description of ontology with word to vec \n",
    "def w2v_ontology_result(txt):\n",
    "    stringSearch = normalize(txt)\n",
    "\n",
    "    #print(stringSearch)\n",
    "\n",
    "    numberResult = 3\n",
    "\n",
    "    #Viene vettorizzata la query dell'utente\n",
    "\n",
    "    vectorSearch = np.array([questionToVec(stringSearch, word_2_vec_model)])\n",
    "    \n",
    "    #Carico il file con gli embeddings dei titoli sui quali effettuare la corrispondenza\n",
    "    allFuncEmb = pd.read_csv('DB/functionEmbeddings.csv').values\n",
    "\n",
    "    #Calcolo della similarità del coseno for le query e tutti i titoli\n",
    "\n",
    "    similarityCosine = pd.Series(cosine_similarity(vectorSearch, allFuncEmb)[0])\n",
    "    \n",
    "    #Lista che conterrà coppie i,j con i indice e j score di similarità\n",
    "    results = []\n",
    "    \n",
    "      \n",
    "    #Una volta calcolati gli score di similarità rendo i 10 più alti\n",
    "    for i,similiarity_score in similarityCosine.nlargest(numberResult).iteritems():\n",
    "        #print(i, data.Body[i])\n",
    "        #Filtro i tag da rendere come risultato, eliminando quelli che sono già presenti nella string search per facilitare prossimi passaggi \n",
    "        description = data_onto.iloc[[i]].description.item()\n",
    "        function = data_onto.iloc[[i]].function.item()\n",
    "                    \n",
    "        results.append(tuple([function,description, similiarity_score]))\n",
    "      \n",
    "    return results"
   ]
  },
  {
   "cell_type": "code",
   "execution_count": 8,
   "id": "587d17bb-4eed-41c7-b23e-bcd7c9cee857",
   "metadata": {},
   "outputs": [],
   "source": [
    "#Function to calculate cosine similarity between user raw txt and stack overflow processed title with tf-idf \n",
    "def tfidf_stack_result(txt):\n",
    "    stringSearch = normalize(txt)\n",
    "    related_docs_indices = tfidf.get_results(stack_corpus, stringSearch)\n",
    "    \n",
    "    results = []\n",
    "    \n",
    "    for idx in related_docs_indices:\n",
    "        \n",
    "        stack_id = data_stack.iloc[idx].name\n",
    "        stack_title = data_stack.iloc[idx].title\n",
    "        tags = data_stack.iloc[idx].tags.split('|')\n",
    "        \n",
    "        results.append(tuple([stack_id, 0, tags, stack_title ]))\n",
    "    \n",
    "    return results"
   ]
  },
  {
   "cell_type": "code",
   "execution_count": 17,
   "id": "38925c8b-cad5-48b8-a097-8363d0811d60",
   "metadata": {},
   "outputs": [],
   "source": [
    "#Function to calculate cosine similarity between user raw txt and stack overflow processed title with tf-idf \n",
    "def tfidf_onto_result(txt):\n",
    "    stringSearch = normalize(txt)\n",
    "    related_docs_indices = tfidf.get_results(onto_corpus, stringSearch)\n",
    "    \n",
    "    results = []\n",
    "    \n",
    "    for idx in related_docs_indices:\n",
    "        \n",
    "        description = data_onto.iloc[[idx]].description.item()\n",
    "        function = data_onto.iloc[[idx]].function.item()\n",
    "        \n",
    "        results.append(tuple([function,description, 0]))\n",
    "    \n",
    "    return results"
   ]
  },
  {
   "cell_type": "markdown",
   "id": "30077129-b9eb-4bca-bc5a-f1f6e0026517",
   "metadata": {},
   "source": [
    "Example results "
   ]
  },
  {
   "cell_type": "code",
   "execution_count": 10,
   "id": "9a28d370-2d6e-42b6-bcef-83eb98edde82",
   "metadata": {},
   "outputs": [
    {
     "data": {
      "text/plain": [
       "[(60473294,\n",
       "  0.4343128309518088,\n",
       "  ['pandas', 'dummy-variable', 'dummy-data'],\n",
       "  'Create dummy coded columns for a column and concatenate it to the dataset'),\n",
       " (58060307, 0.4172855542502418, ['pandas'], 'Filter columns by same value'),\n",
       " (68163767,\n",
       "  0.34741993813297584,\n",
       "  ['python-3.x', 'pandas', 'dataframe'],\n",
       "  'Group by a pandas dataframe by 15 min time intervals but for the whole day'),\n",
       " (58397836,\n",
       "  0.2845990069755504,\n",
       "  ['pandas', 'datetime'],\n",
       "  'How to do date subraction of date condering only weekdays when there are null values?'),\n",
       " (51062770,\n",
       "  0.2804673807754901,\n",
       "  ['pandas'],\n",
       "  'Python Pandas - Lambda apply keep initial format')]"
      ]
     },
     "execution_count": 10,
     "metadata": {},
     "output_type": "execute_result"
    }
   ],
   "source": [
    "w2v_stack_result('indexing problem on dataframe')"
   ]
  },
  {
   "cell_type": "code",
   "execution_count": 11,
   "id": "b771ae79-70b5-4e4d-96e9-f43688377a4e",
   "metadata": {},
   "outputs": [
    {
     "data": {
      "text/plain": [
       "'add image code '"
      ]
     },
     "execution_count": 11,
     "metadata": {},
     "output_type": "execute_result"
    }
   ],
   "source": [
    "preprocessing.clear_text('how to add image to code')"
   ]
  },
  {
   "cell_type": "code",
   "execution_count": 12,
   "id": "c00de643-20dc-41b4-bd31-51f4cb370c57",
   "metadata": {},
   "outputs": [
    {
     "data": {
      "text/plain": [
       "'problem add image code '"
      ]
     },
     "execution_count": 12,
     "metadata": {},
     "output_type": "execute_result"
    }
   ],
   "source": [
    "preprocessing.clear_text('problem to add image to code')"
   ]
  },
  {
   "cell_type": "code",
   "execution_count": 13,
   "id": "0424faa3-97c3-4e54-bcc9-a7b84b37bba1",
   "metadata": {},
   "outputs": [
    {
     "data": {
      "text/plain": [
       "[('javax.swing.ImageIcon-getImageObserver()',\n",
       "  'Returns the image observer for the image.   ',\n",
       "  0.6364787123557293),\n",
       " ('java.awt.Component-createImage(java.awt.image.ImageProducer)',\n",
       "  'Creates an image from the specified image producer.  ',\n",
       "  0.6057158511295015),\n",
       " ('java.awt.Toolkit-createImage(java.awt.image.ImageProducer)',\n",
       "  'Creates an image with the specified image producer.  ',\n",
       "  0.6057158511295015)]"
      ]
     },
     "execution_count": 13,
     "metadata": {},
     "output_type": "execute_result"
    }
   ],
   "source": [
    "w2v_ontology_result('how to add image to code')"
   ]
  },
  {
   "cell_type": "code",
   "execution_count": 14,
   "id": "8a5f5ddf-9e20-46e2-aae8-64053ccb8a33",
   "metadata": {},
   "outputs": [
    {
     "data": {
      "text/plain": [
       "[(22976831, 0, ['pandas'], 'Boolean indexing of multi-index Dataframes'),\n",
       " (46520813,\n",
       "  0,\n",
       "  ['arrays', 'numpy'],\n",
       "  'Curious numpy advanced indexing selection case'),\n",
       " (23887135, 0, ['pandas'], 'pandas indexing in multiindex dataframe'),\n",
       " (51867278, 0, ['numpy'], 'how to understand this python code ,thanks a lot')]"
      ]
     },
     "execution_count": 14,
     "metadata": {},
     "output_type": "execute_result"
    }
   ],
   "source": [
    "tfidf_stack_result('indexing problem on dataframe')"
   ]
  },
  {
   "cell_type": "code",
   "execution_count": 18,
   "id": "73a18d64-6157-4c14-b344-39fe6976705e",
   "metadata": {},
   "outputs": [
    {
     "data": {
      "text/plain": [
       "[('jdk.internal.org.objectweb.asm.tree.analysis.Frame-init(jdk.internal.org.objectweb.asm.tree.analysis.Frame)',\n",
       "  'Copies the state of the given frame into this frame.   ',\n",
       "  0),\n",
       " ('jdk.internal.org.objectweb.asm.tree.analysis.Frame-merge(jdk.internal.org.objectweb.asm.tree.analysis.Frame-jdk.internal.org.objectweb.asm.tree.analysis.Interpreter)',\n",
       "  'Merges this frame with the given frame.   ',\n",
       "  0),\n",
       " ('javax.swing.JOptionPane-getRootFrame()',\n",
       "  'Returns the Frame to use for the class methods in  which a frame is not provided.   ',\n",
       "  0),\n",
       " ('javax.swing.JOptionPane-getFrameForComponent(java.awt.Component)',\n",
       "  \"Returns the specified component's Frame.   \",\n",
       "  0)]"
      ]
     },
     "execution_count": 18,
     "metadata": {},
     "output_type": "execute_result"
    }
   ],
   "source": [
    "tfidf_onto_result('Python Pandas Data frame creation')"
   ]
  },
  {
   "cell_type": "code",
   "execution_count": null,
   "id": "2650c127-f26a-4775-a6fc-4aaf2a2a3584",
   "metadata": {},
   "outputs": [],
   "source": []
  }
 ],
 "metadata": {
  "kernelspec": {
   "display_name": "Python 3 (ipykernel)",
   "language": "python",
   "name": "python3"
  },
  "language_info": {
   "codemirror_mode": {
    "name": "ipython",
    "version": 3
   },
   "file_extension": ".py",
   "mimetype": "text/x-python",
   "name": "python",
   "nbconvert_exporter": "python",
   "pygments_lexer": "ipython3",
   "version": "3.9.10"
  }
 },
 "nbformat": 4,
 "nbformat_minor": 5
}
