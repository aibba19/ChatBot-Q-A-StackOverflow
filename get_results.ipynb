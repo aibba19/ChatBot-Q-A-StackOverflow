{
 "cells": [
  {
   "cell_type": "markdown",
   "id": "63621f6d-38f9-4812-a414-70a6168ffc98",
   "metadata": {},
   "source": [
    "<h1>Get results functions</h1>\n",
    "\n",
    "In this file we define the results function for both tecnologies that calculates the most similar records to the user input in our data and return it to the chatbot."
   ]
  },
  {
   "cell_type": "code",
   "execution_count": 1,
   "id": "87554b71-30d9-46ae-8601-bbdff479dff5",
   "metadata": {},
   "outputs": [],
   "source": [
    "import pandas as pd\n",
    "import gensim\n",
    "from sklearn.metrics.pairwise import cosine_similarity\n",
    "import numpy as np\n",
    "import spacy\n",
    "%run create_embeddings.ipynb\n",
    "import preprocessing\n",
    "import tfidf\n",
    "import scipy\n",
    "#pd.set_option('max_colwidth', 5000)"
   ]
  },
  {
   "cell_type": "markdown",
   "id": "37dab04f-cdbb-48f2-b7f5-cb3f6bacf29d",
   "metadata": {},
   "source": [
    "<h2>Import data</h2>"
   ]
  },
  {
   "cell_type": "code",
   "execution_count": 2,
   "id": "a8ed60d8-463a-4b47-9f00-8b8ff5c28e08",
   "metadata": {},
   "outputs": [],
   "source": [
    "#Data on Stack Overflow DB already preprocessed\n",
    "data_stack = pd.read_csv('DB/Preprocessed_data.csv')\n",
    "data_stack.set_index('id', inplace=True)\n",
    "data_stack = data_stack.dropna()\n",
    "\n",
    "#Data on Ontology DB already preprocessed\n",
    "data_onto = pd.read_csv('DB/Preprocessed_ontology.csv')\n",
    "\n",
    "#Matrix for stack tfidf processing \n",
    "stack_corpus = data_stack['processed_title'] + data_stack['questions_processed'] + data_stack['answers_processed'] \n",
    "stack_corpus = stack_corpus.dropna()\n",
    "\n",
    "#Matrix for ontology tfidf processing\n",
    "onto_corpus = data_onto.description_processed"
   ]
  },
  {
   "cell_type": "code",
   "execution_count": 3,
   "id": "497782e1-f9ce-4ec9-a3c1-5505b070c1e7",
   "metadata": {},
   "outputs": [
    {
     "data": {
      "text/plain": [
       "<gensim.models.word2vec.Word2Vec at 0x109417c70>"
      ]
     },
     "execution_count": 3,
     "metadata": {},
     "output_type": "execute_result"
    }
   ],
   "source": [
    "#Import word to vec model \n",
    "word_2_vec_model = gensim.models.word2vec.Word2Vec.load('DB/word2vec_trained.bin')\n",
    "word_2_vec_model"
   ]
  },
  {
   "cell_type": "code",
   "execution_count": 4,
   "id": "7ae1e41e-af12-4907-aae0-82a557d661e9",
   "metadata": {},
   "outputs": [],
   "source": [
    "#Fucntion to clear raw txt \n",
    "def normalize(txt):\n",
    "    phrase = preprocessing.clear_text(txt)\n",
    "    return phrase"
   ]
  },
  {
   "cell_type": "code",
   "execution_count": 5,
   "id": "33943de7-eb61-4606-ad91-5fa6de5dc54d",
   "metadata": {},
   "outputs": [],
   "source": [
    "#Import title embeddings \n",
    "embeddings = pd.read_csv('DB/titleEmbeddings.csv')\n",
    "\n",
    "idList = embeddings['id']\n",
    "embeddings = embeddings.drop(columns = ['id'])\n"
   ]
  },
  {
   "cell_type": "markdown",
   "id": "9d795062-355c-4fff-b582-17127cb2cd27",
   "metadata": {},
   "source": [
    "<h2>Word to vec results</h2>"
   ]
  },
  {
   "cell_type": "code",
   "execution_count": 44,
   "id": "02874628-8efd-4f71-855b-b3f05f95023f",
   "metadata": {},
   "outputs": [],
   "source": [
    "#Function to calculate cosine similarity between user raw txt and stack overflow processed title with word to vec \n",
    "\n",
    "def w2v_stack_result(txt):\n",
    "    stringSearch = normalize(txt)\n",
    "\n",
    "    numberResult = 5\n",
    "\n",
    "    #Vectorize user query\n",
    "    vectorSearch = np.array([questionToVec(stringSearch, word_2_vec_model)])\n",
    "    \n",
    "    #Load embeddings \n",
    "    allTitleEmb = embeddings.values\n",
    "\n",
    "    #Cosine similarity between titles and user query vectorized\n",
    "    similarityCosine = pd.Series(cosine_similarity(vectorSearch, allTitleEmb)[0])\n",
    "    \n",
    "    #Personalizzazione della misura di similarità\n",
    "    similarityCosine = similarityCosine*(1+0.4*data_stack.score)\n",
    "    \n",
    "    #Lista che conterrà coppie i,j con i indice e j score di similarità\n",
    "    results = []\n",
    "    \n",
    "    #Una volta calcolati gli score di similarità rendo i 10 più alti\n",
    "    for i,similiarity_score in similarityCosine.nlargest(numberResult).iteritems():\n",
    "        #Filtro i tag da rendere come risultato, eliminando quelli che sono già presenti nella string search per facilitare prossimi passaggi \n",
    "        idResults = idList[i]\n",
    "        tags = data_stack.loc[idResults].tags.split('|')\n",
    "        stack_id = idResults\n",
    "        stack_title = data_stack.loc[idResults].title\n",
    "        \n",
    "        results.append(tuple([stack_id, similiarity_score, tags, stack_title ]))\n",
    "        \n",
    "    return results"
   ]
  },
  {
   "cell_type": "code",
   "execution_count": 7,
   "id": "7dd3ed64-f52a-455b-8c44-1ffddf9ff6ed",
   "metadata": {},
   "outputs": [],
   "source": [
    "##Function to calculate cosine similarity between raw txt and function description of ontology with word to vec \n",
    "def w2v_ontology_result(txt):\n",
    "    stringSearch = normalize(txt)\n",
    "\n",
    "    #print(stringSearch)\n",
    "\n",
    "    numberResult = 3\n",
    "\n",
    "    #Viene vettorizzata la query dell'utente\n",
    "\n",
    "    vectorSearch = np.array([questionToVec(stringSearch, word_2_vec_model)])\n",
    "    \n",
    "    #Carico il file con gli embeddings dei titoli sui quali effettuare la corrispondenza\n",
    "    allFuncEmb = pd.read_csv('DB/functionEmbeddings.csv').values\n",
    "\n",
    "    #Calcolo della similarità del coseno for le query e tutti i titoli\n",
    "\n",
    "    similarityCosine = pd.Series(cosine_similarity(vectorSearch, allFuncEmb)[0])\n",
    "    \n",
    "    #Lista che conterrà coppie i,j con i indice e j score di similarità\n",
    "    results = []\n",
    "    \n",
    "      \n",
    "    #Una volta calcolati gli score di similarità rendo i 10 più alti\n",
    "    for i,similiarity_score in similarityCosine.nlargest(numberResult).iteritems():\n",
    "        #print(i, data.Body[i])\n",
    "        #Filtro i tag da rendere come risultato, eliminando quelli che sono già presenti nella string search per facilitare prossimi passaggi \n",
    "        description = data_onto.iloc[[i]].description.item()\n",
    "        function = data_onto.iloc[[i]].function.item()\n",
    "                    \n",
    "        results.append(tuple([function,description, similiarity_score]))\n",
    "      \n",
    "    return results"
   ]
  },
  {
   "cell_type": "code",
   "execution_count": 34,
   "id": "587d17bb-4eed-41c7-b23e-bcd7c9cee857",
   "metadata": {},
   "outputs": [],
   "source": [
    "#Function to calculate cosine similarity between user raw txt and stack overflow processed title with tf-idf \n",
    "def tfidf_stack_result(txt):\n",
    "    stringSearch = normalize(txt)\n",
    "    related_docs_indices = tfidf.get_results(stack_corpus, stringSearch)\n",
    "    \n",
    "    results = []\n",
    "    \n",
    "    for idx in related_docs_indices:\n",
    "        \n",
    "        stack_id = data_stack.iloc[idx].name\n",
    "        stack_title = data_stack.iloc[idx].title\n",
    "        tags = data_stack.iloc[idx].tags.split('|')\n",
    "        \n",
    "        results.append(tuple([stack_id, 0, tags, stack_title ]))\n",
    "    \n",
    "    return results"
   ]
  },
  {
   "cell_type": "markdown",
   "id": "30077129-b9eb-4bca-bc5a-f1f6e0026517",
   "metadata": {},
   "source": [
    "Example results "
   ]
  },
  {
   "cell_type": "code",
   "execution_count": 47,
   "id": "9a28d370-2d6e-42b6-bcef-83eb98edde82",
   "metadata": {},
   "outputs": [
    {
     "data": {
      "text/plain": [
       "[(58060307, 0.4904165268263586, ['pandas'], 'Filter columns by same value'),\n",
       " (60473294,\n",
       "  0.4649300092825572,\n",
       "  ['pandas', 'dummy-variable', 'dummy-data'],\n",
       "  'Create dummy coded columns for a column and concatenate it to the dataset'),\n",
       " (68163767,\n",
       "  0.3776741724396832,\n",
       "  ['python-3.x', 'pandas', 'dataframe'],\n",
       "  'Group by a pandas dataframe by 15 min time intervals but for the whole day'),\n",
       " (58397836,\n",
       "  0.32831126267868566,\n",
       "  ['pandas', 'datetime'],\n",
       "  'How to do date subraction of date condering only weekdays when there are null values?'),\n",
       " (40011539,\n",
       "  0.3149059198015368,\n",
       "  ['java', 'c++', 'string', 'algorithm'],\n",
       "  'How to find the non-repeating string from the list of string'),\n",
       " (36892138,\n",
       "  0.29621322121576854,\n",
       "  ['python-2.7', 'dictionary'],\n",
       "  'How to access list value inside dictionary'),\n",
       " (51062770,\n",
       "  0.280001261279483,\n",
       "  ['pandas'],\n",
       "  'Python Pandas - Lambda apply keep initial format'),\n",
       " (49517830,\n",
       "  0.278060874881881,\n",
       "  ['regex', 'pandas'],\n",
       "  'Incorrect regex identification using pandas'),\n",
       " (52491417,\n",
       "  0.26047035208434627,\n",
       "  ['python-3.x', 'dictionary'],\n",
       "  'How to add list element as key to the dictionary in python'),\n",
       " (2059315,\n",
       "  0.23140370107407393,\n",
       "  ['sql', 'sqlalchemy'],\n",
       "  'After doing a SQLAlchemy update(), is there a way to get the changed values?')]"
      ]
     },
     "execution_count": 47,
     "metadata": {},
     "output_type": "execute_result"
    }
   ],
   "source": [
    "w2v_stack_result('indexing problem on dataframe')"
   ]
  },
  {
   "cell_type": "code",
   "execution_count": 12,
   "id": "b771ae79-70b5-4e4d-96e9-f43688377a4e",
   "metadata": {},
   "outputs": [
    {
     "data": {
      "text/plain": [
       "'add image code '"
      ]
     },
     "execution_count": 12,
     "metadata": {},
     "output_type": "execute_result"
    }
   ],
   "source": [
    "preprocessing.clear_text('how to add image to code')"
   ]
  },
  {
   "cell_type": "code",
   "execution_count": 13,
   "id": "c00de643-20dc-41b4-bd31-51f4cb370c57",
   "metadata": {},
   "outputs": [
    {
     "data": {
      "text/plain": [
       "'problem add image code '"
      ]
     },
     "execution_count": 13,
     "metadata": {},
     "output_type": "execute_result"
    }
   ],
   "source": [
    "preprocessing.clear_text('problem to add image to code')"
   ]
  },
  {
   "cell_type": "code",
   "execution_count": 14,
   "id": "0424faa3-97c3-4e54-bcc9-a7b84b37bba1",
   "metadata": {},
   "outputs": [
    {
     "data": {
      "text/plain": [
       "[('java.awt.Robot-createScreenCapture(java.awt.Rectangle)',\n",
       "  'Creates an image containing pixels read from the screen.  This image does  not include the mouse cursor.  ',\n",
       "  0.6254305493934694),\n",
       " ('java.awt.image.PixelGrabber-grabPixels()',\n",
       "  'Request the Image or Image eProducer to start delivering pixels and  wait for all of the pixels in the rectangle of interest to be  delivered.  ',\n",
       "  0.531585316854855),\n",
       " ('javax.swing.AbstractButton-getIconTextGap()',\n",
       "  'Returns the amount of space between the text and the icon  displayed in this button.   ',\n",
       "  0.4561271081460775)]"
      ]
     },
     "execution_count": 14,
     "metadata": {},
     "output_type": "execute_result"
    }
   ],
   "source": [
    "w2v_ontology_result('how to add image to code')"
   ]
  },
  {
   "cell_type": "code",
   "execution_count": 48,
   "id": "8a5f5ddf-9e20-46e2-aae8-64053ccb8a33",
   "metadata": {},
   "outputs": [
    {
     "data": {
      "text/plain": [
       "[(22976831, 0, ['pandas'], 'Boolean indexing of multi-index Dataframes'),\n",
       " (46520813,\n",
       "  0,\n",
       "  ['arrays', 'numpy'],\n",
       "  'Curious numpy advanced indexing selection case'),\n",
       " (23887135, 0, ['pandas'], 'pandas indexing in multiindex dataframe'),\n",
       " (51867278, 0, ['numpy'], 'how to understand this python code ,thanks a lot'),\n",
       " (60154213,\n",
       "  0,\n",
       "  ['arrays', 'numpy', 'indexing'],\n",
       "  'Is there a way to do array-based indexing in NumPy so that indices corresponding to all possible combinations of indexing array elements are selected?'),\n",
       " (29819233, 0, ['pandas'], 'Indexing on DataFrame with MultiIndex'),\n",
       " (36394194, 0, ['pandas'], 'Pandas indexing confusion'),\n",
       " (66950849,\n",
       "  0,\n",
       "  ['pandas', 'numpy'],\n",
       "  'array[row][col] vs array[row,col] in Python'),\n",
       " (43547506, 0, ['numpy', 'indexing'], 'Numpy Chain Indexing')]"
      ]
     },
     "execution_count": 48,
     "metadata": {},
     "output_type": "execute_result"
    }
   ],
   "source": [
    "tfidf_stack_result('indexing problem on dataframe')"
   ]
  },
  {
   "cell_type": "code",
   "execution_count": null,
   "id": "73a18d64-6157-4c14-b344-39fe6976705e",
   "metadata": {},
   "outputs": [],
   "source": []
  }
 ],
 "metadata": {
  "kernelspec": {
   "display_name": "Python 3 (ipykernel)",
   "language": "python",
   "name": "python3"
  },
  "language_info": {
   "codemirror_mode": {
    "name": "ipython",
    "version": 3
   },
   "file_extension": ".py",
   "mimetype": "text/x-python",
   "name": "python",
   "nbconvert_exporter": "python",
   "pygments_lexer": "ipython3",
   "version": "3.8.2"
  }
 },
 "nbformat": 4,
 "nbformat_minor": 5
}
